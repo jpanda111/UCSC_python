{
 "cells": [
  {
   "cell_type": "markdown",
   "metadata": {},
   "source": [
    "In this notebook we will discuss the following:\n",
    "\n",
    "1) Operator overloading\n",
    "\n",
    "2) Abstract classes\n",
    "\n",
    "3) class method\n",
    "\n",
    "4) static method\n",
    "\n",
    "5) Proxy design pattern\n",
    "\n",
    "6) Factory design pattern"
   ]
  },
  {
   "cell_type": "markdown",
   "metadata": {},
   "source": [
    "Operator overloading: The assignment of more than one function to a \n",
    "particular operator.\n",
    "\n",
    "More reading material:\n",
    "    \n",
    "https://docs.python.org/2/library/operator.html\n",
    "    \n",
    "http://thepythonguru.com/python-operator-overloading/"
   ]
  },
  {
   "cell_type": "markdown",
   "metadata": {},
   "source": [
    "Question - Let us say we have two vectors (5, 8) and (5, -2) and we want to add them. The answer should be (10, 6). Can we use the addition operator '+' to do this?"
   ]
  },
  {
   "cell_type": "code",
   "execution_count": 1,
   "metadata": {},
   "outputs": [
    {
     "name": "stdout",
     "output_type": "stream",
     "text": [
      "(5, 8, 5, -2)\n"
     ]
    }
   ],
   "source": [
    "'''\n",
    "When we try (5, 8) + (5, -2) we get a tuple (5, 8, 5, -2). which is not what \n",
    "we were expecting. \n",
    "'''\n",
    "a = (5, 8)\n",
    "b = (5, -2) \n",
    "c = a + b\n",
    "print c  # here + gives us a new tuple. Which is not our desired result."
   ]
  },
  {
   "cell_type": "markdown",
   "metadata": {},
   "source": [
    "Solution - To perform above vector addition, we need to give a new meaning to the addition operator. For this, we define an \\__add\\__ method in the class that will automatically get called when instances of the class have to be added using the add, (+) operator. "
   ]
  },
  {
   "cell_type": "code",
   "execution_count": 8,
   "metadata": {},
   "outputs": [
    {
     "name": "stdout",
     "output_type": "stream",
     "text": [
      "Vector (10, 6)\n"
     ]
    }
   ],
   "source": [
    "class Vector(object):\n",
    "    def __init__(self, a, b):\n",
    "        self.a = a\n",
    "        self.b = b\n",
    "\n",
    "    def __str__(self):\n",
    "        return 'Vector (%d, %d)' % (self.a, self.b)\n",
    "   \n",
    "    def __add__(self,other):\n",
    "        return Vector(self.a + other.a, self.b + other.b)\n",
    "    \n",
    "\n",
    "v1 = Vector(5,8)\n",
    "v2 = Vector(5,-2)\n",
    "# when Python interpreter sees + it looks if there is a ___add__ defined in \n",
    "# the class and if it, then that method will be used. \n",
    "# V1 is self, V2 is other\n",
    "# return better to be the same type, in this case is Vector\n",
    "v3 = v1+v2\n",
    "print v3 # redefined __str__ function also"
   ]
  },
  {
   "cell_type": "markdown",
   "metadata": {},
   "source": [
    "Question - How can we notify a class if it fails to implement an important method?\n",
    "\n",
    "Solution - how about we have a parent class that raises a flag whenever a method is not impleremented in the child class? This is a reasonable solution. "
   ]
  },
  {
   "cell_type": "markdown",
   "metadata": {},
   "source": [
    "Abstract classes are used to define a signature that will be implemented \n",
    "by all the classes that inherit it. For example, let us say that two \n",
    "programming groups have to read and write into files but how they read and \n",
    "write method may differ. In such cases we can have read and write method \n",
    "signature in the abstract class and the two groups can inherit from the \n",
    "abstract class and create their own concrete classes.\n",
    "\n",
    "\n",
    "Below is an example of an abstract class without importing any special \n",
    "module\n",
    "\n",
    "Here the abstract class AbstractImage has the methods that consist of \n",
    "signature that all the child classes will inherit. We are raising not \n",
    "implemented error to say that the methods by themselves are not doing \n",
    "anything until implemented by a child class. "
   ]
  },
  {
   "cell_type": "code",
   "execution_count": 9,
   "metadata": {},
   "outputs": [
    {
     "name": "stdout",
     "output_type": "stream",
     "text": [
      "<__main__.AbstractImage object at 0x000000000614EDD8>\n"
     ]
    },
    {
     "ename": "NotImplementedError",
     "evalue": "",
     "output_type": "error",
     "traceback": [
      "\u001b[1;31m\u001b[0m",
      "\u001b[1;31mNotImplementedError\u001b[0mTraceback (most recent call last)",
      "\u001b[1;32m<ipython-input-9-3907af5aabda>\u001b[0m in \u001b[0;36m<module>\u001b[1;34m()\u001b[0m\n\u001b[0;32m      7\u001b[0m \u001b[0mai\u001b[0m \u001b[1;33m=\u001b[0m \u001b[0mAbstractImage\u001b[0m\u001b[1;33m(\u001b[0m\u001b[1;33m)\u001b[0m\u001b[1;33m\u001b[0m\u001b[0m\n\u001b[0;32m      8\u001b[0m \u001b[1;32mprint\u001b[0m \u001b[0mai\u001b[0m\u001b[1;33m\u001b[0m\u001b[0m\n\u001b[1;32m----> 9\u001b[1;33m \u001b[0mai\u001b[0m\u001b[1;33m.\u001b[0m\u001b[0mread\u001b[0m\u001b[1;33m(\u001b[0m\u001b[1;33m)\u001b[0m\u001b[1;33m\u001b[0m\u001b[0m\n\u001b[0m",
      "\u001b[1;32m<ipython-input-9-3907af5aabda>\u001b[0m in \u001b[0;36mread\u001b[1;34m(self)\u001b[0m\n\u001b[0;32m      1\u001b[0m \u001b[1;32mclass\u001b[0m \u001b[0mAbstractImage\u001b[0m\u001b[1;33m(\u001b[0m\u001b[0mobject\u001b[0m\u001b[1;33m)\u001b[0m\u001b[1;33m:\u001b[0m\u001b[1;33m\u001b[0m\u001b[0m\n\u001b[0;32m      2\u001b[0m     \u001b[1;32mdef\u001b[0m \u001b[0mread\u001b[0m\u001b[1;33m(\u001b[0m\u001b[0mself\u001b[0m\u001b[1;33m)\u001b[0m\u001b[1;33m:\u001b[0m\u001b[1;33m\u001b[0m\u001b[0m\n\u001b[1;32m----> 3\u001b[1;33m         \u001b[1;32mraise\u001b[0m \u001b[0mNotImplementedError\u001b[0m\u001b[1;33m(\u001b[0m\u001b[1;33m)\u001b[0m\u001b[1;33m\u001b[0m\u001b[0m\n\u001b[0m\u001b[0;32m      4\u001b[0m     \u001b[1;32mdef\u001b[0m \u001b[0mwrite\u001b[0m\u001b[1;33m(\u001b[0m\u001b[0mself\u001b[0m\u001b[1;33m)\u001b[0m\u001b[1;33m:\u001b[0m\u001b[1;33m\u001b[0m\u001b[0m\n\u001b[0;32m      5\u001b[0m         \u001b[1;32mraise\u001b[0m \u001b[0mNotImplementedError\u001b[0m\u001b[1;33m(\u001b[0m\u001b[1;33m)\u001b[0m\u001b[1;33m\u001b[0m\u001b[0m\n",
      "\u001b[1;31mNotImplementedError\u001b[0m: "
     ]
    }
   ],
   "source": [
    "class AbstractImage(object):\n",
    "    def read(self):\n",
    "        raise NotImplementedError()\n",
    "    def write(self):\n",
    "        raise NotImplementedError()\n",
    "\n",
    "ai = AbstractImage()\n",
    "print ai\n",
    "ai.read()\n",
    "# Abstract class/interface (C++) use to define the uniform rules and raise a flag if violated"
   ]
  },
  {
   "cell_type": "code",
   "execution_count": 11,
   "metadata": {},
   "outputs": [
    {
     "name": "stdout",
     "output_type": "stream",
     "text": [
      "<__main__.Dicom object at 0x00000000063293C8>\n",
      "reading file in the child class\n"
     ]
    }
   ],
   "source": [
    "class AbstractDicom(object):   \n",
    "    def read(self):\n",
    "        raise NotImplementedError()\n",
    "    def write(self):\n",
    "        raise NotImplementedError()\n",
    "    \n",
    "class Dicom(AbstractDicom):\n",
    "    def read(self):\n",
    "        print \"reading file in the child class\"\n",
    "        \n",
    "d = Dicom() # it has parent class which is abstract class\n",
    "print d\n",
    "d.read() # Makes the call to Dicom child class"
   ]
  },
  {
   "cell_type": "markdown",
   "metadata": {},
   "source": [
    "What will happen if make a call to write() method? \n",
    "\n",
    "d.write() \n",
    "\n",
    "First Python makes the call to Dicom child class. But since 'write' method \n",
    "is not implemented in the child class the write method in the parent class \n",
    "will be called and 'NotImplementedError' will be raised. Let's check."
   ]
  },
  {
   "cell_type": "code",
   "execution_count": 13,
   "metadata": {},
   "outputs": [
    {
     "ename": "NotImplementedError",
     "evalue": "",
     "output_type": "error",
     "traceback": [
      "\u001b[1;31m\u001b[0m",
      "\u001b[1;31mNotImplementedError\u001b[0mTraceback (most recent call last)",
      "\u001b[1;32m<ipython-input-13-6e5f8431c25d>\u001b[0m in \u001b[0;36m<module>\u001b[1;34m()\u001b[0m\n\u001b[1;32m----> 1\u001b[1;33m \u001b[0md\u001b[0m\u001b[1;33m.\u001b[0m\u001b[0mwrite\u001b[0m\u001b[1;33m(\u001b[0m\u001b[1;33m)\u001b[0m\u001b[1;33m\u001b[0m\u001b[0m\n\u001b[0m",
      "\u001b[1;32m<ipython-input-11-25decfc23ca6>\u001b[0m in \u001b[0;36mwrite\u001b[1;34m(self)\u001b[0m\n\u001b[0;32m      3\u001b[0m         \u001b[1;32mraise\u001b[0m \u001b[0mNotImplementedError\u001b[0m\u001b[1;33m(\u001b[0m\u001b[1;33m)\u001b[0m\u001b[1;33m\u001b[0m\u001b[0m\n\u001b[0;32m      4\u001b[0m     \u001b[1;32mdef\u001b[0m \u001b[0mwrite\u001b[0m\u001b[1;33m(\u001b[0m\u001b[0mself\u001b[0m\u001b[1;33m)\u001b[0m\u001b[1;33m:\u001b[0m\u001b[1;33m\u001b[0m\u001b[0m\n\u001b[1;32m----> 5\u001b[1;33m         \u001b[1;32mraise\u001b[0m \u001b[0mNotImplementedError\u001b[0m\u001b[1;33m(\u001b[0m\u001b[1;33m)\u001b[0m\u001b[1;33m\u001b[0m\u001b[0m\n\u001b[0m\u001b[0;32m      6\u001b[0m \u001b[1;33m\u001b[0m\u001b[0m\n\u001b[0;32m      7\u001b[0m \u001b[1;32mclass\u001b[0m \u001b[0mDicom\u001b[0m\u001b[1;33m(\u001b[0m\u001b[0mAbstractDicom\u001b[0m\u001b[1;33m)\u001b[0m\u001b[1;33m:\u001b[0m\u001b[1;33m\u001b[0m\u001b[0m\n",
      "\u001b[1;31mNotImplementedError\u001b[0m: "
     ]
    }
   ],
   "source": [
    "d.write() "
   ]
  },
  {
   "cell_type": "code",
   "execution_count": 14,
   "metadata": {},
   "outputs": [
    {
     "name": "stdout",
     "output_type": "stream",
     "text": [
      "<__main__.Dicom object at 0x0000000006161828>\n",
      "reading file\n",
      "writing file\n"
     ]
    }
   ],
   "source": [
    "class AbstractDicom(object):\n",
    "    def read(self):\n",
    "        raise NotImplementedError()\n",
    "    def write(self):\n",
    "        raise NotImplementedError()\n",
    "    \n",
    "class Dicom(AbstractDicom):\n",
    "    def read(self):\n",
    "        print \"reading file\"\n",
    "    def write(self):\n",
    "        print \"writing file\"\n",
    "        \n",
    "d = Dicom()\n",
    "print d\n",
    "d.read() # Makes the call to Dicom child class\n",
    "d.write() # Makes the call to Dicom child class"
   ]
  },
  {
   "cell_type": "code",
   "execution_count": null,
   "metadata": {
    "collapsed": true
   },
   "outputs": [],
   "source": [
    "'''\n",
    "Create an abstract class called 'InterestCal'. Create a child class called \n",
    "'CICal'. The 'CICal' class will inherit the abstract class and implement compound \n",
    "interesst calculator. The formula is finalval = P*(1+(r/n)**(years*n))\n",
    "where n is the number of times the amount is compounded annually.\n",
    "\n",
    "This child class will have three methods:\n",
    "1) __init__ method\n",
    "2) a method called compcal that computes the compound interest \n",
    "3) a method called compout that prints the compounded value.\n",
    "\n",
    "\n",
    "Once all classes have been defined, then call to calculate and print the \n",
    "amount. The user should pass the attributes Principal, years, \n",
    "interestrate, n when the class is instanstiated. \n",
    "\n",
    "Follow the code below:\n",
    "\n",
    "c = CICal(1000,5,6,2) \n",
    "c.compcal()\n",
    "print c.compout()\n",
    "\n",
    "In the above code, the principal amount is 1000, the number of years is 5, \n",
    "the interest rate is 6%, and n = 2. \n",
    "'''\n",
    "\n",
    "class InterestCal(object):\n",
    "    def __init__(self):\n",
    "        raise NonImplementError()\n",
    "    def compcal(self):\n",
    "        raise NonImplementError()\n",
    "    def compout(self):\n",
    "        raise NonImplementError()\n",
    "\n",
    "class CICal(InterestCal):\n",
    "    "
   ]
  },
  {
   "cell_type": "markdown",
   "metadata": {
    "collapsed": true
   },
   "source": [
    "Abstract base classes can be implemented by using a module called abc. \n",
    "Please check these links to learn more:\n",
    "\n",
    "https://pymotw.com/2/abc/\n",
    "\n",
    "https://docs.python.org/2/library/abc.html"
   ]
  },
  {
   "cell_type": "markdown",
   "metadata": {
    "collapsed": true
   },
   "source": [
    "Class methods are methods that are bound to the class itself and not \n",
    "to any object(s).  \n",
    "Class method takes the class itself as the first argument. \n",
    "\n",
    "syntax for class method\n",
    "```\n",
    "@classmethod\n",
    "def name_of_the_method(cls):\n",
    "    statements\n",
    "```\n",
    " \n",
    "Note 1: @classmethod is a decorator. A decorator is a function that takes \n",
    "another function and extends the behavior of the latter function without \n",
    "explicitly modifying it. Decorators provide a simple syntax for calling \n",
    "higher-order functions. The method classmethod takes name_of_the_method as \n",
    "an input and modifies it's behavior.\n",
    "\n",
    "Note 2: cls is analogous to self keyword in instance methods. Here cls is \n",
    "a label for the class itself."
   ]
  },
  {
   "cell_type": "code",
   "execution_count": 18,
   "metadata": {},
   "outputs": [
    {
     "name": "stdout",
     "output_type": "stream",
     "text": [
      "The radius is:  42\n",
      "True\n",
      "The radius is:  42\n",
      "True\n"
     ]
    }
   ],
   "source": [
    "class Cylinder(object):\n",
    "    radius = 42 # class variable in this case\n",
    "    @classmethod # decorator\n",
    "    def print_radius(cls):\n",
    "        print \"The radius is: \", cls.radius # cls -> Cylinder itself and access to class variable\n",
    "        # since we want to print the value of radius we have to say \n",
    "        # cls.radius or Cylinder.radius\n",
    "        return True\n",
    "b = Cylinder.print_radius() # you can call from the class\n",
    "print b\n",
    "\n",
    "p = Cylinder()\n",
    "print p.print_radius() # you can call from the instance\n",
    "\n",
    "# bound method, self always comes first, self.* access to instance variable as well as class variable\n",
    "# class method, cls replace self, only access to class variable\n",
    "# might be useful when you only want to do the class variable"
   ]
  },
  {
   "cell_type": "code",
   "execution_count": 19,
   "metadata": {},
   "outputs": [
    {
     "name": "stdout",
     "output_type": "stream",
     "text": [
      "Vector (13, 3)\n"
     ]
    }
   ],
   "source": [
    "import random\n",
    "\n",
    "class Vector(object):\n",
    "    def __init__(self, a, b):\n",
    "        self.a = a\n",
    "        self.b = b\n",
    "        \n",
    "    @classmethod\n",
    "    def createvec(cls): # cls actually point to itself, so cls is a Vector type\n",
    "        return cls(random.randint(1,10), random.randint(1,10))\n",
    "    # if we do bound method way, we have to specific return Vector type, it might change later.\n",
    "    # def createvec(self):\n",
    "    #    return Vector(...)\n",
    "    def __str__(self):\n",
    "        return 'Vector (%d, %d)' % (self.a, self.b)\n",
    "   \n",
    "    def __add__(self,other):\n",
    "        return Vector(self.a + other.a, self.b + other.b)\n",
    "    \n",
    "\n",
    "v1 = Vector.createvec()\n",
    "v2 = Vector.createvec()\n",
    "print v1+v2"
   ]
  },
  {
   "cell_type": "markdown",
   "metadata": {
    "collapsed": true
   },
   "source": [
    "Staticmethod doesn't take the class (cls) or self as arguments. It is used \n",
    "to define functions that logically belong to the class and are accessible \n",
    "to all the instances of the class."
   ]
  },
  {
   "cell_type": "code",
   "execution_count": null,
   "metadata": {},
   "outputs": [],
   "source": [
    "import math\n",
    "class Cylinder(object):\n",
    "    \n",
    "    @staticmethod\n",
    "    def youChoose():\n",
    "        return \"We can compute area and volume of the cylinder using methods compArea and compVolume\"\n",
    "    \n",
    "    def compArea(self, radius):\n",
    "        Area = math.pi *radius*radius\n",
    "        return Area\n",
    "    \n",
    "    def compVolume(self, radius, height):\n",
    "        volume = math.pi*radius*radius*height\n",
    "        return volume\n",
    "\n",
    "b = Cylinder()\n",
    "print b.youChoose()\n",
    "\n",
    "print b.compArea(10)\n",
    "print b.compVolume(10, 20)\n",
    "\n",
    "# class method bound to class, all the instance and class has the access\n",
    "# bound method bound to instance, all the instance has the access\n",
    "# static method bound to nobody, all the instance has the access"
   ]
  },
  {
   "cell_type": "markdown",
   "metadata": {
    "collapsed": true
   },
   "source": [
    "Accessing a missing attribute:\n",
    "    \n",
    "When we make a call to an attribute that is not defined for an instance then \n",
    "Python will throw an 'AttributeError'."
   ]
  },
  {
   "cell_type": "code",
   "execution_count": null,
   "metadata": {
    "collapsed": true
   },
   "outputs": [],
   "source": [
    "# An example of accessing a missing attribute\n",
    "class United(object):\n",
    "    def __init__(self, name):\n",
    "        self.name = name\n",
    "        \n",
    "u1 = United(\"Joy\")\n",
    "u1.age"
   ]
  },
  {
   "cell_type": "code",
   "execution_count": 26,
   "metadata": {},
   "outputs": [
    {
     "name": "stdout",
     "output_type": "stream",
     "text": [
      "Joy\n",
      "25\n"
     ]
    },
    {
     "data": {
      "text/plain": [
       "['__class__',\n",
       " '__delattr__',\n",
       " '__dict__',\n",
       " '__doc__',\n",
       " '__format__',\n",
       " '__getattribute__',\n",
       " '__hash__',\n",
       " '__init__',\n",
       " '__module__',\n",
       " '__new__',\n",
       " '__reduce__',\n",
       " '__reduce_ex__',\n",
       " '__repr__',\n",
       " '__setattr__',\n",
       " '__sizeof__',\n",
       " '__str__',\n",
       " '__subclasshook__',\n",
       " '__weakref__',\n",
       " 'age',\n",
       " 'name']"
      ]
     },
     "execution_count": 26,
     "metadata": {},
     "output_type": "execute_result"
    }
   ],
   "source": [
    "# Solution - define the attribute in the class so that we don't get an exception\n",
    "\n",
    "class United(object):\n",
    "    def __init__(self, name, age):\n",
    "        self.name = name\n",
    "        self.age = age\n",
    "            \n",
    "u1 = United(\"Joy\", 25)\n",
    "print u1.name\n",
    "print u1.age\n",
    "dir(u1)"
   ]
  },
  {
   "cell_type": "markdown",
   "metadata": {},
   "source": [
    "Can we safely access attributes that are not defined? Yes, we can by using the magic method \\__getattr\\__."
   ]
  },
  {
   "cell_type": "code",
   "execution_count": null,
   "metadata": {
    "collapsed": true
   },
   "outputs": [],
   "source": [
    "class United(object):\n",
    "    def __init__(self, name):\n",
    "        self.name = name\n",
    "        \n",
    "    #def printOut(self):\n",
    "    #    return \"The name is: \", self.name\n",
    "    \n",
    "    def __getattr__(self, attr):\n",
    "        return self.name\n",
    "    \n",
    "u2 = United(\"Joy\")\n",
    "print u2.name\n",
    "print u2.age\n",
    "print dir(United)\n",
    "print u2.printOut"
   ]
  },
  {
   "cell_type": "markdown",
   "metadata": {},
   "source": [
    "Design Pattern is a general repeatable solution to a commonly occurring \n",
    "problem in software design. It is a description or template for how to \n",
    "solve a problem that can be used in many different situations.\n",
    "https://sourcemaking.com/design_patterns\n",
    "\n",
    "Two design patters that we will consider are:\n",
    "    Proxy pattern\n",
    "    Factory pattern"
   ]
  },
  {
   "cell_type": "markdown",
   "metadata": {},
   "source": [
    "Proxy pattern is used when we want to shield access to an object from the\n",
    "outside world. For proxy to work, in addition to the class that you want to \n",
    "shield, you also have to create a proxy class, which will internally create \n",
    "an instance of the shielded class when a certain requirement is satisfied \n",
    "or a request is made.\n",
    "\n",
    "The syntax for Proxy pattern is \n",
    "```\n",
    "class Proxy:\n",
    "    def __init__(self,subject):\n",
    "        self.__subject = subject\n",
    "    def __getattr__(self,name):\n",
    "        return getattr( self.__subject, name )   \n",
    "```"
   ]
  },
  {
   "cell_type": "code",
   "execution_count": 25,
   "metadata": {},
   "outputs": [
    {
     "name": "stdout",
     "output_type": "stream",
     "text": [
      "visitpage <type 'str'>\n",
      "Our site is under maintenance, please visit us later.\n",
      "__dir__ <type 'str'>\n",
      "__members__ <type 'str'>\n",
      "__methods__ <type 'str'>\n"
     ]
    },
    {
     "data": {
      "text/plain": [
       "['__doc__', '__getattr__', '__init__', '__module__', 'implementation']"
      ]
     },
     "execution_count": 25,
     "metadata": {},
     "output_type": "execute_result"
    }
   ],
   "source": [
    "# Proxy Pattern is used when an object has to be shielded from its clients. So code change will not affect existing users\n",
    "\n",
    "class Maintenance:\n",
    "    def visitpage(self):\n",
    "        print \"Our site is under maintenance, please visit us later.\"\n",
    "        \n",
    "class NonMaintenance:\n",
    "    def visitpage(self):\n",
    "        print \"Welcome to the site\"\n",
    "\n",
    "class Proxy:\n",
    "    def __init__(self, maintenanceBool):\n",
    "        if maintenanceBool:\n",
    "            self.implementation = Maintenance() # self.implementation is just a attribute(variable)\n",
    "        else:\n",
    "            self.implementation = NonMaintenance()\n",
    "    def __getattr__(self, name): # . will call the magic method and then name got assigned from the attribute visitpage\n",
    "        print name, type(name)\n",
    "        return getattr(self.implementation, name) # equal to Maintenance.visitpage()\n",
    "\n",
    "MAINTENANCE = True\n",
    "p = Proxy(MAINTENANCE)\n",
    "p.visitpage() # python has __getattr__ method otherwise you have to define all the classes' method in Proxy class\n",
    "dir(p)"
   ]
  },
  {
   "cell_type": "code",
   "execution_count": null,
   "metadata": {},
   "outputs": [],
   "source": [
    "# Factory pattern\n",
    "\n",
    "class Menu(object):\n",
    "    @staticmethod   \n",
    "    # @staticmethod is an decorator\n",
    "    def factory(objtype):\n",
    "        if objtype == 1: \n",
    "            return Burger()\n",
    "        if objtype == 2: \n",
    "            return Fries()\n",
    "        print \"Bad menu choice: \"\n",
    "    \n",
    "class Burger(Menu):\n",
    "    def listitem(self): print(\"Burger\")\n",
    "\n",
    "class Fries(Menu):\n",
    "    def listitem(self): print(\"Fries\")\n",
    "\n",
    "print \"Choose a menu item\"\n",
    "print \"1: Burger, 2: Fries\"\n",
    "\n",
    "choice = int(raw_input('Enter your choice number :'))\n",
    "         \n",
    "f = Menu.factory(choice)\n",
    "if f is not None:\n",
    "    f.listitem()\n",
    "print type(f)\n",
    "# create object/instaniate at run time\n",
    "\n",
    "# you can define factory as a function outside of class\n",
    "# but you cannot make factory, burger, fries auto-related together so you put them within one parent class\n",
    "# what factory does, give raw material and return you an object"
   ]
  },
  {
   "cell_type": "code",
   "execution_count": 20,
   "metadata": {
    "collapsed": true
   },
   "outputs": [],
   "source": [
    "# Action Items\n",
    "# read the operator in python2 : https://docs.python.org/2/library/operator.html; http://thepythonguru.com/python-operator-overloading/\n",
    "# module abc to write abstract class, study it, you don't need to raise error if violated: https://pymotw.com/2/abc/; https://docs.python.org/2/library/abc.html\n",
    "# design patterns: https://sourcemaking.com/design_patterns"
   ]
  }
 ],
 "metadata": {
  "kernelspec": {
   "display_name": "Python 2",
   "language": "python",
   "name": "python2"
  },
  "language_info": {
   "codemirror_mode": {
    "name": "ipython",
    "version": 2
   },
   "file_extension": ".py",
   "mimetype": "text/x-python",
   "name": "python",
   "nbconvert_exporter": "python",
   "pygments_lexer": "ipython2",
   "version": "2.7.14"
  }
 },
 "nbformat": 4,
 "nbformat_minor": 1
}
