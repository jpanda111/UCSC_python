{
 "cells": [
  {
   "cell_type": "markdown",
   "metadata": {},
   "source": [
    "In this notebook we will discuss the following:\n",
    "    \n",
    "1) Input and output functions\n",
    "\n",
    "2) Single and multi-line comments\n",
    "\n",
    "3) Multi line statement\n",
    "\n",
    "4) stdout using print\n",
    "\n",
    "5) formatted printing\n",
    "\n",
    "6) stdin using raw_input\n",
    "\n",
    "7) Reading from and writing to text file\n",
    "\n",
    "8) Changing and obtaining file handler's position in text file"
   ]
  },
  {
   "cell_type": "code",
   "execution_count": 3,
   "metadata": {},
   "outputs": [
    {
     "name": "stdout",
     "output_type": "stream",
     "text": [
      "4\n"
     ]
    }
   ],
   "source": [
    "a = 4\n",
    "print (a) # a simple print statement "
   ]
  },
  {
   "cell_type": "code",
   "execution_count": 4,
   "metadata": {},
   "outputs": [
    {
     "name": "stdout",
     "output_type": "stream",
     "text": [
      "('the value of a is: ', 4)\n"
     ]
    }
   ],
   "source": [
    "print ('the value of a is: ', a)"
   ]
  },
  {
   "cell_type": "code",
   "execution_count": 9,
   "metadata": {},
   "outputs": [
    {
     "name": "stdout",
     "output_type": "stream",
     "text": [
      "the value of a is 4\n"
     ]
    }
   ],
   "source": [
    "print 'the value of a is %d' %a # %d integer, %f float, %s string"
   ]
  },
  {
   "cell_type": "code",
   "execution_count": 10,
   "metadata": {},
   "outputs": [
    {
     "data": {
      "text/plain": [
       "'\\nMultiple line comments should either start and end with three single \\nquotes or start and end with three double quotes.\\n'"
      ]
     },
     "execution_count": 10,
     "metadata": {},
     "output_type": "execute_result"
    }
   ],
   "source": [
    "# Single line comment in Python should start with # \n",
    "\n",
    "'''\n",
    "Multiple line comments should either start and end with three single \n",
    "quotes or start and end with three double quotes.\n",
    "'''\n",
    "# or\n",
    "\n",
    "\"\"\"\n",
    "Multiple line comments should either start and end with three single \n",
    "quotes or start and end with three double quotes.\n",
    "\"\"\""
   ]
  },
  {
   "cell_type": "code",
   "execution_count": 11,
   "metadata": {},
   "outputs": [
    {
     "name": "stdout",
     "output_type": "stream",
     "text": [
      "the value is: 19\n",
      "19\n",
      "20\n"
     ]
    }
   ],
   "source": [
    "'''\n",
    "Multi-line statements can be indicated by '\\' at the end of each line except \n",
    "for the last line\n",
    "\n",
    "total = item_one + \\\n",
    "        item_two + \\\n",
    "        item_three\n",
    "\n",
    "'''\n",
    "a = 4 + \\\n",
    "    5 + \\\n",
    "    10 \n",
    "\n",
    "\n",
    "print ('the value is: %d' %a) # this is an example of a formatted print\n",
    "print (a)\n",
    "print (a + 1)"
   ]
  },
  {
   "cell_type": "code",
   "execution_count": 12,
   "metadata": {},
   "outputs": [
    {
     "name": "stdout",
     "output_type": "stream",
     "text": [
      "APPLE\n"
     ]
    }
   ],
   "source": [
    "# stringA.upper() converts stringA to uppercase\n",
    "a = 'apple'\n",
    "print (a.upper())"
   ]
  },
  {
   "cell_type": "code",
   "execution_count": 13,
   "metadata": {},
   "outputs": [
    {
     "name": "stdout",
     "output_type": "stream",
     "text": [
      "hyderabad\n",
      "Hyderabad\n",
      "banana\n"
     ]
    }
   ],
   "source": [
    "# stringA.lower() converts stringA to lowercase\n",
    "a = 'Hyderabad'\n",
    "print (a.lower())\n",
    "# print (dir(a)) ## check methods can be used for a\n",
    "print (a.title()) ## a is string as an object, and an object has lots of functions\n",
    "\n",
    "b = 'BANANA'\n",
    "print (b.lower())"
   ]
  },
  {
   "cell_type": "code",
   "execution_count": 14,
   "metadata": {},
   "outputs": [
    {
     "name": "stdout",
     "output_type": "stream",
     "text": [
      "san jose and santa clara\n"
     ]
    }
   ],
   "source": [
    "# formatted printing\n",
    "print ('{0} and {1}'.format('san jose','santa clara'))"
   ]
  },
  {
   "cell_type": "code",
   "execution_count": 15,
   "metadata": {},
   "outputs": [
    {
     "ename": "IndexError",
     "evalue": "tuple index out of range",
     "output_type": "error",
     "traceback": [
      "\u001b[1;31m\u001b[0m",
      "\u001b[1;31mIndexError\u001b[0mTraceback (most recent call last)",
      "\u001b[1;32m<ipython-input-15-c0a076588146>\u001b[0m in \u001b[0;36m<module>\u001b[1;34m()\u001b[0m\n\u001b[1;32m----> 1\u001b[1;33m \u001b[1;32mprint\u001b[0m \u001b[1;33m(\u001b[0m\u001b[1;34m'{0} and {1}'\u001b[0m\u001b[1;33m.\u001b[0m\u001b[0mformat\u001b[0m\u001b[1;33m(\u001b[0m\u001b[1;34m'san jose'\u001b[0m\u001b[1;33m)\u001b[0m\u001b[1;33m)\u001b[0m \u001b[1;31m# fails as we need to provide two values\u001b[0m\u001b[1;33m\u001b[0m\u001b[0m\n\u001b[0m",
      "\u001b[1;31mIndexError\u001b[0m: tuple index out of range"
     ]
    }
   ],
   "source": [
    "print ('{0} and {1}'.format('san jose')) # fails as we need to provide two values"
   ]
  },
  {
   "cell_type": "code",
   "execution_count": 16,
   "metadata": {},
   "outputs": [
    {
     "name": "stdout",
     "output_type": "stream",
     "text": [
      "san jose\n"
     ]
    }
   ],
   "source": [
    "print ('{0}'.format('san jose','santa clara'))\n",
    "# the first value in the list will be printed"
   ]
  },
  {
   "cell_type": "code",
   "execution_count": 17,
   "metadata": {},
   "outputs": [
    {
     "name": "stdout",
     "output_type": "stream",
     "text": [
      "San jose and Sacramento\n"
     ]
    }
   ],
   "source": [
    "print ('{nearcity} and {farcity}'.format(farcity='Sacramento',nearcity='San jose'))"
   ]
  },
  {
   "cell_type": "code",
   "execution_count": 18,
   "metadata": {},
   "outputs": [
    {
     "name": "stdout",
     "output_type": "stream",
     "text": [
      "PI = 3.14159, BANANA\n"
     ]
    }
   ],
   "source": [
    "import math \n",
    "print ('PI = %0.5f, %s' %(math.pi, b)) # The () is optional for one input but a must for two inputs"
   ]
  },
  {
   "cell_type": "code",
   "execution_count": 22,
   "metadata": {},
   "outputs": [
    {
     "name": "stdout",
     "output_type": "stream",
     "text": [
      "a = 005 b = 3.250 c = 5.6\n"
     ]
    }
   ],
   "source": [
    "a = 5\n",
    "b = 3.25\n",
    "c = '5.6'\n",
    "print ('a = %03d b = %0.3f c = %s' %(a,b,c))"
   ]
  },
  {
   "cell_type": "code",
   "execution_count": 24,
   "metadata": {},
   "outputs": [
    {
     "name": "stdout",
     "output_type": "stream",
     "text": [
      "Enter a name : dd\n",
      "dd\n"
     ]
    }
   ],
   "source": [
    "'''\n",
    "raw_input() gets input from the command line.\n",
    "In this example, we are getting the input from the user and assigning it \n",
    "to variable s.\n",
    "'''\n",
    "s = raw_input('Enter a name : ')\n",
    "print (s)"
   ]
  },
  {
   "cell_type": "code",
   "execution_count": 26,
   "metadata": {},
   "outputs": [
    {
     "ename": "TypeError",
     "evalue": "cannot concatenate 'str' and 'int' objects",
     "output_type": "error",
     "traceback": [
      "\u001b[1;31m\u001b[0m",
      "\u001b[1;31mTypeError\u001b[0mTraceback (most recent call last)",
      "\u001b[1;32m<ipython-input-26-26bfc20d9562>\u001b[0m in \u001b[0;36m<module>\u001b[1;34m()\u001b[0m\n\u001b[0;32m      1\u001b[0m \u001b[0ma\u001b[0m \u001b[1;33m=\u001b[0m \u001b[1;34m'r'\u001b[0m\u001b[1;33m\u001b[0m\u001b[0m\n\u001b[0;32m      2\u001b[0m \u001b[0mb\u001b[0m \u001b[1;33m=\u001b[0m \u001b[1;36m2\u001b[0m \u001b[1;31m#str(2)\u001b[0m\u001b[1;33m\u001b[0m\u001b[0m\n\u001b[1;32m----> 3\u001b[1;33m \u001b[1;32mprint\u001b[0m \u001b[1;33m(\u001b[0m\u001b[0ma\u001b[0m\u001b[1;33m+\u001b[0m\u001b[0mb\u001b[0m\u001b[1;33m)\u001b[0m \u001b[1;31m# no assumptions , will have error if add two types together, python will not convert the lower type to upper type for you\u001b[0m\u001b[1;33m\u001b[0m\u001b[0m\n\u001b[0m",
      "\u001b[1;31mTypeError\u001b[0m: cannot concatenate 'str' and 'int' objects"
     ]
    }
   ],
   "source": [
    "a = 'r'\n",
    "b = 2 #str(2)\n",
    "print (a+b) # no assumptions , will have error if add two types together, python will not convert the lower type to upper type for you"
   ]
  },
  {
   "cell_type": "code",
   "execution_count": 28,
   "metadata": {},
   "outputs": [
    {
     "name": "stdout",
     "output_type": "stream",
     "text": [
      "r 2\n"
     ]
    }
   ],
   "source": [
    "'''\n",
    "In-class activity: Can you insert a space between r and 2? If yes, then implement it. \n",
    "'''\n",
    "c = ' '\n",
    "b = str(2)\n",
    "print (a+c+b)"
   ]
  },
  {
   "cell_type": "code",
   "execution_count": 29,
   "metadata": {},
   "outputs": [
    {
     "name": "stdout",
     "output_type": "stream",
     "text": [
      "Enter an integer greater than 50: 66\n",
      "('66', <type 'str'>)\n",
      "(66, <type 'int'>)\n"
     ]
    }
   ],
   "source": [
    "'''\n",
    "In-class activity: Can you ask the user to enter an integer greater than 50. \n",
    "Then print the value and also its type.\n",
    "'''\n",
    "i = raw_input('Enter an integer greater than 50: ') ## user input will be string, you have to convert it to integer yourself\n",
    "print(i, type(i))\n",
    "j = int(i)\n",
    "print(j, type(j))"
   ]
  },
  {
   "cell_type": "code",
   "execution_count": null,
   "metadata": {
    "collapsed": true
   },
   "outputs": [],
   "source": [
    "'''\n",
    "Note - Go to for-loop iPython notebook. \n",
    "'''"
   ]
  },
  {
   "cell_type": "code",
   "execution_count": 30,
   "metadata": {},
   "outputs": [
    {
     "name": "stdout",
     "output_type": "stream",
     "text": [
      "dogs\n",
      "\n",
      "frogs\n",
      "\n",
      "\n",
      "bogs\n",
      "\n",
      "logs\n",
      "\n",
      "\n",
      "\n",
      "lots\n"
     ]
    }
   ],
   "source": [
    "# f is a filehandler\n",
    "f = open('python_list.txt')\n",
    "# readlines reads one line at a time from the file\n",
    "# Syntax filehandle.readlines()\n",
    "for line in f.readlines():\n",
    "    print line.strip() \n",
    "# strip removes newline, carriage return, space etc at the beginning and \n",
    "# at the end of the line\n",
    "f.close()"
   ]
  },
  {
   "cell_type": "code",
   "execution_count": 31,
   "metadata": {},
   "outputs": [
    {
     "name": "stdout",
     "output_type": "stream",
     "text": [
      "dogs\n",
      "frogs\n",
      "bogs\n",
      "logs\n",
      "lots\n"
     ]
    }
   ],
   "source": [
    "# f is a filehandler\n",
    "f = open('python_list.txt')\n",
    "# readlines reads one line at a time from the file\n",
    "# Syntax filehandle.readlines()\n",
    "for line in f.readlines():\n",
    "    cleanedline = line.strip() \n",
    "    if cleanedline:\n",
    "        print cleanedline\n",
    "f.close()"
   ]
  },
  {
   "cell_type": "code",
   "execution_count": 40,
   "metadata": {},
   "outputs": [
    {
     "name": "stdout",
     "output_type": "stream",
     "text": [
      "['dogs\\n', '\\n', 'frogs\\n', '\\n', '\\n', 'bogs\\n', '\\n', 'logs\\n', '\\n', '\\n', '\\n', 'lots\\n']\n"
     ]
    }
   ],
   "source": [
    "fo = open('python_list.txt', 'r')\n",
    "print fo.readlines()\n",
    "\n",
    "# fo.readlines is a list of string where each item in the list is a string.\n",
    "\n",
    "# Why does the for-loop not produce any output ??? fo.readlines position already at the end line of file\n",
    "for items in fo.readlines():\n",
    "    print 'inside for-loop',items\n",
    "fo.close()"
   ]
  },
  {
   "cell_type": "code",
   "execution_count": 43,
   "metadata": {},
   "outputs": [
    {
     "name": "stdout",
     "output_type": "stream",
     "text": [
      "dogs\n",
      "\n",
      "\n",
      "\n",
      "frogs\n",
      "\n",
      "\n",
      "\n",
      "\n",
      "\n",
      "bogs\n",
      "\n",
      "\n",
      "\n",
      "logs\n",
      "\n",
      "\n",
      "\n",
      "\n",
      "\n",
      "\n",
      "\n",
      "lots\n",
      "\n",
      "45\n"
     ]
    }
   ],
   "source": [
    "# tell() returns the current position within the file. \n",
    "fo = open('python_list.txt', 'r')\n",
    "for items in fo.readlines():\n",
    "    print items\n",
    "print fo.tell()\n",
    "\n",
    "#fo.close()"
   ]
  },
  {
   "cell_type": "markdown",
   "metadata": {},
   "source": [
    "seek() changes the current file position\n",
    "syntax - \n",
    "```\n",
    "filehandler.seek(offset, position)\n",
    "```\n",
    "\n",
    "The number of bytes to be moved is given in offset argument.\n",
    "In the position argument the bytes are to be moved is given.\n",
    "position = 0, means the reference position is the beginning of the file\n",
    "position = 1, means the reference position is the current position \n",
    "position = 2, means the reference position is the end of the file"
   ]
  },
  {
   "cell_type": "code",
   "execution_count": 46,
   "metadata": {},
   "outputs": [
    {
     "name": "stdout",
     "output_type": "stream",
     "text": [
      "1\n",
      "ogs\n",
      "\n",
      "\n"
     ]
    }
   ],
   "source": [
    "fo.seek(3,1) # current position + 3 = 45+3\n",
    "print fo.tell() \n",
    "print fo.read(5) \n",
    "\n",
    "fo.seek(1,0)# position back to 0+1 = 1\n",
    "print fo.tell()\n",
    "print fo.read(5) # read 5 from current position\n",
    "\n",
    "fo.seek(1,2)# end position + 1 = 46\n",
    "print fo.tell()\n",
    "print fo.read(3)"
   ]
  },
  {
   "cell_type": "code",
   "execution_count": 5,
   "metadata": {},
   "outputs": [
    {
     "name": "stdout",
     "output_type": "stream",
     "text": [
      "0\n",
      "dogs\n",
      "\n",
      "\n",
      "\n",
      "frogs\n",
      "\n",
      "\n",
      "\n",
      "\n",
      "\n",
      "bogs\n",
      "\n",
      "\n",
      "\n",
      "logs\n",
      "\n",
      "\n",
      "\n",
      "\n",
      "\n",
      "\n",
      "\n",
      "lots\n",
      "\n"
     ]
    }
   ],
   "source": [
    "fo.seek(0,0)\n",
    "print fo.tell()\n",
    "for i in fo.readlines():\n",
    "    print i"
   ]
  },
  {
   "cell_type": "code",
   "execution_count": 47,
   "metadata": {},
   "outputs": [
    {
     "name": "stdout",
     "output_type": "stream",
     "text": [
      "<open file 'python_list1.txt', mode 'w+' at 0x00000000075C7ED0>\n",
      "1,2,3\n",
      "a,b,c\n"
     ]
    }
   ],
   "source": [
    "# Writing a file\n",
    "fo = open('python_list1.txt', 'w+') \n",
    "# here the text file is opened in write and read mode. \n",
    "fo.writelines('1,2,3\\n')\n",
    "fo.writelines('a,b,c\\n')\n",
    "print fo\n",
    "fo.close()\n",
    "\n",
    "fo = open('python_list1.txt', 'r')\n",
    "for items in fo.readlines():\n",
    "    print items.strip()\n",
    "fo.close()"
   ]
  },
  {
   "cell_type": "code",
   "execution_count": 48,
   "metadata": {},
   "outputs": [
    {
     "name": "stdout",
     "output_type": "stream",
     "text": [
      "<open file 'python_list1.txt', mode 'a' at 0x00000000075C7ED0>\n",
      "1,2,3\n",
      "a,b,c\n",
      "little puppy\n",
      "cute cub\n"
     ]
    }
   ],
   "source": [
    "# appending to a file\n",
    "fo = open('python_list1.txt','a') \n",
    "# here the text file is opened in append mode\n",
    "fo.writelines('little puppy\\n')\n",
    "fo.writelines('cute cub \\n')\n",
    "print fo\n",
    "fo.close()\n",
    "\n",
    "fo = open('python_list1.txt','a+')\n",
    "for items in fo.readlines():\n",
    "    print items.strip()\n",
    "fo.close()"
   ]
  },
  {
   "cell_type": "markdown",
   "metadata": {},
   "source": [
    "The with keyword is called the context manager.\n",
    "It will close the file whether or not there is an exception."
   ]
  },
  {
   "cell_type": "code",
   "execution_count": 49,
   "metadata": {},
   "outputs": [
    {
     "name": "stdout",
     "output_type": "stream",
     "text": [
      "1,2,3\n",
      "a,b,c\n",
      "little puppy\n",
      "cute cub\n"
     ]
    }
   ],
   "source": [
    "with open('python_list1.txt', 'r') as fo:\n",
    "    for items in fo.readlines():\n",
    "        print items.strip()\n",
    "# close does not have to be called exclusively "
   ]
  },
  {
   "cell_type": "code",
   "execution_count": 50,
   "metadata": {},
   "outputs": [
    {
     "name": "stdout",
     "output_type": "stream",
     "text": [
      "California\n",
      "\n",
      "Texas\n",
      "\n",
      "Florida\n",
      "\n",
      "Washington\n",
      "\n"
     ]
    }
   ],
   "source": [
    "'''\n",
    "In-class activity: Create a txt file and write names of 4 states and close \n",
    "the file. Then open the file and print each line. \n",
    "'''\n",
    "fo = open(\"test.txt\",\"w+\") \n",
    "fo.writelines('California\\n')\n",
    "fo.writelines('Texas\\n')\n",
    "fo.writelines('Florida\\n')\n",
    "fo.writelines('Washington\\n')\n",
    "fo.close()\n",
    "fo = open(\"test.txt\",\"r\")\n",
    "for items in fo.readlines():\n",
    "    print items\n"
   ]
  },
  {
   "cell_type": "code",
   "execution_count": 51,
   "metadata": {},
   "outputs": [
    {
     "data": {
      "text/plain": [
       "'\\nInstead of Python 2.7 raw_input(), in Python 3, you should use input().\\n'"
      ]
     },
     "execution_count": 51,
     "metadata": {},
     "output_type": "execute_result"
    }
   ],
   "source": [
    "'''\n",
    "Instead of Python 2.7 raw_input(), in Python 3, you should use input().\n",
    "'''"
   ]
  },
  {
   "cell_type": "code",
   "execution_count": 58,
   "metadata": {},
   "outputs": [
    {
     "name": "stdout",
     "output_type": "stream",
     "text": [
      "[0, 3, 5, 6, 9, 10, 12, 15, 18, 20, 21, 24, 25, 27, 30, 33, 35, 36, 39, 40, 42, 45, 48, 50, 51, 54, 55, 57, 60, 63, 65, 66, 69, 70, 72, 75, 78, 80, 81, 84, 85, 87, 90, 93, 95, 96, 99, 100, 102, 105, 108, 110, 111, 114, 115, 117, 120, 123, 125, 126, 129, 130, 132, 135, 138, 140, 141, 144, 145, 147, 150, 153, 155, 156, 159, 160, 162, 165, 168, 170, 171, 174, 175, 177, 180, 183, 185, 186, 189, 190, 192, 195, 198, 200, 201, 204, 205, 207, 210, 213, 215, 216, 219, 220, 222, 225, 228, 230, 231, 234, 235, 237, 240, 243, 245, 246, 249, 250, 252, 255, 258, 260, 261, 264, 265, 267, 270, 273, 275, 276, 279, 280, 282, 285, 288, 290, 291, 294, 295, 297, 300, 303, 305, 306, 309, 310, 312, 315, 318, 320, 321, 324, 325, 327, 330, 333, 335, 336, 339, 340, 342, 345, 348, 350, 351, 354, 355, 357, 360, 363, 365, 366, 369, 370, 372, 375, 378, 380, 381, 384, 385, 387, 390, 393, 395, 396, 399, 400, 402, 405, 408, 410, 411, 414, 415, 417, 420, 423, 425, 426, 429, 430, 432, 435, 438, 440, 441, 444, 445, 447, 450, 453, 455, 456, 459, 460, 462, 465, 468, 470, 471, 474, 475, 477, 480, 483, 485, 486, 489, 490, 492, 495, 498, 500, 501, 504, 505, 507, 510, 513, 515, 516, 519, 520, 522, 525, 528, 530, 531, 534, 535, 537, 540, 543, 545, 546, 549, 550, 552, 555, 558, 560, 561, 564, 565, 567, 570, 573, 575, 576, 579, 580, 582, 585, 588, 590, 591, 594, 595, 597, 600, 603, 605, 606, 609, 610, 612, 615, 618, 620, 621, 624, 625, 627, 630, 633, 635, 636, 639, 640, 642, 645, 648, 650, 651, 654, 655, 657, 660, 663, 665, 666, 669, 670, 672, 675, 678, 680, 681, 684, 685, 687, 690, 693, 695, 696, 699, 700, 702, 705, 708, 710, 711, 714, 715, 717, 720, 723, 725, 726, 729, 730, 732, 735, 738, 740, 741, 744, 745, 747, 750, 753, 755, 756, 759, 760, 762, 765, 768, 770, 771, 774, 775, 777, 780, 783, 785, 786, 789, 790, 792, 795, 798, 800, 801, 804, 805, 807, 810, 813, 815, 816, 819, 820, 822, 825, 828, 830, 831, 834, 835, 837, 840, 843, 845, 846, 849, 850, 852, 855, 858, 860, 861, 864, 865, 867, 870, 873, 875, 876, 879, 880, 882, 885, 888, 890, 891, 894, 895, 897, 900, 903, 905, 906, 909, 910, 912, 915, 918, 920, 921, 924, 925, 927, 930, 933, 935, 936, 939, 940, 942, 945, 948, 950, 951, 954, 955, 957, 960, 963, 965, 966, 969, 970, 972, 975, 978, 980, 981, 984, 985, 987, 990, 993, 995, 996, 999]\n"
     ]
    },
    {
     "data": {
      "text/plain": [
       "233168"
      ]
     },
     "execution_count": 58,
     "metadata": {},
     "output_type": "execute_result"
    }
   ],
   "source": [
    "l = [i for i in xrange(1000) if i%3 == 0 or i%5 ==0]\n",
    "print l\n",
    "sum(l)"
   ]
  },
  {
   "cell_type": "code",
   "execution_count": null,
   "metadata": {},
   "outputs": [],
   "source": []
  }
 ],
 "metadata": {
  "anaconda-cloud": {},
  "kernelspec": {
   "display_name": "Python 2",
   "language": "python",
   "name": "python2"
  },
  "language_info": {
   "codemirror_mode": {
    "name": "ipython",
    "version": 2
   },
   "file_extension": ".py",
   "mimetype": "text/x-python",
   "name": "python",
   "nbconvert_exporter": "python",
   "pygments_lexer": "ipython2",
   "version": "2.7.14"
  }
 },
 "nbformat": 4,
 "nbformat_minor": 1
}
