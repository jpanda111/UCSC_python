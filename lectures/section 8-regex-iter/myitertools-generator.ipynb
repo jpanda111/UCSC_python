{
 "cells": [
  {
   "cell_type": "code",
   "execution_count": null,
   "metadata": {},
   "outputs": [],
   "source": [
    "'''\n",
    "Itertools - are used for memory efficiency. \n",
    "\n",
    "Check the following links:\n",
    "\n",
    "https://docs.python.org/2/library/itertools.html\n",
    "http://pymotw.com/2/itertools/\n",
    "'''"
   ]
  },
  {
   "cell_type": "code",
   "execution_count": 7,
   "metadata": {},
   "outputs": [
    {
     "name": "stdout",
     "output_type": "stream",
     "text": [
      "[1, 2, 3, 4, 5, 6, 'a', 'b', 'c', 'd', 'f', 'g']\n",
      "<itertools.chain object at 0x0000000006CC38D0>\n",
      "1 2 3 4 5 6 a b c d f g a b c d f g 1 2 3 4 5 6 a b c d f g  \n",
      "<itertools.chain object at 0x0000000006CC37B8>\n"
     ]
    }
   ],
   "source": [
    "import itertools\n",
    "list1 = [1,2,3,4,5,6]\n",
    "list2 = ['a','b','c','d','f','g']\n",
    "# chain() function takes several iterators as arguments and returns a single \n",
    "# iterator that produces the contents of all of them as though they came from a single sequence\n",
    "list1.extend(list2)\n",
    "print(list1) # double memory you needed.\n",
    "print itertools.chain(list1,list2) # only contain the instruction but do not create object right away.\n",
    "ch1 = itertools.chain(list1,list2, list1) # you can put as many as arguments you want\n",
    "for v in ch1:\n",
    "    print v, # , make it print horizontally\n",
    "# python3 print(v, endwith=\",\")\n",
    "print(\" \")\n",
    "print(ch1) \n",
    "# it is not re-usable, since once you loop through, you will be end of the iterations\n",
    "for v in ch1:\n",
    "    print v,"
   ]
  },
  {
   "cell_type": "code",
   "execution_count": 8,
   "metadata": {},
   "outputs": [
    {
     "name": "stdout",
     "output_type": "stream",
     "text": [
      "(1, 'a') (2, 'b') (3, 'c') (4, 'd') (5, 'f') (6, 'g')\n"
     ]
    }
   ],
   "source": [
    "# izip() function takes several iterators and combines their elements into tuples.\n",
    "for v in itertools.izip(list1,list2):\n",
    "    print v,"
   ]
  },
  {
   "cell_type": "code",
   "execution_count": 17,
   "metadata": {},
   "outputs": [
    {
     "name": "stdout",
     "output_type": "stream",
     "text": [
      "(1, 'e') (2, 'o')  \n",
      "(1, 'e', 'a') (2, 'o', 'b') \n",
      "list 2\n",
      "['a', 'b', 'c', 'd', 'f', 'g']\n",
      "list 1\n",
      "[1, 2, 3, 4, 5, 6, 'a', 'b', 'c', 'd', 'f', 'g']\n",
      "<itertools.izip object at 0x0000000006CD9208>\n",
      "(1, 'a', 'a') (2, 'b', 'b') (3, 'c', 'c') (4, 'd', 'd') (5, 'f', 'f') (6, 'g', 'g')\n"
     ]
    }
   ],
   "source": [
    "list3 = ['e','o']\n",
    "# will return shortest length, you may lose element without notice!!\n",
    "for v in itertools.izip(list1,list3):\n",
    "    print v,\n",
    "print (\" \")\n",
    "for v in itertools.izip(list1,list3,list2):\n",
    "    print v,\n",
    "# python3 itertools.izip to zip\n",
    "print \"\\nlist 2\"\n",
    "print list2\n",
    "print \"list 1\"\n",
    "print list1\n",
    "c=itertools.izip(list1,list2,itertools.chain(list2,list1))\n",
    "print c\n",
    "for v in c:\n",
    "    print v,"
   ]
  },
  {
   "cell_type": "code",
   "execution_count": 10,
   "metadata": {},
   "outputs": [
    {
     "name": "stdout",
     "output_type": "stream",
     "text": [
      "<itertools.izip object at 0x0000000006CCD848>\n",
      "(1, 'a') (2, 'b') (3, 'c') (4, 'd') (5, 'f') (6, 'g')\n"
     ]
    }
   ],
   "source": [
    "# allows us to combine two lists\n",
    "c = itertools.izip(list1,list2)\n",
    "# here c is an iterator\n",
    "print c\n",
    "for v in c:\n",
    "    print v,"
   ]
  },
  {
   "cell_type": "code",
   "execution_count": 19,
   "metadata": {},
   "outputs": [
    {
     "name": "stdout",
     "output_type": "stream",
     "text": [
      "list2\n",
      "['a', 'b', 'c', 'd', 'f', 'g']\n",
      "a b\n"
     ]
    }
   ],
   "source": [
    "# islice() function returns an iterator which returns slected items from the \n",
    "# input iterator based on index. We are slicing through list2 and want to \n",
    "# stop when we hit the second item.\n",
    "print 'list2'\n",
    "print list2\n",
    "for v in itertools.islice(list2, 2): \n",
    "    print v,"
   ]
  },
  {
   "cell_type": "code",
   "execution_count": 20,
   "metadata": {},
   "outputs": [
    {
     "name": "stdout",
     "output_type": "stream",
     "text": [
      "c d\n"
     ]
    }
   ],
   "source": [
    "for v in itertools.islice(list2, 2, 4): \n",
    "    print v,"
   ]
  },
  {
   "cell_type": "code",
   "execution_count": 24,
   "metadata": {},
   "outputs": [
    {
     "name": "stdout",
     "output_type": "stream",
     "text": [
      "list2\n",
      "['a', 'b', 'c', 'd', 'f', 'g']\n",
      "<itertools.tee object at 0x0000000006CD96C8> <itertools.tee object at 0x0000000006CD9608>\n",
      "a b c d f g\n",
      "a b c d f g \n",
      "create 3 copies of iterator c\n",
      "<itertools.tee object at 0x0000000006CD9288>\n",
      "<itertools.tee object at 0x0000000006CD93C8>\n",
      "<itertools.tee object at 0x0000000006CD9708>\n"
     ]
    }
   ],
   "source": [
    "# tee(list,number) function returns several independent iterators \n",
    "# (default number is 2) based on a single original input. In the following \n",
    "# example we use tee function to create two copies of list2.\n",
    "print 'list2'\n",
    "print list2\n",
    "t1,t2 = itertools.tee(list2)\n",
    "\n",
    "print t1,t2\n",
    "for v in t1:\n",
    "    print v,\n",
    "print\n",
    "for v in t2:\n",
    "    print v,\n",
    "\n",
    "print \"\\ncreate 3 copies of iterator c\"\n",
    "t1,t2,t3=itertools.tee(c,3)\n",
    "print t1\n",
    "print t2\n",
    "print t3"
   ]
  },
  {
   "cell_type": "code",
   "execution_count": null,
   "metadata": {},
   "outputs": [],
   "source": [
    "# Creates three copies of list2\n",
    "t1,t2,t3 = itertools.tee(list2,3) \n",
    "# for two copies you don't need to specify number of copies\n",
    "print t1,t2,t3\n",
    "for v in t1:\n",
    "    print v,\n",
    "print \n",
    "for v in t3:\n",
    "    print v,"
   ]
  },
  {
   "cell_type": "code",
   "execution_count": null,
   "metadata": {},
   "outputs": [],
   "source": [
    "# imap() function assigns elements from the input iterator(s) to a mapping \n",
    "# function and returns the results.\n",
    "for v in itertools.imap(lambda x:2*x, list1):\n",
    "    print v,"
   ]
  },
  {
   "cell_type": "code",
   "execution_count": null,
   "metadata": {},
   "outputs": [],
   "source": [
    "# starmap function is similar to imap, but instead of constructing a tuple \n",
    "# from multiple iterators, it splits up the terms in a single iterator and \n",
    "# assigns them as arguments to the mapping function that uses the * operation.\n",
    "c = [(0, 5), (1, 6), (2, 7), (3, 8), (4, 9)]\n",
    "for i in itertools.starmap(lambda x,y:(x, y, x*y),c ):\n",
    "    print  i,"
   ]
  },
  {
   "cell_type": "code",
   "execution_count": 3,
   "metadata": {},
   "outputs": [
    {
     "name": "stdout",
     "output_type": "stream",
     "text": [
      "Even number: -2\n",
      "Even number: 2\n",
      "Even number: 8\n",
      "Even number: -10\n"
     ]
    }
   ],
   "source": [
    "# ifilter() returns an iterator that works similar to the filter()\n",
    "def checkeven(x):\n",
    "    return (x%2==0)\n",
    "\n",
    "for i in itertools.ifilter(checkeven, [ -2, 1, 2, 5, 8, -10 ]):\n",
    "    print 'Even number:', i"
   ]
  },
  {
   "cell_type": "code",
   "execution_count": null,
   "metadata": {
    "collapsed": true
   },
   "outputs": [],
   "source": [
    "'''\n",
    "In-class activity\n",
    "\n",
    "You are given a dictionary dict1 = {1:'a',2:'c',3:'d'}\n",
    "You need to convert this into an iterator with multiple tuples \n",
    "in it and print \n",
    "(1, 'a')\n",
    "(2, 'c')\n",
    "(3, 'd')\n",
    "'''"
   ]
  },
  {
   "cell_type": "code",
   "execution_count": null,
   "metadata": {},
   "outputs": [],
   "source": [
    "'''\n",
    "Creating generators - so far we have see functions that return a single value. \n",
    "But sometimes we might want functions that yield a series of values. In an \n",
    "ordinary function, a return statement will return the control of execution \n",
    "to the point where the function was called. An yield statement means that \n",
    "the transfer of control is temporary and voluntary, and our function expects \n",
    "to regain it in the future.\n",
    "\n",
    "http://www.jeffknupp.com/blog/2013/04/07/improve-your-python-yield-and-generators-explained/\n",
    "\n",
    "'''"
   ]
  },
  {
   "cell_type": "code",
   "execution_count": null,
   "metadata": {},
   "outputs": [],
   "source": [
    "# Example of a simple generator\n",
    "def simple_generator():\n",
    "    yield 1\n",
    "    yield 2\n",
    "    yield 3\n",
    "    \n",
    "\n",
    "for item in simple_generator():\n",
    "    print item"
   ]
  },
  {
   "cell_type": "code",
   "execution_count": null,
   "metadata": {},
   "outputs": [],
   "source": [
    "# Check out the inner working of this using pythontutor.com\n",
    "def myiter(iters):\n",
    "    for i in iters:\n",
    "        print \"before \",i\n",
    "        yield i*i*i\n",
    "        # Statements after yield is executed\n",
    "        print \"after \",i\n",
    "        j = i+21\n",
    "        yield j\n",
    "        \n",
    "for items in myiter(xrange(2)):\n",
    "    print \"inside for-loop\",items"
   ]
  },
  {
   "cell_type": "code",
   "execution_count": null,
   "metadata": {},
   "outputs": [],
   "source": [
    "def squared_generator(listofnumbers):\n",
    "    for items in listofnumbers:\n",
    "        yield items*items\n",
    "        \n",
    "print squared_generator([5, 6, 7, 8])\n",
    "\n",
    "for items in squared_generator([5, 6, 7, 8]):\n",
    "    print items,"
   ]
  },
  {
   "cell_type": "code",
   "execution_count": null,
   "metadata": {},
   "outputs": [],
   "source": [
    "# Generator expressions (some refer to it as generator comprehension) \n",
    "# are high performance, memory efficient generalization of list comprehensions and generators.\n",
    "\n",
    "gen = (x*x for x in range(1,16))\n",
    "print gen\n",
    "\n",
    "for i in gen:\n",
    "    print i,"
   ]
  },
  {
   "cell_type": "code",
   "execution_count": null,
   "metadata": {
    "collapsed": true
   },
   "outputs": [],
   "source": [
    "'''\n",
    "\n",
    "Iterator is a generalization of generator. Hence a generator is a iterator but not \n",
    "all iterators are generators. \n",
    "\n",
    "Syntactically, a generator uses yield keyword inside any function while an \n",
    "iterator uses __iter__() function.  The __iter__() is called when the objects is called\n",
    "in a loop. The __iter__() function may or may not use yield keyword to return.\n",
    "\n",
    "'''"
   ]
  },
  {
   "cell_type": "code",
   "execution_count": null,
   "metadata": {},
   "outputs": [],
   "source": [
    "class SquareIter(object):\n",
    "    def __init__(self, iterobj):\n",
    "        self.iterobj = iterobj\n",
    "        self.count = 0\n",
    "        \n",
    "    def __iter__(self):\n",
    "        return self\n",
    "    \n",
    "    # In Python 3, use __next__()\n",
    "    def next(self):        \n",
    "        if self.count >= len(self.iterobj):\n",
    "            raise StopIteration\n",
    "        else:\n",
    "            val = self.iterobj[self.count]\n",
    "            self.count += 1\n",
    "            return val*val\n",
    "       \n",
    "si = SquareIter([5, 6, 7, 8])\n",
    "for i in si:\n",
    "    print i,\n"
   ]
  },
  {
   "cell_type": "code",
   "execution_count": null,
   "metadata": {},
   "outputs": [],
   "source": [
    "'''\n",
    "In-class activity - \n",
    "\n",
    "You are given a dictionary dict1 = {1:'a',2:'c',3:'d'}\n",
    "You need to convert this into an generator with multiple tuples in it and print \n",
    "(1, 'a')\n",
    "(2, 'c')\n",
    "(3, 'd')\n",
    "\n",
    "'''"
   ]
  },
  {
   "cell_type": "code",
   "execution_count": null,
   "metadata": {
    "collapsed": true
   },
   "outputs": [],
   "source": []
  }
 ],
 "metadata": {
  "kernelspec": {
   "display_name": "Python 2",
   "language": "python",
   "name": "python2"
  },
  "language_info": {
   "codemirror_mode": {
    "name": "ipython",
    "version": 2
   },
   "file_extension": ".py",
   "mimetype": "text/x-python",
   "name": "python",
   "nbconvert_exporter": "python",
   "pygments_lexer": "ipython2",
   "version": "2.7.14"
  }
 },
 "nbformat": 4,
 "nbformat_minor": 1
}
