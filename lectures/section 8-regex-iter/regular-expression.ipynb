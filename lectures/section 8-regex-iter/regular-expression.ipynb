{
 "cells": [
  {
   "cell_type": "markdown",
   "metadata": {},
   "source": [
    "A regular expression is a text matching pattern that is described in a \n",
    "specialized syntax. The pattern has instructions, which are executed with a \n",
    "string as an input to produce a matching subset. The Python module to perform \n",
    "regular expression is re. Typically, re is used to match or find strings.\n",
    "\n",
    "Visit the following sites to learn more\n",
    "\n",
    "http://pymotw.com/2/re/\n",
    "    \n",
    "http://www.thegeekstuff.com/2014/07/python-regex-examples/\n",
    "    \n",
    "http://www.diveintopython.net/regular_expressions/\n",
    "    \n",
    "https://docs.python.org/2/library/re.html"
   ]
  },
  {
   "cell_type": "code",
   "execution_count": 1,
   "metadata": {},
   "outputs": [],
   "source": [
    "import re"
   ]
  },
  {
   "cell_type": "code",
   "execution_count": 4,
   "metadata": {},
   "outputs": [
    {
     "name": "stdout",
     "output_type": "stream",
     "text": [
      "<_sre.SRE_Match object at 0x000000000609E850>\n",
      "There is a match\n"
     ]
    }
   ],
   "source": [
    "patterns = 'and'\n",
    "text = 'Python is a dynamically typed language and also has a simple syntax'\n",
    "print re.search(patterns, text) # return object if true otherwise return None\n",
    "if re.search(patterns, text):\n",
    "    print 'There is a match'\n",
    "else:\n",
    "    print 'Found no match'"
   ]
  },
  {
   "cell_type": "code",
   "execution_count": 5,
   "metadata": {},
   "outputs": [
    {
     "name": "stdout",
     "output_type": "stream",
     "text": [
      "None\n",
      "Found no match\n"
     ]
    }
   ],
   "source": [
    "patterns = 'or'\n",
    "text = 'Python is a dynamically typed language and also has a simple syntax'\n",
    "print re.search(patterns, text)\n",
    "if re.search(patterns, text):\n",
    "    print 'There is a match'\n",
    "else:\n",
    "    print 'Found no match'"
   ]
  },
  {
   "cell_type": "code",
   "execution_count": 6,
   "metadata": {},
   "outputs": [
    {
     "name": "stdout",
     "output_type": "stream",
     "text": [
      "Trying to find a match for \"and\" in \"Python is a dynamically typed language and also has a simple syntax\" - \n",
      "There is a match\n",
      "Trying to find a match for \"or\" in \"Python is a dynamically typed language and also has a simple syntax\" - \n",
      "Found no match\n"
     ]
    }
   ],
   "source": [
    "patterns = ['and', 'or']\n",
    "text = 'Python is a dynamically typed language and also has a simple syntax'\n",
    "\n",
    "for pattern in patterns:\n",
    "    print 'Trying to find a match for \"%s\" in \"%s\" - ' %(pattern,text)\n",
    "    \n",
    "    if re.search(pattern, text):\n",
    "        print 'There is a match'\n",
    "    else:\n",
    "        print 'Found no match'"
   ]
  },
  {
   "cell_type": "code",
   "execution_count": 8,
   "metadata": {},
   "outputs": [
    {
     "name": "stdout",
     "output_type": "stream",
     "text": [
      "Found \"and\" in \"Python is a dynamically typed language and also has a simple syntax\"  from 39 to 42 \n"
     ]
    }
   ],
   "source": [
    "pattern = 'and'\n",
    "text = 'Python is a dynamically typed language and also has a simple syntax'\n",
    "\n",
    "compare = re.search(pattern,text) # only match the 1st time happen, if you wanna find all the patterns, use findall\n",
    "\n",
    "s = compare.start() # start() returns the starting position of the match\n",
    "e = compare.end() # end() returns the ending position of the match\n",
    "\n",
    "print 'Found \"%s\" in \"%s\"  from %d to %d ' %(pattern,text,s,e) # stop will give position+1; it actually 39-41"
   ]
  },
  {
   "cell_type": "code",
   "execution_count": 10,
   "metadata": {},
   "outputs": [
    {
     "name": "stdout",
     "output_type": "stream",
     "text": [
      "['10', '10', '10']\n",
      "In the given text, 10 occured  3 times\n"
     ]
    }
   ],
   "source": [
    "mynumber = 1034567810378103\n",
    "pattern = 10\n",
    "mynumber_str = str(mynumber)\n",
    "pattern_str = str(pattern)\n",
    "# findall() function finds all the substrings of the input that match the \n",
    "# pattern without overlapping syntax re.findall(pattern, string)\n",
    "print re.findall(pattern_str,mynumber_str) # return a list of pattern happened\n",
    "count = len(re.findall(pattern_str,mynumber_str))\n",
    "print 'In the given text, %d occured  %d times' %(pattern, count)"
   ]
  },
  {
   "cell_type": "code",
   "execution_count": 12,
   "metadata": {},
   "outputs": [
    {
     "name": "stdout",
     "output_type": "stream",
     "text": [
      "<callable-iterator object at 0x0000000006179A90>\n",
      "The pattern \"78\" starts at 6 and ends at 8 \n",
      "The pattern \"78\" starts at 11 and ends at 13 \n",
      "In the given text, \"78\" occured  2 times\n"
     ]
    }
   ],
   "source": [
    "# finditer() returns an iterator that produces match instances instead of the \n",
    "# strings returned by findall\n",
    "# syntax re.finditer(pattern, string)\n",
    "\n",
    "text = '1034567810378103'\n",
    "pattern = '78'\n",
    "count = 0\n",
    "print re.finditer(pattern,text)\n",
    "for match in re.finditer(pattern,text): # match is an object where the pattern happens 1st time\n",
    "    s = match.start() \n",
    "    e = match.end() \n",
    "    count = count + 1\n",
    "    print 'The pattern \"%s\" starts at %d and ends at %d ' %(pattern, s, e)\n",
    "print 'In the given text, \"%s\" occured  %d times' %(pattern, count)"
   ]
  },
  {
   "cell_type": "markdown",
   "metadata": {},
   "source": [
    "The group() returns the substring that was matched by the re. Adding groups \n",
    "to a pattern lets you isolate parts of the matching text, expanding those\n",
    "capabilites to create a parser. "
   ]
  },
  {
   "cell_type": "code",
   "execution_count": 14,
   "metadata": {},
   "outputs": [
    {
     "name": "stdout",
     "output_type": "stream",
     "text": [
      "['Barack Obama', 'Michelle Obama', 'Joe Biden', 'Jill Biden']\n",
      "Barack Obama\n",
      "Barack \n",
      "Michelle Obama\n",
      "Michelle \n"
     ]
    }
   ],
   "source": [
    "strval1 = 'Barack Obama, Michelle Obama, Joe Biden, Jill Biden'\n",
    "list1 = strval1.split(', ')\n",
    "print list1\n",
    "\n",
    "for items in list1:\n",
    "    firstname = re.match(r'(.*)Obama',items)\n",
    "    if firstname:\n",
    "        # command below returns every element in the list \n",
    "        # that has Obama in it\n",
    "        print firstname.group(0) # same as print items\n",
    "        \n",
    "        # command below returns first name of the element in the \n",
    "        # list that has Obama in it\n",
    "        print firstname.group(1) # print the matched pattern with wildcard\n",
    "        "
   ]
  },
  {
   "cell_type": "code",
   "execution_count": 19,
   "metadata": {},
   "outputs": [
    {
     "name": "stdout",
     "output_type": "stream",
     "text": [
      "['San Francisco', 'San Jose', 'San Carlos', 'Sunnyvale', 'Cupertino']\n",
      "['Francisco', 'Jose', 'Carlos']\n"
     ]
    }
   ],
   "source": [
    "strval = 'San Francisco, San Jose, San Carlos, Sunnyvale, Cupertino'\n",
    "strval_list = strval.strip().split(', ') # converting strval into a list\n",
    "print strval_list\n",
    "\n",
    "b = []\n",
    "for items in strval_list:\n",
    "    allnames = re.match(r'San (.*)', items.strip()) \n",
    "    # returns a subset of the list which starts with San \n",
    "    if allnames:\n",
    "        b.append(allnames.group(1))\n",
    "print b"
   ]
  },
  {
   "cell_type": "markdown",
   "metadata": {},
   "source": [
    "re.compile() function is used to compile pattern into pattern objects, \n",
    "which have methods for various operations such as searching for pattern \n",
    "matches or performing string substitutions. \n",
    "syntax:\n",
    "```\n",
    "re.compile(pattern)\n",
    "```"
   ]
  },
  {
   "cell_type": "code",
   "execution_count": 25,
   "metadata": {},
   "outputs": [
    {
     "name": "stdout",
     "output_type": "stream",
     "text": [
      "<_sre.SRE_Pattern object at 0x0000000003AC3960>\n",
      "['San', 'San', 'San']\n"
     ]
    }
   ],
   "source": [
    "strval = 'San Francisco, San Jose, San Carlos, Sunnyvale, Cupertino'\n",
    "rec = re.compile('San')\n",
    "print rec\n",
    "print re.findall(rec,strval) # in this way, it will have better performances if do more search"
   ]
  },
  {
   "cell_type": "code",
   "execution_count": 26,
   "metadata": {},
   "outputs": [
    {
     "name": "stdout",
     "output_type": "stream",
     "text": [
      "<_sre.SRE_Match object at 0x000000000618A578>\n",
      "<_sre.SRE_Match object at 0x000000000618A308>\n",
      "<_sre.SRE_Match object at 0x000000000618A578>\n"
     ]
    }
   ],
   "source": [
    "# Returns an iterator\n",
    "for items in re.finditer(rec,strval):\n",
    "    print items"
   ]
  },
  {
   "cell_type": "code",
   "execution_count": 27,
   "metadata": {},
   "outputs": [
    {
     "name": "stdout",
     "output_type": "stream",
     "text": [
      "0 3\n",
      "15 18\n",
      "25 28\n"
     ]
    }
   ],
   "source": [
    "# Returns an iterator\n",
    "for items in re.finditer(rec,strval):\n",
    "    print items.start(),items.end()"
   ]
  },
  {
   "cell_type": "markdown",
   "metadata": {},
   "source": [
    "First method to find and replace:\n",
    "\n",
    "The replace() function will replace substrings.\n",
    "\n",
    "syntax \n",
    "```\n",
    "input_text.replace('pattern', 'replacement') \n",
    "```"
   ]
  },
  {
   "cell_type": "code",
   "execution_count": 28,
   "metadata": {},
   "outputs": [
    {
     "name": "stdout",
     "output_type": "stream",
     "text": [
      "San Francisco, San Jose, San Carlos, Sunnyvale, Cupertino\n",
      "S. Francisco, S. Jose, S. Carlos, Sunnyvale, Cupertino\n"
     ]
    }
   ],
   "source": [
    "a = strval.replace('San','S.') # regulator string replacement\n",
    "print strval\n",
    "print a"
   ]
  },
  {
   "cell_type": "markdown",
   "metadata": {},
   "source": [
    "Second method to find and replace:\n",
    "    \n",
    "The re.sub() function can be used to replace substrings.\n",
    "\n",
    "syntax\n",
    "```\n",
    "re.sub(pattern, replacement, string) \n",
    "```"
   ]
  },
  {
   "cell_type": "code",
   "execution_count": 29,
   "metadata": {},
   "outputs": [
    {
     "name": "stdout",
     "output_type": "stream",
     "text": [
      "S. Francisco, S. Jose, S. Carlos, Sunnyvale, Cupertino\n"
     ]
    }
   ],
   "source": [
    "strval1 = re.sub('San','S.',strval) \n",
    "print strval1"
   ]
  },
  {
   "cell_type": "code",
   "execution_count": 30,
   "metadata": {},
   "outputs": [
    {
     "name": "stdout",
     "output_type": "stream",
     "text": [
      "It's a dog\n",
      "\n",
      "It\\'s a dog\\n\n"
     ]
    }
   ],
   "source": [
    "t = 'It\\'s a dog\\n' # python evaluate the string before print it. It notice \\ as escape, hence no printing\n",
    "print t\n",
    "\n",
    "t = r'It\\'s a dog\\n' # r stands for raw string, so python will not evaluate it before printing it\n",
    "print t"
   ]
  },
  {
   "cell_type": "markdown",
   "metadata": {},
   "source": [
    "Cheat sheet for re\n",
    "\n",
    "\\w - Matches characters from A-Z, a-z, 0-9 or _ also writen as A-Za-z0-9_\n",
    "\\W - Matches nonword characters.\n",
    "\\s - Matches whitespace. Equivalent to [ \\t\\n\\r\\f].\n",
    "\\S - Matches nonwhitespace.\n",
    "\\d - Matches digits. Equivalent to [0-9].\n",
    "\\D - Matches nondigits.\n",
    "^ start of string, or line\n",
    "\\A  Start of string\n",
    "\\b  Match empty string at word (\\w+) boundary\n",
    "\\B  Match empty string not at word boundary\n",
    "\\Z  End of string\n",
    "\n",
    "{m}     Exactly m repetitions\n",
    "{m,n}   From m (default 0) to n (default infinity)\n",
    "*       0 or more. Same as {,}\n",
    "+       1 or more. Same as {1,}\n",
    "?       0 or 1. Same as {,1}\n",
    "\n",
    "Reference \n",
    "https://github.com/tartley/python-regex-cheatsheet/blob/master/cheatsheet.rst"
   ]
  },
  {
   "cell_type": "code",
   "execution_count": 31,
   "metadata": {},
   "outputs": [
    {
     "name": "stdout",
     "output_type": "stream",
     "text": [
      "Please, enter your email: hhh\n",
      "Please enter your email correctly!\n",
      "Please, enter your email: jj.com\n",
      "Please enter your email correctly!\n",
      "Please, enter your email: jjj@jjj.com\n",
      "you entered a valid email\n"
     ]
    },
    {
     "ename": "NameError",
     "evalue": "name 'breaks' is not defined",
     "output_type": "error",
     "traceback": [
      "\u001b[1;31m\u001b[0m",
      "\u001b[1;31mNameError\u001b[0mTraceback (most recent call last)",
      "\u001b[1;32m<ipython-input-31-ef827cab2477>\u001b[0m in \u001b[0;36m<module>\u001b[1;34m()\u001b[0m\n\u001b[0;32m      7\u001b[0m     \u001b[1;32mif\u001b[0m \u001b[0mymail_check\u001b[0m\u001b[1;33m.\u001b[0m\u001b[0msearch\u001b[0m\u001b[1;33m(\u001b[0m\u001b[0mymail\u001b[0m\u001b[1;33m)\u001b[0m\u001b[1;33m:\u001b[0m\u001b[1;33m\u001b[0m\u001b[0m\n\u001b[0;32m      8\u001b[0m         \u001b[1;32mprint\u001b[0m \u001b[1;34m'you entered a valid email'\u001b[0m\u001b[1;33m\u001b[0m\u001b[0m\n\u001b[1;32m----> 9\u001b[1;33m         \u001b[0mbreaks\u001b[0m\u001b[1;33m\u001b[0m\u001b[0m\n\u001b[0m\u001b[0;32m     10\u001b[0m     \u001b[1;32melse\u001b[0m\u001b[1;33m:\u001b[0m\u001b[1;33m\u001b[0m\u001b[0m\n\u001b[0;32m     11\u001b[0m         \u001b[1;32mprint\u001b[0m \u001b[1;34m\"Please enter your email correctly!\"\u001b[0m\u001b[1;33m\u001b[0m\u001b[0m\n",
      "\u001b[1;31mNameError\u001b[0m: name 'breaks' is not defined"
     ]
    }
   ],
   "source": [
    "# in this example we want to make sure that the user enters valid email address\n",
    "import re\n",
    "\n",
    "ymail_check = re.compile(r'(\\w+@\\w+\\.(com|net|org|edu))')\n",
    "while True:\n",
    "    ymail = raw_input (\"Please, enter your email: \")\n",
    "    if ymail_check.search(ymail):\n",
    "        print 'you entered a valid email'\n",
    "        breaks\n",
    "    else:\n",
    "        print \"Please enter your email correctly!\""
   ]
  },
  {
   "cell_type": "code",
   "execution_count": 33,
   "metadata": {},
   "outputs": [
    {
     "name": "stdout",
     "output_type": "stream",
     "text": [
      "Roosovelt, Eleanor\n",
      "Roosovelt\n",
      "Eleanor\n"
     ]
    }
   ],
   "source": [
    "# The re.search() method takes a regular expression pattern and a string and\n",
    "# searches for that pattern within the string. \n",
    "# The syntax is re.search(pattern, string)\n",
    "import re\n",
    "name = 'Roosovelt, Eleanor'\n",
    "a = re.search('(\\w+), (\\w+)',name)\n",
    "# (\\w+) matches multiple occurrances of A-Za-z0-9_\n",
    "print a.group(0) # full items\n",
    "print a.group(1) # first match pattern inside ()\n",
    "print a.group(2) # second match pattern inside ()"
   ]
  },
  {
   "cell_type": "code",
   "execution_count": 35,
   "metadata": {},
   "outputs": [
    {
     "name": "stdout",
     "output_type": "stream",
     "text": [
      "Roosovelt, Eleanor\n",
      "Roosovelt\n",
      "Eleanor\n"
     ]
    }
   ],
   "source": [
    "name = 'Roosovelt, Eleanor'\n",
    "a = re.search('(?P<lastname>\\w+), (?P<firstname>\\w+)',name)\n",
    "'''\n",
    "?P<lastname>\\w+ finds pattern that has characters A-Za-z0-9_ and assigns \n",
    "it to lastname\n",
    "'''\n",
    "# url(r'^edit/v=(?P<guid>[\\w-]+)$')\n",
    "\n",
    "print a.group(0)\n",
    "print a.group('lastname')\n",
    "print a.group('firstname')"
   ]
  },
  {
   "cell_type": "code",
   "execution_count": 38,
   "metadata": {},
   "outputs": [
    {
     "name": "stdout",
     "output_type": "stream",
     "text": [
      "Elizabeth\n",
      "65\n",
      "Elizabeth\n"
     ]
    }
   ],
   "source": [
    "# There is only one space after , \n",
    "strval = 'Elizabeth Warren, 65'\n",
    "a = re.search('(?P<firstname>\\w+) (?P<lastname>\\w+), (?P<age>\\d+)',strval)\n",
    "print a.group(1)\n",
    "print a.group('age')\n",
    "print a.group(\"firstname\")"
   ]
  },
  {
   "cell_type": "code",
   "execution_count": 30,
   "metadata": {},
   "outputs": [
    {
     "name": "stdout",
     "output_type": "stream",
     "text": [
      "Elizabeth Warren,           65\n",
      "65\n",
      "{'lastname': 'Warren', 'age': '65', 'firstname': 'Elizabeth'}\n"
     ]
    }
   ],
   "source": [
    "# What happens if there are more spaces after , ? \n",
    "strval = 'Elizabeth Warren,           65'\n",
    "a = re.search('(?P<firstname>\\w+) (?P<lastname>\\w+), \\s+(?P<age>\\d+)',strval)\n",
    "print a.group(0)\n",
    "print a.group('age')\n",
    "print a.groupdict()"
   ]
  },
  {
   "cell_type": "code",
   "execution_count": 11,
   "metadata": {},
   "outputs": [
    {
     "name": "stdout",
     "output_type": "stream",
     "text": [
      "('of', 5)\n",
      "('the', 7)\n",
      "('food', 1)\n"
     ]
    }
   ],
   "source": [
    "'''\n",
    "In-class activity: In the below paragraph, find the number of occurances of \n",
    "words - of, the and food.\n",
    "\n",
    "Coral reefs are some of the most biologically rich and economically valuable \n",
    "ecosystems on Earth. They provide food, jobs, income, and protection to \n",
    "billions of people worldwide. However, coral reefs and the magnificent creatures \n",
    "that call them home are in danger of disappearing if actions are not taken \n",
    "to protect them. They are threatened by an increasing range of impacts including \n",
    "pollution, invasive species, diseases, bleaching, and global climate change. \n",
    "\n",
    "The rapid decline and loss of these valuable, ancient, and complex ecosystems \n",
    "have significant social, economic, and environmental consequences in the \n",
    "United States and around the world.\n",
    "'''\n",
    "import re\n",
    "\n",
    "text = \"Coral reefs are some of the most biologically rich and economically valuable ecosystems on Earth. They provide food, jobs, income, and protection to billions of people worldwide. However, coral reefs and the magnificent creatures that call them home are in danger of disappearing if actions are not taken to protect them. They are threatened by an increasing range of impacts including pollution, invasive species, diseases, bleaching, and global climate change. The rapid decline and loss of these valuable, ancient, and complex ecosystems have significant social, economic, and environmental consequences in the United States and around the world.\"\n",
    "count = 0\n",
    "\n",
    "for word in [\"of\",\"the\",\"food\"]:\n",
    "    rec = re.compile(word)\n",
    "    print (word, len(re.findall(rec, text)))"
   ]
  },
  {
   "cell_type": "code",
   "execution_count": 18,
   "metadata": {},
   "outputs": [
    {
     "name": "stdout",
     "output_type": "stream",
     "text": [
      "72935808\n",
      "72931968\n",
      "72934272\n",
      "72931968\n",
      "Python is an interpreted, object-oriented, high-level programming \n",
      "language with dynamic semantics. Its high-level built in data structures, \n",
      "combined with dynamic typing and dynamic binding, make it very attractive for \n",
      "Rapid Application Development, as well as for use as a scripting or glue \n",
      "language to connect existing components together. Python's simple, easy to learn \n",
      "syntax emphasizes readability and therefore reduces the cost of program \n",
      "maintenance. Python supports modules and packages, which encourages program \n",
      "modularity and code reuse. The Python interpreter and the extensive standard \n",
      "library are available in source or binary form without charge for all major \n",
      "platforms, and can be freely distributed.\n"
     ]
    }
   ],
   "source": [
    "'''\n",
    "In-class activity: \n",
    "In the below paragraph, there are typos. The spelling mistakes are in the \n",
    "words: tping, componts, programy and binare. Create a dictionary with the key \n",
    "being the incorrect word and the value is the correct word. Then replace the \n",
    "incorrect word with the correct word and print the corrected text.\n",
    "\n",
    "'''\n",
    "import re\n",
    "\n",
    "myText = '''Python is an interpreted, object-oriented, high-level programming \n",
    "language with dynamic semantics. Its high-level built in data structures, \n",
    "combined with dynamic tping and dynamic binding, make it very attractive for \n",
    "Rapid Application Development, as well as for use as a scripting or glue \n",
    "language to connect existing componts together. Python's simple, easy to learn \n",
    "syntax emphasizes readability and therefore reduces the cost of program \n",
    "maintenance. Python supports modules and packages, which encourages programy \n",
    "modularity and code reuse. The Python interpreter and the extensive standard \n",
    "library are available in source or binare form without charge for all major \n",
    "platforms, and can be freely distributed.'''\n",
    "d = {'tping':'typing','componts':'components','programy':'program','binare':'binary'}\n",
    "for k,v in d.iteritems():\n",
    "    # myText =re.sub(k, v, myText) # you have to assign back to original data to make sure all 4 errors been fixed\n",
    "    # use replace instead\n",
    "    myText = myText.replace(k,v)\n",
    "    print(id(myText)) # the string is actually change the memory location every time you change the contents\n",
    "print myText"
   ]
  },
  {
   "cell_type": "code",
   "execution_count": 25,
   "metadata": {},
   "outputs": [
    {
     "name": "stdout",
     "output_type": "stream",
     "text": [
      "The year is  1947\n",
      "The year is  2001\n",
      "The year is  2008\n"
     ]
    }
   ],
   "source": [
    "# extracting year from a text file using regex\n",
    "import re\n",
    "pattern = re.compile(\"(\\d+)\") # one or more numbers\n",
    "# \"(\\d{4})\" match 4 digits\n",
    "for i, line in enumerate(open('modify.txt')): # open() return list of list, enumerate return index of list and contents\n",
    "   #print i, line, re.finditer(pattern, line)\n",
    "   for m in re.finditer(pattern, line):\n",
    "       #print m.group(0)\n",
    "       #print m.group(1)\n",
    "       year = m.group(1) # group(0) is original, group(1) is pattern we catch\n",
    "       print  'The year is ', year"
   ]
  },
  {
   "cell_type": "code",
   "execution_count": 29,
   "metadata": {
    "scrolled": true
   },
   "outputs": [
    {
     "name": "stdout",
     "output_type": "stream",
     "text": [
      "['200', '200', '200', '304', '200', '304', '200', '200', '200', '200', '200', '200', '200', '200', '200', '200', '304', '200', '200', '200', '200', '200', '200', '200', '200', '200', '200', '200', '200', '200', '200', '200', '200', '200', '200', '200', '200', '200', '200', '200', '200', '200', '200', '200', '200', '200', '200', '302', '200', '200']\n",
      "{'200': 46, '302': 1, '304': 3}\n"
     ]
    }
   ],
   "source": [
    "# extracting data from a text file using regex\n",
    "import re\n",
    "\n",
    "parts = [\n",
    "    r'(?P<host>\\S+)',                   # host %h ?P<host> label name; \\S+ non-space input\n",
    "    r'\\S+',                             # indent %l (unused)\n",
    "    r'(?P<user>\\S+)',                   # user %u\n",
    "    r'\\[(?P<time>.+)\\]',                # time %t\n",
    "    r'\"(?P<request>.+)\"',               # request \"%r\"\n",
    "    r'(?P<status>[0-9]+)',              # status %>s\n",
    "    r'(?P<size>\\S+)',                   # size %b (careful, can be '-')\n",
    "]\n",
    "\n",
    "#print(r'\\s+'.join(parts)+r'\\s*\\Z')\n",
    "pattern = re.compile(r'\\s+'.join(parts)+r'\\s*\\Z')#\\Z indicates end of your pattern/string\n",
    "status1 = []\n",
    "\n",
    "fo = open(\"apache50log.txt\")\n",
    "for line in fo.readlines():\n",
    "    #print line\n",
    "    m = pattern.match(line)\n",
    "    res = m.groupdict()\n",
    "    #print res\n",
    "    status1.append(res['status'])\n",
    "\n",
    "print status1\n",
    "statusdict = {}\n",
    "statusset = set(status1)\n",
    "for item in statusset:\n",
    "    statusdict[item] = status1.count(item)\n",
    "    \n",
    "print statusdict"
   ]
  },
  {
   "cell_type": "code",
   "execution_count": 26,
   "metadata": {},
   "outputs": [
    {
     "name": "stdout",
     "output_type": "stream",
     "text": [
      "b--c--d\n"
     ]
    }
   ],
   "source": [
    "a = ['b','c','d']\n",
    "print('--'.join(a))"
   ]
  },
  {
   "cell_type": "code",
   "execution_count": null,
   "metadata": {},
   "outputs": [],
   "source": []
  }
 ],
 "metadata": {
  "kernelspec": {
   "display_name": "Python 2",
   "language": "python",
   "name": "python2"
  },
  "language_info": {
   "codemirror_mode": {
    "name": "ipython",
    "version": 2
   },
   "file_extension": ".py",
   "mimetype": "text/x-python",
   "name": "python",
   "nbconvert_exporter": "python",
   "pygments_lexer": "ipython2",
   "version": "2.7.14"
  }
 },
 "nbformat": 4,
 "nbformat_minor": 1
}
