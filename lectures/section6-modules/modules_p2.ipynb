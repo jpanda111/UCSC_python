{
 "cells": [
  {
   "cell_type": "markdown",
   "metadata": {},
   "source": [
    "In this notebook we will discuss following modules:\n",
    "\n",
    "1) random\n",
    "\n",
    "2) time\n",
    "\n",
    "3) datetime\n",
    "\n",
    "4) urllib2\n",
    "\n",
    "5) uuid\n",
    "\n",
    "6) matplotlib\n",
    "\n",
    "7) lxml\n",
    "\n",
    "Interesting links for random module\n",
    "\n",
    "http://pymotw.com/2/random/\n",
    "http://www.pythonforbeginners.com/random/how-to-use-the-random-module-in-python\n"
   ]
  },
  {
   "cell_type": "code",
   "execution_count": null,
   "metadata": {},
   "outputs": [],
   "source": [
    "import random\n",
    "# Generate a random floating point value\n",
    "print random.random()"
   ]
  },
  {
   "cell_type": "markdown",
   "metadata": {},
   "source": [
    "random.seed will ensure that the random number generation process is the \n",
    "same at every run. This is done to make sure that the number generated is \n",
    "independent of the machine on which the code is run."
   ]
  },
  {
   "cell_type": "code",
   "execution_count": null,
   "metadata": {},
   "outputs": [],
   "source": [
    "random.seed(1)\n",
    "print random.random()"
   ]
  },
  {
   "cell_type": "markdown",
   "metadata": {},
   "source": [
    "random.randint(low, high = None, size = None)\n",
    "both low value and high value are inclusive generates a random integer value."
   ]
  },
  {
   "cell_type": "code",
   "execution_count": null,
   "metadata": {},
   "outputs": [],
   "source": [
    "print random.randint(1,10) # 10 is included"
   ]
  },
  {
   "cell_type": "markdown",
   "metadata": {},
   "source": [
    "Just like range, for randrange you can give one value which would be considered as a stop value or you could give two values, the first value will be the start value and the second value will be the stop value\n",
    "\n",
    "```random.randrange ([start,] stop [,step])```\n",
    "\n",
    "start value is inclusive, stop value is exclusive and step size is optional."
   ]
  },
  {
   "cell_type": "code",
   "execution_count": null,
   "metadata": {},
   "outputs": [],
   "source": [
    "print random.randrange(10)\n",
    "print random.randrange(0, 10) # 10 is not included"
   ]
  },
  {
   "cell_type": "code",
   "execution_count": null,
   "metadata": {},
   "outputs": [],
   "source": [
    "# Generate a random integer value between 0 and 10 in steps of 2.\n",
    "random.randrange(0, 10, 2)"
   ]
  },
  {
   "cell_type": "code",
   "execution_count": null,
   "metadata": {},
   "outputs": [],
   "source": [
    "a = [1,2,30,5]\n",
    "# Pick a random value from the list\n",
    "print random.choice(a)"
   ]
  },
  {
   "cell_type": "code",
   "execution_count": null,
   "metadata": {},
   "outputs": [],
   "source": [
    "'''\n",
    "In-class activity: Take five numbers from the user and make it into a\n",
    "list. Randomly select a number from the list. Write a function to compute\n",
    "2 power that number. And show the result to the user. \n",
    "'''\n",
    "import(random)\n",
    "rawinput=raw_input(\"Enter five numbers : \")\n",
    "print rawinput, type(rawinput)\n",
    "\n",
    "output = random.choice(l)**2\n",
    "print output"
   ]
  },
  {
   "cell_type": "markdown",
   "metadata": {},
   "source": [
    "Time Module - provides various time-related functions.\n",
    "\n",
    "time.time returns the time in seconds since the epoch, i.e., the point where the time starts which is 1 January 1970 for all the operating systems."
   ]
  },
  {
   "cell_type": "code",
   "execution_count": null,
   "metadata": {},
   "outputs": [],
   "source": [
    "import time\n",
    "print time.time()"
   ]
  },
  {
   "cell_type": "markdown",
   "metadata": {},
   "source": [
    "time.clock() returns the wall-clock time expressed in seconds elapsed since \n",
    "the first call to this function. It is useful for timing operations."
   ]
  },
  {
   "cell_type": "code",
   "execution_count": null,
   "metadata": {},
   "outputs": [],
   "source": [
    "print time.clock()"
   ]
  },
  {
   "cell_type": "markdown",
   "metadata": {},
   "source": [
    "If you want to find out how much time a process takes then you can note \n",
    "the clock time at the start of the process and then note the clock time \n",
    "after the process and take the difference of clock time. "
   ]
  },
  {
   "cell_type": "code",
   "execution_count": null,
   "metadata": {},
   "outputs": [],
   "source": [
    "# Note down starting time\n",
    "t1 = time.clock()\n",
    "# Perform a long process\n",
    "c = []\n",
    "for i in xrange(10000000):\n",
    "    c.append(i)\n",
    "# Note down end time \n",
    "t2 = time.clock()\n",
    "\n",
    "# Difference is the time (seconds) taken to complete the long process\n",
    "print t2-t1 # check time calls functions and write to log filess"
   ]
  },
  {
   "cell_type": "markdown",
   "metadata": {},
   "source": [
    "\n",
    "The datetime module contains functions and classes for working with dates and \n",
    "times, separatley and together.\n",
    "\n",
    "Check this link for more information\n",
    "http://pymotw.com/2/datetime/index.html#module-datetime"
   ]
  },
  {
   "cell_type": "code",
   "execution_count": null,
   "metadata": {},
   "outputs": [],
   "source": [
    "import datetime\n",
    "# Create a Python time object hour=8, minute=30, seconds = 0\n",
    "t = datetime.time(8,30,0)\n",
    "print t, type(t) # date type, also include methods to manpulate the time"
   ]
  },
  {
   "cell_type": "code",
   "execution_count": null,
   "metadata": {},
   "outputs": [],
   "source": [
    "# Create a Python date object year = 2012, month = 02 and day = 12\n",
    "print datetime.date(2012,02,12)"
   ]
  },
  {
   "cell_type": "code",
   "execution_count": null,
   "metadata": {},
   "outputs": [],
   "source": [
    "# Print current date\n",
    "print datetime.date.today()"
   ]
  },
  {
   "cell_type": "code",
   "execution_count": null,
   "metadata": {},
   "outputs": [],
   "source": [
    "td = datetime.date.today() # Todays date\n",
    "tomd = datetime.date.today()+datetime.timedelta(days=1) # Tomorrows date\n",
    "print td,tomd"
   ]
  },
  {
   "cell_type": "code",
   "execution_count": null,
   "metadata": {},
   "outputs": [],
   "source": [
    "# If you want both date and time\n",
    "today = datetime.datetime.today()\n",
    "print today # ISO style printing"
   ]
  },
  {
   "cell_type": "code",
   "execution_count": null,
   "metadata": {},
   "outputs": [],
   "source": [
    "'''\n",
    "In-class activity\n",
    "Power ball machine creator\n",
    "\n",
    "A power ball needs a list of 6 numbers.\n",
    "The first 5 numbers have value between 1 and 59.\n",
    "The last number also called power ball number will be between 1 and 35\n",
    "\n",
    "Write a Python program to create this list with 6 numbers. Modify the code\n",
    "so that it is seeded by the current date. \n",
    "'''\n",
    "import random\n",
    "l = [random.randrange(1,59) for _ in range(5)] # if use i, since you don't need i, so no need to store it. You can use _ instead\n",
    "l.append(random.randrange(1,35))\n",
    "print(\"-------\")\n",
    "print(l)\n",
    "\n",
    "random.seed(1)\n",
    "l = [random.randrange(1,59) for _ in range(5)]\n",
    "l.append(random.randrange(1,35))\n",
    "print(\"-------\")\n",
    "print(l)\n",
    "\n",
    "import datetime\n",
    "random.seed(datetime.datetime.today())\n",
    "l = [random.randrange(1,59) for i in range(5)]\n",
    "l.append(random.randrange(1,35))\n",
    "print(\"-------\")\n",
    "print(l)\n"
   ]
  },
  {
   "cell_type": "markdown",
   "metadata": {},
   "source": [
    "The urllibr module provides an updated API for using internet resources \n",
    "identified by URLs.\n",
    "http://pymotw.com/2/urllib2/"
   ]
  },
  {
   "cell_type": "code",
   "execution_count": null,
   "metadata": {},
   "outputs": [],
   "source": [
    "import urllib2\n",
    "# Perform a GET method operation\n",
    "response = urllib2.urlopen('http://www.google.com')\n",
    "print response.info()"
   ]
  },
  {
   "cell_type": "code",
   "execution_count": null,
   "metadata": {},
   "outputs": [],
   "source": [
    "# Get a list of functions that are associated with the response object\n",
    "print dir(response) "
   ]
  },
  {
   "cell_type": "code",
   "execution_count": null,
   "metadata": {},
   "outputs": [],
   "source": [
    "for lines in response.readlines():\n",
    "    print lines.strip()"
   ]
  },
  {
   "cell_type": "markdown",
   "metadata": {},
   "source": [
    "The uuid module creates universally unique identifiers for resources in a \n",
    "way that does not require a central registrar. Uuid values are 128 bits long and “can guarantee uniqueness across space and time”. They are useful for identifiers for documents, hosts, application clients, and other situations where a unique value is necessary. The RFC is specifically geared toward creating a Uniform Resource Name namespace.\n",
    "\n",
    "Reference:\n",
    "http://pymotw.com/2/uuid/index.html#module-uuid.\n",
    "\n",
    "The idea is similar to GUID used in Windows programming. The following video \n",
    "(https://www.youtube.com/watch?v=ugqu10JV7dk) traces the\n",
    "history of Python in the words of Python creator, Guido van Rossum. The \n",
    "unique identifier similar to one in the url can be \n",
    "created using UUID."
   ]
  },
  {
   "cell_type": "code",
   "execution_count": 42,
   "metadata": {},
   "outputs": [
    {
     "name": "stdout",
     "output_type": "stream",
     "text": [
      "345052807176\n"
     ]
    }
   ],
   "source": [
    "# getnode() to retrieve the MAC value on a given system:\n",
    "import uuid\n",
    "print uuid.getnode()"
   ]
  },
  {
   "cell_type": "code",
   "execution_count": 45,
   "metadata": {},
   "outputs": [
    {
     "name": "stdout",
     "output_type": "stream",
     "text": [
      "91e645f0-69fd-11e8-8e4f-005056c00008\n"
     ]
    }
   ],
   "source": [
    "# To generate uuid based on the host MAC address,\n",
    "print uuid.uuid1()"
   ]
  },
  {
   "cell_type": "code",
   "execution_count": 46,
   "metadata": {},
   "outputs": [
    {
     "name": "stdout",
     "output_type": "stream",
     "text": [
      "aca0db31-b29b-42c3-adea-89825091623b\n"
     ]
    }
   ],
   "source": [
    "# Generates an uuid based on random number\n",
    "print uuid.uuid4() "
   ]
  },
  {
   "cell_type": "code",
   "execution_count": 47,
   "metadata": {},
   "outputs": [
    {
     "name": "stdout",
     "output_type": "stream",
     "text": [
      "c15b854b-d571-336b-bc00-a6e0fcaa42d1\n",
      "71a0e1b9-54e2-5288-aabf-a417c1856bc5\n"
     ]
    }
   ],
   "source": [
    "somerandomstring = 'kdf98234hj23j4y234uy324u234'\n",
    "print uuid.uuid3(uuid.NAMESPACE_DNS,somerandomstring) # MD5 based hashing\n",
    "print uuid.uuid5(uuid.NAMESPACE_DNS,somerandomstring) # SHA-1 based hashings"
   ]
  },
  {
   "cell_type": "code",
   "execution_count": null,
   "metadata": {
    "collapsed": true
   },
   "outputs": [],
   "source": [
    "#import matplotlib libary\n",
    "import matplotlib.pyplot as plt\n",
    "\n",
    "\n",
    "#define some data\n",
    "x = [1,2,3,4]\n",
    "y = [20, 21, 20.5, 20.8]\n",
    "\n",
    "#plot data\n",
    "plt.plot(x, y)\n",
    "\n",
    "#show plot\n",
    "plt.show()"
   ]
  },
  {
   "cell_type": "code",
   "execution_count": null,
   "metadata": {
    "collapsed": true
   },
   "outputs": [],
   "source": [
    "price = [145, 246, 415, 735, 610, 519, 582, 235, 190]\n",
    "N = len(price)\n",
    "x = range(N)\n",
    "width = 1\n",
    "plt.bar(x, price, width, color = \"red\")\n",
    "plt.show()"
   ]
  },
  {
   "cell_type": "code",
   "execution_count": 41,
   "metadata": {},
   "outputs": [
    {
     "name": "stdout",
     "output_type": "stream",
     "text": [
      "<Response [200]>\n",
      "<Element html at 0x181f09a8>\n",
      "Buyers:  ['Carson Busses', 'Earl E. Byrd', 'Patty Cakes', 'Derri Anne Connecticut', 'Moe Dess', 'Leda Doggslife', 'Dan Druff', 'Al Fresco', 'Ido Hoe', 'Howie Kisses', 'Len Lease', 'Phil Meup', 'Ira Pent', 'Ben D. Rules', 'Ave Sectomy', 'Gary Shattire', 'Bobbi Soks', 'Sheila Takya', 'Rose Tattoo', 'Moe Tell']\n",
      "Prices:  ['$29.95', '$8.37', '$15.26', '$19.25', '$19.25', '$13.99', '$31.57', '$8.49', '$14.47', '$15.86', '$11.11', '$15.98', '$16.27', '$7.50', '$50.85', '$14.26', '$5.68', '$15.00', '$114.07', '$10.09']\n"
     ]
    }
   ],
   "source": [
    "# web scraping example \n",
    "\n",
    "from lxml import html\n",
    "import requests\n",
    "\n",
    "page = requests.get('http://econpy.pythonanywhere.com/ex/001.html')\n",
    "print page\n",
    "#print page.content\n",
    "\n",
    "tree = html.fromstring(page.content)\n",
    "print tree\n",
    "\n",
    "#This will create a list of buyers:\n",
    "buyers = tree.xpath('//div[@title=\"buyer-name\"]/text()')\n",
    "#This will create a list of prices\n",
    "prices = tree.xpath('//span[@class=\"item-price\"]/text()')\n",
    "# every element is a strings\n",
    "print 'Buyers: ', buyers\n",
    "print 'Prices: ', prices"
   ]
  },
  {
   "cell_type": "code",
   "execution_count": 54,
   "metadata": {},
   "outputs": [
    {
     "name": "stdout",
     "output_type": "stream",
     "text": [
      "0.360325857822\n",
      "0.460543342116\n"
     ]
    }
   ],
   "source": [
    "'''\n",
    "In-class activity: For the first ten thousand positive integers, \n",
    "find the sin(x) for each value with list comprehension and without \n",
    "list comprehension. Using the time module, compute \n",
    "the time taken by the each method. \n",
    "'''\n",
    "import time\n",
    "import math\n",
    "\n",
    "t1 = time.clock()\n",
    "l=[math.sin(x) for x in xrange(1000000)]\n",
    "t2= time.clock()\n",
    "print t2-t1\n",
    "\n",
    "t1 = time.clock()\n",
    "l=[]\n",
    "# for-loop you need to more instructions from python\n",
    "# list comprehension is memory efficient and speed fast\n",
    "for x in xrange(1000000):\n",
    "    l.append(math.sin(x))\n",
    "t2= time.clock()\n",
    "print t2-t1"
   ]
  },
  {
   "cell_type": "code",
   "execution_count": null,
   "metadata": {
    "collapsed": true
   },
   "outputs": [],
   "source": [
    "strptime # parse string to datetime object\n",
    "strftime # convert datetime object to strings\n",
    "\n",
    "# check out modules: requests\n",
    "# lxml / Beautiful Soup / Scrapy for web scrapping, parse html to get info\n",
    "# Django / Plask for web programmming, put info on to web page \n",
    "# html format, like a tree\n",
    "<html>\n",
    "    <head>\n",
    "    ...\n",
    "    </head>\n",
    "    <body>\n",
    "        <div> \n",
    "        ...\n",
    "        </div>\n",
    "        <a ...>\n",
    "    </body>\n",
    "</html>"
   ]
  }
 ],
 "metadata": {
  "kernelspec": {
   "display_name": "Python 2",
   "language": "python",
   "name": "python2"
  },
  "language_info": {
   "codemirror_mode": {
    "name": "ipython",
    "version": 2
   },
   "file_extension": ".py",
   "mimetype": "text/x-python",
   "name": "python",
   "nbconvert_exporter": "python",
   "pygments_lexer": "ipython2",
   "version": "2.7.14"
  }
 },
 "nbformat": 4,
 "nbformat_minor": 1
}
