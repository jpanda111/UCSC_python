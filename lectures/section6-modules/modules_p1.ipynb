{
 "cells": [
  {
   "cell_type": "markdown",
   "metadata": {},
   "source": [
    "In this notebook we will discuss:\n",
    "1. File IO\n",
    "\n",
    "    a. using module csv\n",
    "    \n",
    "    b. using module xlrd, xlwd\n",
    "    \n",
    "2. walking a directory and all its sub-directories\n",
    "\n",
    "    a. glob\n",
    "    \n",
    "    b. os \n",
    "    \n",
    "3. creating custom modules"
   ]
  },
  {
   "cell_type": "code",
   "execution_count": 5,
   "metadata": {},
   "outputs": [
    {
     "name": "stdout",
     "output_type": "stream",
     "text": [
      "<_csv.reader object at 0x0000000005F57DC8>\n",
      "['16', '3', '19', '5']\n",
      "['18', '2', '14', '1']\n",
      "['20', '1', '16', '3']\n",
      "['11', '1', '13', '1']\n",
      "['19', '4', '18', '3']\n",
      "['14', '2', '12', '1']\n",
      "['15', '3', '20', '4']\n",
      "['13', '2', '11', '2']\n",
      "['12', '3', '15', '2']\n",
      "['17', '4', '17', '3']\n"
     ]
    }
   ],
   "source": [
    "import csv\n",
    "# csv format\n",
    "# 5,3,7\\n # , seperate columns and \\n seperate rows\n",
    "with open('exgrade.csv', 'r') as fo:\n",
    "    alllines = csv.reader(fo,delimiter=',')\n",
    "    print(alllines) # this is an object\n",
    "    for lines in alllines:\n",
    "        print lines"
   ]
  },
  {
   "cell_type": "code",
   "execution_count": 9,
   "metadata": {},
   "outputs": [],
   "source": [
    "import csv\n",
    "with open('animals.csv', 'w') as fo:\n",
    "    wo = csv.writer(fo) # csv is a package, writer is a function; \n",
    "    lines = [['Zebra', 10],['Giraffe', 17]]\n",
    "    wo.writerows(lines)"
   ]
  },
  {
   "cell_type": "code",
   "execution_count": 10,
   "metadata": {},
   "outputs": [
    {
     "name": "stdout",
     "output_type": "stream",
     "text": [
      "['Zebra', '10']\n",
      "['Giraffe', '17']\n"
     ]
    }
   ],
   "source": [
    "import csv\n",
    "with open('animals.csv', 'r') as fo:\n",
    "    alllines = csv.reader(fo,delimiter=',')\n",
    "    for lines in alllines:\n",
    "        print lines\n",
    "        \n",
    "# pandas is useful for reading csv if file is large\n",
    "# openpyxl module study"
   ]
  },
  {
   "cell_type": "markdown",
   "metadata": {},
   "source": [
    "Module xlrd is used for reading data from xls and xlsx files.\n",
    "\n",
    "To learn more check the following links:\n",
    "\n",
    "http://www.python-excel.org/\n",
    "\n",
    "http://www.youlikeprogramming.com/2012/03/examples-reading-excel-xls-documents-using-pythons-xlrd/"
   ]
  },
  {
   "cell_type": "code",
   "execution_count": 11,
   "metadata": {},
   "outputs": [
    {
     "name": "stdout",
     "output_type": "stream",
     "text": [
      "[u'Sheet1']\n"
     ]
    }
   ],
   "source": [
    "# Open an excel file and get all the sheet names\n",
    "import xlrd\n",
    "wb = xlrd.open_workbook('exgrade.xls')\n",
    "print wb.sheet_names()"
   ]
  },
  {
   "cell_type": "code",
   "execution_count": 12,
   "metadata": {},
   "outputs": [
    {
     "name": "stdout",
     "output_type": "stream",
     "text": [
      "10\n"
     ]
    }
   ],
   "source": [
    "# In sheet 1, get the number of rows\n",
    "ws = wb.sheet_by_name('Sheet1')\n",
    "print ws.nrows"
   ]
  },
  {
   "cell_type": "code",
   "execution_count": 16,
   "metadata": {},
   "outputs": [
    {
     "name": "stdout",
     "output_type": "stream",
     "text": [
      "[number:16.0, number:3.0, number:19.0, number:5.0]\n",
      "number:3.0\n"
     ]
    },
    {
     "data": {
      "text/plain": [
       "xlrd.sheet.Cell"
      ]
     },
     "execution_count": 16,
     "metadata": {},
     "output_type": "execute_result"
    }
   ],
   "source": [
    "print ws.row(0) # Get the content of first row as a list\n",
    "print ws.row(0)[1] # Get the second element of the first row list \n",
    "# csv take every element as string, but xlrd take it as number\n",
    "type(ws.row(0)[1])"
   ]
  },
  {
   "cell_type": "markdown",
   "metadata": {},
   "source": [
    "Module xlwt is used to write data to xls files. "
   ]
  },
  {
   "cell_type": "code",
   "execution_count": 18,
   "metadata": {},
   "outputs": [
    {
     "name": "stdout",
     "output_type": "stream",
     "text": [
      "0 ['Name', 'Security code'] 2\n",
      "1 ['Adam', ' 10034'] 2\n",
      "2 ['Nitin', ' 10043'] 2\n",
      "3 ['Rob', ' 10134'] 2\n",
      "4 ['Sheela', ' 10045'] 2\n"
     ]
    }
   ],
   "source": [
    "# xlwt module is used to write into excel file.\n",
    "import xlwt\n",
    "workbook = xlwt.Workbook() \n",
    "sheet = workbook.add_sheet(\"Sheet 1\") \n",
    "\n",
    "#sheet.write(0, 0, 'Adam') # row, column, value\n",
    "# 5 rows, 2 cols\n",
    "g = [['Name', 'Security code'], \n",
    "     ['Adam', ' 10034'],\n",
    "     ['Nitin', ' 10043'],\n",
    "     ['Rob', ' 10134'],\n",
    "     ['Sheela', ' 10045']]\n",
    "\n",
    "for i,v in enumerate(g):\n",
    "    print i, v, len(v)\n",
    "    if len(v) >= 2:\n",
    "        sheet.write(i,0,v[0])\n",
    "        sheet.write(i,1,v[1])\n",
    "        \n",
    "workbook.save('Xcel1.xls')"
   ]
  },
  {
   "cell_type": "markdown",
   "metadata": {},
   "source": [
    "Module sqlite3 is used to write data to and read data from databases.\n",
    "sql: join two tables; make query; \n",
    "most database follows sql format;\n",
    "import mysqldb"
   ]
  },
  {
   "cell_type": "code",
   "execution_count": 20,
   "metadata": {},
   "outputs": [
    {
     "name": "stdout",
     "output_type": "stream",
     "text": [
      "(u'2006-02-05', u'SELL', u'RHAT', 50.0, 50.25)\n",
      "(u'2006-03-15', u'BUY', u'GOOG', 1000.0, 350.13)\n",
      "(u'2006-10-05', u'BUY', u'GOOG', 100000.0, 400.14)\n",
      "(u'2006-02-05', u'SELL', u'RHAT', 50.0, 50.25)\n",
      "(u'2006-03-15', u'BUY', u'GOOG', 1000.0, 350.13)\n",
      "(u'2006-10-05', u'BUY', u'GOOG', 100000.0, 400.14)\n",
      "(u'2006-02-05', u'SELL', u'RHAT', 50.0, 50.25)\n",
      "(u'2006-03-15', u'BUY', u'GOOG', 1000.0, 350.13)\n",
      "(u'2006-10-05', u'BUY', u'GOOG', 100000.0, 400.14)\n",
      "(u'2006-02-05', u'SELL', u'RHAT', 50.0, 50.25)\n",
      "(u'2006-03-15', u'BUY', u'GOOG', 1000.0, 350.13)\n",
      "(u'2006-10-05', u'BUY', u'GOOG', 100000.0, 400.14)\n",
      "(u'2006-02-05', u'SELL', u'RHAT', 50.0, 50.25)\n",
      "(u'2006-03-15', u'BUY', u'GOOG', 1000.0, 350.13)\n",
      "(u'2006-10-05', u'BUY', u'GOOG', 100000.0, 400.14)\n",
      "(u'2006-02-05', u'SELL', u'RHAT', 50.0, 50.25)\n",
      "(u'2006-03-15', u'BUY', u'GOOG', 1000.0, 350.13)\n",
      "(u'2006-10-05', u'BUY', u'GOOG', 100000.0, 400.14)\n",
      "(u'2006-02-05', u'SELL', u'RHAT', 50.0, 50.25)\n",
      "(u'2006-03-15', u'BUY', u'GOOG', 1000.0, 350.13)\n",
      "(u'2006-10-05', u'BUY', u'GOOG', 100000.0, 400.14)\n",
      "(u'2006-02-05', u'SELL', u'RHAT', 50.0, 50.25)\n",
      "(u'2006-03-15', u'BUY', u'GOOG', 1000.0, 350.13)\n",
      "(u'2006-10-05', u'BUY', u'GOOG', 100000.0, 400.14)\n",
      "(u'2006-02-05', u'SELL', u'RHAT', 50.0, 50.25)\n",
      "(u'2006-03-15', u'BUY', u'GOOG', 1000.0, 350.13)\n",
      "(u'2006-10-05', u'BUY', u'GOOG', 100000.0, 400.14)\n",
      "(u'2006-02-05', u'SELL', u'RHAT', 50.0, 50.25)\n",
      "(u'2006-03-15', u'BUY', u'GOOG', 1000.0, 350.13)\n",
      "(u'2006-10-05', u'BUY', u'GOOG', 100000.0, 400.14)\n",
      "(u'2006-02-05', u'SELL', u'RHAT', 50.0, 50.25)\n",
      "(u'2006-03-15', u'BUY', u'GOOG', 1000.0, 350.13)\n",
      "(u'2006-10-05', u'BUY', u'GOOG', 100000.0, 400.14)\n"
     ]
    }
   ],
   "source": [
    "import sqlite3\n",
    "# sqlite3 the most simple module, only create one file\n",
    "# since only one file, so no need to configuration\n",
    "# install mysqldb before you import it\n",
    "# insall sql browser in windows and open GUI\n",
    "# Create a connection to sqlite\n",
    "conn = sqlite3.connect('test.db')\n",
    "\n",
    "# Open a cursor\n",
    "c = conn.cursor()\n",
    "\n",
    "# Execute any SQL statement\n",
    "# Create table named \"stocks\" if it does not already exist.\n",
    "c.execute(\"create table if not exists stocks \\\n",
    "           (date text, trans text,symbol text, qty real, price real)\")\n",
    "\n",
    "# Add entries\n",
    "c.execute(\"insert into stocks values ('2006-02-05','SELL','RHAT',50,50.25)\")\n",
    "c.execute(\"insert into stocks values ('2006-03-15','BUY','GOOG',1000,350.13)\")\n",
    "c.execute(\"insert into stocks values ('2006-10-05','BUY','GOOG',100000,400.14)\")\n",
    "conn.commit()\n",
    "\n",
    "# Query all the entries in the database\n",
    "alllines = c.execute(\"select * from stocks\")\n",
    "# select price from stocks\n",
    "# select trans, symbol, price from stocks where \n",
    "print alllines\n",
    "\n",
    "# Print it\n",
    "for lines in alllines:\n",
    "    print lines\n",
    "\n",
    "c.close()"
   ]
  },
  {
   "cell_type": "code",
   "execution_count": 22,
   "metadata": {},
   "outputs": [
    {
     "name": "stdout",
     "output_type": "stream",
     "text": [
      "<sqlite3.Cursor object at 0x000000000632AE30>\n",
      "(u'Leo', u'USA', u'5/30/2018', u'free')\n",
      "(u'Euler', u'Canada', u'5/26/2018', u'paid')\n"
     ]
    }
   ],
   "source": [
    "'''\n",
    "In-class activity - Create a database and call it 'UserSignUp.' In the \n",
    "database create a table called 'FirstSignUp' with columns Name, Country, \n",
    "Date, Type. Date should contain information on first login date and type \n",
    "should be paid or free user. Add five entries. Then print out the rows. \n",
    "'''\n",
    "conn = sqlite3.connect(\"UserSignUp.db\")\n",
    "c = conn.cursor()\n",
    "c.execute(\"create table if not exists FirstSignUp \\\n",
    "            (Name text, Country text, Date text, Type text)\")\n",
    "c.execute(\"insert into FirstSignUp values ('Leo','USA','5/30/2018','free')\")\n",
    "c.execute(\"insert into FirstSignUp values ('Euler','Canada','5/26/2018','paid')\")\n",
    "conn.commit()\n",
    "\n",
    "alllines = c.execute(\"select * from FirstSignUp\")\n",
    "print alllines\n",
    "\n",
    "for lines in alllines:\n",
    "    print lines\n",
    "\n",
    "c.close()\n",
    "\n",
    "# ORM : Object Relational Map (sqlalchemy , sqlobject), access to multiple data base\n",
    "# sql bobby tables\n",
    "\n",
    "import os\n",
    "import sys\n",
    "from sqlalchemy import Column, ForeignKey, Integer, String\n",
    "from sqlalchemy.ext.declarative import declarative_base\n",
    "from sqlalchemy.orm import relationship\n",
    "from sqlalchemy import create_engine\n",
    "Base = declarative_base()\n",
    "\n",
    "class Person(Base):\n",
    "    __tablename__ = 'person'\n",
    "    id = Column(Integer, primary_key=True)\n",
    "    name= Column(String(250), nullable=False)\n",
    "class Address(Base):\n",
    "    __table_name__ = \"address\"\n",
    "    id = Column(Integer, primary_key=True)\n",
    "    street_name = Column(String(250))\n",
    "    street_number = Column(String(250))\n",
    "    post_code = Column(String(250), nullable=True)\n",
    "    person_id = Column(Integer, ForeignKey(\"person.id\"))\n",
    "    person = relationship(Person)\n",
    "    \n",
    "engine = create_engine(\"test.db\")"
   ]
  },
  {
   "cell_type": "markdown",
   "metadata": {},
   "source": [
    "Module os provides operating system dependent functionalities. \n",
    "\n",
    "https://docs.python.org/2/library/os.html"
   ]
  },
  {
   "cell_type": "code",
   "execution_count": 23,
   "metadata": {},
   "outputs": [
    {
     "data": {
      "text/plain": [
       "['.ipynb_checkpoints',\n",
       " 'animals.csv',\n",
       " 'exgrade.csv',\n",
       " 'exgrade.xls',\n",
       " 'modules_p1.ipynb',\n",
       " 'modules_p1.py',\n",
       " 'modules_p2.ipynb',\n",
       " 'modules_p2.py',\n",
       " 'newfile.csv',\n",
       " 'prog1.py',\n",
       " 'prog1.pyc',\n",
       " 'python_list.txt',\n",
       " 'python_list1.txt',\n",
       " 'test.db',\n",
       " 'ufolder',\n",
       " 'UserSignUp.db',\n",
       " 'webscrapping_lxml.txt',\n",
       " 'Xcel1.xls',\n",
       " 'Xcel1.xlsx']"
      ]
     },
     "execution_count": 23,
     "metadata": {},
     "output_type": "execute_result"
    }
   ],
   "source": [
    "import os\n",
    "# gives a list of folders and files that are in \n",
    "# the current working directory\n",
    "os.listdir(\".\")"
   ]
  },
  {
   "cell_type": "markdown",
   "metadata": {},
   "source": [
    "Module glob can be used to finds all the pathnames matching a specified \n",
    "pattern according to the rules used by the Unix shell.\n",
    "\n",
    "glob.glob(_directory_name) will return all the files in a particular \n",
    "directory or folder"
   ]
  },
  {
   "cell_type": "code",
   "execution_count": 25,
   "metadata": {},
   "outputs": [
    {
     "name": "stdout",
     "output_type": "stream",
     "text": [
      "['animals.csv', 'exgrade.csv', 'exgrade.xls', 'modules_p1.ipynb', 'modules_p1.py', 'modules_p2.ipynb', 'modules_p2.py', 'newfile.csv', 'prog1.py', 'prog1.pyc', 'python_list.txt', 'python_list1.txt', 'test.db', 'UserSignUp.db', 'webscrapping_lxml.txt', 'Xcel1.xls', 'Xcel1.xlsx']\n"
     ]
    }
   ],
   "source": [
    "import glob\n",
    "\n",
    "# will return a list of files that are in the current working directory \n",
    "print glob.glob(\"*.*\")\n"
   ]
  },
  {
   "cell_type": "code",
   "execution_count": 26,
   "metadata": {},
   "outputs": [
    {
     "name": "stdout",
     "output_type": "stream",
     "text": [
      "['modules_p1.ipynb', 'modules_p2.ipynb']\n"
     ]
    }
   ],
   "source": [
    "# in this example it will return all the ipython notebook files in the \n",
    "# current directory\n",
    "print glob.glob(\"*.ipynb\")"
   ]
  },
  {
   "cell_type": "code",
   "execution_count": 37,
   "metadata": {},
   "outputs": [
    {
     "name": "stdout",
     "output_type": "stream",
     "text": [
      "('.', ['.ipynb_checkpoints', 'ufolder'], ['animals.csv', 'exgrade.csv', 'exgrade.xls', 'modules_p1.ipynb', 'modules_p1.py', 'modules_p2.ipynb', 'modules_p2.py', 'newfile.csv', 'prog1.py', 'prog1.pyc', 'python_list.txt', 'python_list1.txt', 'test.db', 'UserSignUp.db', 'webscrapping_lxml.txt', 'Xcel1.xls', 'Xcel1.xlsx'])\n",
      "-------\n",
      ".\\modules_p1.py\n",
      ".\\modules_p2.py\n",
      ".\\prog1.py\n",
      "('.\\\\.ipynb_checkpoints', [], ['modules_p1-checkpoint.ipynb', 'modules_p2-checkpoint.ipynb'])\n",
      "-------\n",
      "('.\\\\ufolder', [], ['uprog1.py', 'uprog1.pyc', '__init__.py', '__init__.pyc'])\n",
      "-------\n",
      ".\\ufolder\\uprog1.py\n",
      ".\\ufolder\\__init__.py\n"
     ]
    }
   ],
   "source": [
    "import os\n",
    "# os.walk returns three values - root, directories and files and they are \n",
    "# passed to the variables root, dirs and files respectively.\n",
    "for root, dirs, files in os.walk(\".\"):\n",
    "    print(root, dirs, files)\n",
    "    print(\"-------\")\n",
    "    # root, dirs, files\n",
    "    for file in files:\n",
    "        if file.endswith(\".py\"):\n",
    "             print os.path.join(root, file)\n",
    "# only specific files got picked up under the path given to os.walk"
   ]
  },
  {
   "cell_type": "code",
   "execution_count": 38,
   "metadata": {},
   "outputs": [
    {
     "data": {
      "text/plain": [
       "'C:\\\\Users\\\\student\\\\Downloads\\\\section 6-modules\\\\section 6-modules'"
      ]
     },
     "execution_count": 38,
     "metadata": {},
     "output_type": "execute_result"
    }
   ],
   "source": [
    "import os\n",
    "os.getcwd()"
   ]
  },
  {
   "cell_type": "markdown",
   "metadata": {},
   "source": [
    "Different ways of importing a module."
   ]
  },
  {
   "cell_type": "code",
   "execution_count": 39,
   "metadata": {},
   "outputs": [
    {
     "name": "stdout",
     "output_type": "stream",
     "text": [
      "0.707106781187\n"
     ]
    }
   ],
   "source": [
    "# Import all functions in a given module.\n",
    "# We have to refer to the module name when \n",
    "# calling the function\n",
    "import math\n",
    "print math.sin(math.pi/4)"
   ]
  },
  {
   "cell_type": "code",
   "execution_count": 53,
   "metadata": {},
   "outputs": [
    {
     "name": "stdout",
     "output_type": "stream",
     "text": [
      "0.707106781187\n"
     ]
    }
   ],
   "source": [
    "# Import all functions in a given module.\n",
    "# We do not need to refer to the module name when calling the function.\n",
    "# the function might has the same name as some custom defined functions.\n",
    "from math import *\n",
    "print sin(pi/4)"
   ]
  },
  {
   "cell_type": "code",
   "execution_count": 54,
   "metadata": {},
   "outputs": [
    {
     "name": "stdout",
     "output_type": "stream",
     "text": [
      "0.707106781187\n"
     ]
    }
   ],
   "source": [
    "# Give a shortcut name to the module. \n",
    "# Especially true for modules with long names such as matplotlib\n",
    "import math as ma\n",
    "print ma.sin(ma.pi/4)"
   ]
  },
  {
   "cell_type": "code",
   "execution_count": 55,
   "metadata": {},
   "outputs": [
    {
     "name": "stdout",
     "output_type": "stream",
     "text": [
      "0.707106781187\n"
     ]
    }
   ],
   "source": [
    "# Only import the necessary functions from a module\n",
    "# This is memory efficient\n",
    "from math import sin,pi\n",
    "print sin(pi/4)"
   ]
  },
  {
   "cell_type": "code",
   "execution_count": 56,
   "metadata": {},
   "outputs": [
    {
     "name": "stdout",
     "output_type": "stream",
     "text": [
      "[ 1.  5.  8.  6.]\n",
      "[ 0.5  2.5  4.   3. ]\n"
     ]
    }
   ],
   "source": [
    "import matplotlib.pyplot as plt\n",
    "plt.plot()\n",
    "\n",
    "#import tensorflow as tf\n",
    "import numpy as np\n",
    "a = np.array([1,5,8,6], float)\n",
    "print a\n",
    "c = a/2\n",
    "print c"
   ]
  },
  {
   "cell_type": "code",
   "execution_count": 57,
   "metadata": {},
   "outputs": [
    {
     "name": "stdout",
     "output_type": "stream",
     "text": [
      "20.0\n",
      "240.0\n",
      "1.0\n",
      "8.0\n"
     ]
    }
   ],
   "source": [
    "print a.sum()\n",
    "print a.prod()\n",
    "print a.min()\n",
    "print a.max()"
   ]
  },
  {
   "cell_type": "markdown",
   "metadata": {},
   "source": [
    "Subprocess module is useful for making calls to the *nix operating system. \n",
    "Check documentation in https://docs.python.org/2/library/subprocess.html\n",
    "https://pymotw.com/2/subprocess/"
   ]
  },
  {
   "cell_type": "code",
   "execution_count": null,
   "metadata": {},
   "outputs": [],
   "source": [
    "'''\n",
    "You need to use the Popen function and pass the command\n",
    "The following piece of code can only be used on Mac or Linux. \n",
    "\n",
    "Invoking the system shell with shell = True can be a security hazard if \n",
    "combined with untrusted input\n",
    "'''\n",
    "\n",
    "import subprocess\n",
    "sp = subprocess.Popen('ls', stdout=subprocess.PIPE)\n",
    "s = sp.communicate() # Returns a tuple (stdout,stderr)\n",
    "print s\n",
    "\n",
    "# You can iterate through the tuple that is returned by the function\n",
    "for items in s:\n",
    "    print items"
   ]
  },
  {
   "cell_type": "code",
   "execution_count": 15,
   "metadata": {},
   "outputs": [
    {
     "name": "stdout",
     "output_type": "stream",
     "text": [
      "[' Volume in drive C is Windows\\r\\n', ' Volume Serial Number is 08AA-F110\\r\\n', '\\r\\n', ' Directory of c:\\\\users\\\\sridevi\\\\dropbox\\\\python corporate\\\\juniper\\\\latest notes june 2017\\\\section 6-modules\\r\\n', '\\r\\n', '09/06/2017  12:12 PM    <DIR>          .\\r\\n', '09/06/2017  12:12 PM    <DIR>          ..\\r\\n', '09/02/2017  04:14 PM    <DIR>          .ipynb_checkpoints\\r\\n', '08/04/2016  05:41 AM                22 animals.csv\\r\\n', '10/05/2015  08:14 PM               110 exgrade.csv\\r\\n', '10/05/2015  08:25 PM            26,112 exgrade.xls\\r\\n', '09/06/2017  12:12 PM            14,889 modules_p1.ipynb\\r\\n', '08/08/2017  08:42 PM             5,998 modules_p1.py\\r\\n', '09/05/2017  06:45 PM            12,165 modules_p2.ipynb\\r\\n', '08/08/2017  08:42 PM             6,166 modules_p2.py\\r\\n', '08/04/2016  05:33 AM                22 newfile.csv\\r\\n', '04/10/2015  03:45 PM                71 prog1.py\\r\\n', '09/27/2016  11:07 AM               234 prog1.pyc\\r\\n', '10/07/2015  03:10 PM                27 python_list.txt\\r\\n', '02/25/2016  11:18 AM                 7 python_list1.txt\\r\\n', '08/04/2016  10:17 AM             8,192 test.db\\r\\n', '09/02/2017  04:14 PM    <DIR>          ufolder\\r\\n', '02/24/2016  08:33 PM               251 webscrapping_lxml.txt\\r\\n', '09/06/2017  11:49 AM             5,632 Xcel1.xls\\r\\n', '09/06/2017  11:41 AM             5,632 Xcel1.xlsx\\r\\n', '              16 File(s)         85,530 bytes\\r\\n', '               4 Dir(s)  107,128,160,256 bytes free\\r\\n']\n"
     ]
    }
   ],
   "source": [
    "'''\n",
    "The following subprocess code can be used on Windows\n",
    "'''\n",
    "import subprocess\n",
    "sp = subprocess.Popen('dir', shell =True, stdout=subprocess.PIPE, stderr=subprocess.PIPE)\n",
    "#s = sp.communicate() # Returns a tuple (stdout,stderr)\n",
    "\n",
    "results = []\n",
    "# You can iterate through the tuple that is returned by the function\n",
    "for items in sp.stdout:\n",
    "    results.append(items)\n",
    "    \n",
    "print results"
   ]
  },
  {
   "cell_type": "markdown",
   "metadata": {},
   "source": [
    "Creating custom modules"
   ]
  },
  {
   "cell_type": "code",
   "execution_count": 67,
   "metadata": {},
   "outputs": [
    {
     "name": "stdout",
     "output_type": "stream",
     "text": [
      "5\n"
     ]
    }
   ],
   "source": [
    "# The file prog1.py is in the same folder as this IPython notebook\n",
    "import prog1\n",
    "print prog1.increment(2,3)\n",
    "\n",
    "# module contains multiple files include class and functions\n",
    "# package contains multiple folders which include py files"
   ]
  },
  {
   "cell_type": "code",
   "execution_count": 68,
   "metadata": {},
   "outputs": [
    {
     "name": "stdout",
     "output_type": "stream",
     "text": [
      "11\n"
     ]
    }
   ],
   "source": [
    "# The file uprog1.py is in the folder \"ufolder\" which is \n",
    "# in the same location as this IPython notebook\n",
    "from ufolder import uprog1\n",
    "print uprog1.increment(10)\n",
    "# import folder, inside it __init__.py has exist"
   ]
  },
  {
   "cell_type": "code",
   "execution_count": 69,
   "metadata": {},
   "outputs": [
    {
     "name": "stdout",
     "output_type": "stream",
     "text": [
      "17\n"
     ]
    }
   ],
   "source": [
    "import ufolder\n",
    "print ufolder.uprog1.increment(16)"
   ]
  },
  {
   "cell_type": "code",
   "execution_count": 70,
   "metadata": {},
   "outputs": [
    {
     "name": "stdout",
     "output_type": "stream",
     "text": [
      "23\n",
      "16\n"
     ]
    }
   ],
   "source": [
    "import ufolder as uf\n",
    "print uf.uprog1.increment(20,3)\n",
    "\n",
    "import ufolder.uprog1 as up\n",
    "print up.increment(15)"
   ]
  },
  {
   "cell_type": "markdown",
   "metadata": {},
   "source": [
    "Note: sometimes Jupyter (iPython) notebook might give an attribute error when you say - \n",
    "import usermodule_name. \n",
    "\n",
    "the best way to go around this is to say - \n",
    "from usermodule_name import userfile_name\n",
    "\n",
    "import mypackage as mp\n",
    "it won't work if you want to use file1.py"
   ]
  },
  {
   "cell_type": "code",
   "execution_count": 78,
   "metadata": {},
   "outputs": [
    {
     "name": "stdout",
     "output_type": "stream",
     "text": [
      "[1, 3, 5, 7, 9]\n"
     ]
    }
   ],
   "source": [
    "'''\n",
    "In-class activity - create a folder and make it a Python importable folder. \n",
    "Write a program that returns a list of odd numbers from a given list and \n",
    "save it in that folder. Write a code in the iPython notebook that imports \n",
    "the folder and then make a function call and supply the list.\n",
    "'''\n",
    "import mypackage.file1 as mp\n",
    "print mp.getodd(range(10))\n"
   ]
  },
  {
   "cell_type": "code",
   "execution_count": null,
   "metadata": {
    "collapsed": true
   },
   "outputs": [],
   "source": [
    "# pythonpath automatically put it in site-packages\n",
    "# module search path: local dir --> pythonpath --> site-packages\n",
    "# site-packages\n",
    "import site\n",
    "site.gen"
   ]
  }
 ],
 "metadata": {
  "kernelspec": {
   "display_name": "Python 2",
   "language": "python",
   "name": "python2"
  },
  "language_info": {
   "codemirror_mode": {
    "name": "ipython",
    "version": 2
   },
   "file_extension": ".py",
   "mimetype": "text/x-python",
   "name": "python",
   "nbconvert_exporter": "python",
   "pygments_lexer": "ipython2",
   "version": "2.7.14"
  }
 },
 "nbformat": 4,
 "nbformat_minor": 1
}
