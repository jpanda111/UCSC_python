{
 "cells": [
  {
   "cell_type": "markdown",
   "metadata": {},
   "source": [
    "In this notebook we will discuss Python data structures:\n",
    "\n",
    "1. List\n",
    "\n",
    "2. Dictionary\n",
    "\n",
    "3. tuples\n",
    "\n",
    "4. sets\n",
    "\n",
    "5. slicing lists and tuples\n",
    "\n",
    "6. List comprehension\n",
    "\n",
    "7. Dictionary comprehension \n",
    "\n",
    "https://docs.python.org/2/tutorial/datastructures.html"
   ]
  },
  {
   "cell_type": "markdown",
   "metadata": {},
   "source": [
    "Data structures are objects than can hold sequence of items. "
   ]
  },
  {
   "cell_type": "markdown",
   "metadata": {},
   "source": [
    "# List\n",
    "\n",
    "A list is a collection of items separated by commas. A list is used when we need a sequence of items that can be modified at a later time. Since lists can be modified they are mutable. There are several methods that can be applied to lists. \n",
    "\n",
    "Syntax for list is n = [item1, item2, item3].  The items can be any \n",
    "Python object. The index of the list starts from zero."
   ]
  },
  {
   "cell_type": "code",
   "execution_count": 1,
   "metadata": {},
   "outputs": [
    {
     "name": "stdout",
     "output_type": "stream",
     "text": [
      "['apple', 'grapes', 'peach']\n"
     ]
    }
   ],
   "source": [
    "fruits = ['apple', 'grapes', 'peach']\n",
    "\n",
    "print fruits"
   ]
  },
  {
   "cell_type": "code",
   "execution_count": 3,
   "metadata": {},
   "outputs": [
    {
     "name": "stdout",
     "output_type": "stream",
     "text": [
      "('we are printing one element at a time: ', 'apple')\n",
      "('we are printing one element at a time: ', 'grapes')\n",
      "('we are printing one element at a time: ', 'peach')\n"
     ]
    }
   ],
   "source": [
    "# Syntax of the for statement\n",
    "# for each_item in something:\n",
    "#     execute statement(s) that are under this block\n",
    "for f in fruits:\n",
    "    print( 'we are printing one element at a time: ', f )"
   ]
  },
  {
   "cell_type": "markdown",
   "metadata": {},
   "source": [
    "Function and methods that can be applied to lists\n",
    "\n",
    "len(A):           returns the number of items in A\n",
    "    \n",
    "A.insert(i,x1):   inserts x1 at index i, not efficient\n",
    "    \n",
    "A.pop(i1):        removes item at index value i1 from A, not efficient\n",
    "    \n",
    "A.remove(x3):     removes x3 from A, not efficient\n",
    "    \n",
    "A.append(x4):     adds x4 to the end of A\n",
    "    \n",
    "A.extend(L):      appends items from L to the end of A\n",
    "    \n",
    "A.count(x):       returns the frequency of occurence of x in A\n",
    "    \n",
    "A.sort():         sorts the items in the list in ascending order, \n",
    "                  A.sort(reverse=Ture) will sort the list in descending \n",
    "                  order\n",
    "\n",
    "A.index(x5):      returns the index corresponding to item x5, not efficient\n",
    "    \n",
    "A.reverse():      reverses the items in A in place\n"
   ]
  },
  {
   "cell_type": "code",
   "execution_count": 4,
   "metadata": {},
   "outputs": [
    {
     "name": "stdout",
     "output_type": "stream",
     "text": [
      "3\n"
     ]
    }
   ],
   "source": [
    "# len(listA) will return the number of elements in the list 'listA'\n",
    "print len(fruits)"
   ]
  },
  {
   "cell_type": "code",
   "execution_count": 5,
   "metadata": {},
   "outputs": [
    {
     "name": "stdout",
     "output_type": "stream",
     "text": [
      "0 apple\n",
      "1 grapes\n",
      "2 peach\n"
     ]
    }
   ],
   "source": [
    "# here we want to loop through the elements in fruits and get the index value \n",
    "# and the element at that index\n",
    "# try to use same type in one list\n",
    "for i in range(len(fruits)):\n",
    "    print i,fruits[i]"
   ]
  },
  {
   "cell_type": "code",
   "execution_count": 15,
   "metadata": {},
   "outputs": [
    {
     "name": "stdout",
     "output_type": "stream",
     "text": [
      "[1, 2, 'CA', [3, 4]]\n"
     ]
    }
   ],
   "source": [
    "mylist = [1,2,\"CA\",[3,4]]  \n",
    "# mylist is a collection of numbers, string and a list\n",
    "print mylist\n"
   ]
  },
  {
   "cell_type": "code",
   "execution_count": 16,
   "metadata": {},
   "outputs": [
    {
     "name": "stdout",
     "output_type": "stream",
     "text": [
      "1\n"
     ]
    }
   ],
   "source": [
    "# Accessing elements from a list\n",
    "# mylist[n] will return element at nth index in mylist\n",
    "print mylist[0] # this returns the first element in mylist"
   ]
  },
  {
   "cell_type": "markdown",
   "metadata": {},
   "source": [
    "Elements in a list can be accessed from left to right with indicies starting from \n",
    "0 (0 indicates the first position in the list) and going up\n",
    "\n",
    "elements in a list can be accessed from right to left with indicies starting from \n",
    "-1 (-1 indiciates the last position in the list) and going down"
   ]
  },
  {
   "cell_type": "code",
   "execution_count": 17,
   "metadata": {},
   "outputs": [
    {
     "name": "stdout",
     "output_type": "stream",
     "text": [
      "CA\n"
     ]
    }
   ],
   "source": [
    "# this returns the last but one element in mylist\n",
    "print mylist[-2] "
   ]
  },
  {
   "cell_type": "code",
   "execution_count": 18,
   "metadata": {},
   "outputs": [
    {
     "name": "stdout",
     "output_type": "stream",
     "text": [
      "3\n"
     ]
    }
   ],
   "source": [
    "print mylist[-1][-2] \n"
   ]
  },
  {
   "cell_type": "code",
   "execution_count": 19,
   "metadata": {},
   "outputs": [
    {
     "name": "stdout",
     "output_type": "stream",
     "text": [
      "[1, 2]\n",
      "[1, 2, 'CA', [3, 4]]\n"
     ]
    }
   ],
   "source": [
    "# mylist[a:b] will return elements with index starting from a up to b-1. \n",
    "# This process is called Slicing\n",
    "print mylist[0:2]\n",
    "print mylist[:]"
   ]
  },
  {
   "cell_type": "code",
   "execution_count": 20,
   "metadata": {},
   "outputs": [
    {
     "name": "stdout",
     "output_type": "stream",
     "text": [
      "[1, 2, 'CA', [3, 4], 3.14]\n"
     ]
    }
   ],
   "source": [
    "# append() will add a value to the end of the list\n",
    "# current_list.append(x1) will add x1 to the end of current_list, takes longer time\n",
    "mylist.append(3.14) \n",
    "print mylist"
   ]
  },
  {
   "cell_type": "code",
   "execution_count": 21,
   "metadata": {},
   "outputs": [
    {
     "name": "stdout",
     "output_type": "stream",
     "text": [
      "CA\n",
      "[1, 2, [3, 4], 3.14]\n"
     ]
    }
   ],
   "source": [
    "# pop() removes an element at the given index, not efficient cause you need to move multiple pointers\n",
    "print mylist.pop(2)\n",
    "print mylist"
   ]
  },
  {
   "cell_type": "code",
   "execution_count": 22,
   "metadata": {},
   "outputs": [
    {
     "name": "stdout",
     "output_type": "stream",
     "text": [
      "[1, 2, 'MN', 3.14]\n"
     ]
    }
   ],
   "source": [
    "# Insert adds an element at the given index, not efficient as above, compared to extend/append\n",
    "mylist.insert(3,\"MN\")\n",
    "mylist.pop(2)\n",
    "print mylist"
   ]
  },
  {
   "cell_type": "code",
   "execution_count": 23,
   "metadata": {},
   "outputs": [
    {
     "name": "stdout",
     "output_type": "stream",
     "text": [
      "2\n"
     ]
    }
   ],
   "source": [
    "print mylist[1]\n"
   ]
  },
  {
   "cell_type": "markdown",
   "metadata": {},
   "source": [
    "sort() sorts elements in place, that means sorted elements are stored \n",
    "back in the orginal list."
   ]
  },
  {
   "cell_type": "code",
   "execution_count": 24,
   "metadata": {},
   "outputs": [
    {
     "name": "stdout",
     "output_type": "stream",
     "text": [
      "None\n",
      "[1, 2, 2.4, 5, '0', '3', '3a', 'c', 'couple']\n"
     ]
    }
   ],
   "source": [
    "# can't perfrom sort() and assignment in one line\n",
    "mylist = ['couple','3','3a',1,5,2,2.4,'c','0'] # note '3' is a string\n",
    "a = mylist.sort()\n",
    "print a \n",
    "print mylist "
   ]
  },
  {
   "cell_type": "code",
   "execution_count": 25,
   "metadata": {},
   "outputs": [
    {
     "name": "stdout",
     "output_type": "stream",
     "text": [
      "[1, 2, 2.4, 5, '0', '3', '3a', 'c', 'couple']\n",
      "[1, 2, 2.4, 5, '0', '3', '3a', 'c', 'couple']\n"
     ]
    }
   ],
   "source": [
    "mylist = ['couple','3','3a',1,5,2,2.4,'c','0'] \n",
    "mylist.sort()\n",
    "a = mylist\n",
    "print a \n",
    "print mylist \n",
    "# the original mylist is gone"
   ]
  },
  {
   "cell_type": "markdown",
   "metadata": {},
   "source": [
    "A simple ascending sort can be done using sorted(listname)\n",
    "sorted() is not in place."
   ]
  },
  {
   "cell_type": "code",
   "execution_count": 26,
   "metadata": {},
   "outputs": [
    {
     "name": "stdout",
     "output_type": "stream",
     "text": [
      "[1, 2, 2.4, 5, '0', '3', '3a', 'c', 'couple']\n",
      "['couple', '3', '3a', 1, 5, 2, 2.4, 'c', '0']\n"
     ]
    }
   ],
   "source": [
    "mylist = ['couple','3','3a',1,5,2,2.4,'c','0'] # note '3' is a string\n",
    "a = sorted(mylist) \n",
    "print a \n",
    "print mylist "
   ]
  },
  {
   "cell_type": "markdown",
   "metadata": {},
   "source": [
    "sort() function will sort the list in ascending order. \n",
    "If reverse = True is specified then it will sort the list in \n",
    "descending order"
   ]
  },
  {
   "cell_type": "code",
   "execution_count": 27,
   "metadata": {},
   "outputs": [
    {
     "name": "stdout",
     "output_type": "stream",
     "text": [
      "['couple', 'c', '3a', '3', '0', 5, 2.4, 2, 1]\n"
     ]
    }
   ],
   "source": [
    "mylist.sort(reverse=True)\n",
    "print mylist"
   ]
  },
  {
   "cell_type": "markdown",
   "metadata": {},
   "source": [
    "For list of lists, sort command sorts the lists with respect to the first \n",
    "element in the lists."
   ]
  },
  {
   "cell_type": "code",
   "execution_count": 28,
   "metadata": {},
   "outputs": [
    {
     "name": "stdout",
     "output_type": "stream",
     "text": [
      "[[5, 2], [10, 3]]\n",
      "[[10, 3], [5, 2]]\n"
     ]
    }
   ],
   "source": [
    "a = [[10,3],[5,2]]\n",
    "b = a[:] # you can use import copy module to do deep copy: copy.deepcopy\n",
    "a.sort()\n",
    "print a\n",
    "print b"
   ]
  },
  {
   "cell_type": "code",
   "execution_count": 29,
   "metadata": {},
   "outputs": [
    {
     "name": "stdout",
     "output_type": "stream",
     "text": [
      "[['dog', 'cat'], ['q', 'a']]\n"
     ]
    }
   ],
   "source": [
    "b = [['q', 'a'], ['dog','cat']]\n",
    "b.sort()\n",
    "print b"
   ]
  },
  {
   "cell_type": "markdown",
   "metadata": {},
   "source": [
    "count will return the frequency of occurance of a particular value \n",
    "in the list."
   ]
  },
  {
   "cell_type": "code",
   "execution_count": 30,
   "metadata": {},
   "outputs": [
    {
     "data": {
      "text/plain": [
       "2"
      ]
     },
     "execution_count": 30,
     "metadata": {},
     "output_type": "execute_result"
    }
   ],
   "source": [
    "mylist = [2,3,2,5,6,6,6]\n",
    "mylist.count(3) \n",
    "m = ['apple', 'cat', 'cat', 'sat']\n",
    "m.count('cat')"
   ]
  },
  {
   "cell_type": "code",
   "execution_count": 31,
   "metadata": {},
   "outputs": [
    {
     "name": "stdout",
     "output_type": "stream",
     "text": [
      "[1, 2, 3, [4, 5, 6]]\n"
     ]
    }
   ],
   "source": [
    "# APPEND METHOD, 4 elements instead of 6 elements\n",
    "mylist = [1,2,3]\n",
    "newl = [4,5,6]\n",
    "mylist.append(newl)\n",
    "print mylist"
   ]
  },
  {
   "cell_type": "code",
   "execution_count": 34,
   "metadata": {},
   "outputs": [
    {
     "name": "stdout",
     "output_type": "stream",
     "text": [
      "[1, 2, 3, 4, 5, 6]\n"
     ]
    }
   ],
   "source": [
    "# EXTEND METHOD, expect a list or a tuple\n",
    "mylist = [1,2,3]\n",
    "newl = [4,5,6]\n",
    "a = 5\n",
    "mylist.extend(newl)\n",
    "print mylist"
   ]
  },
  {
   "cell_type": "markdown",
   "metadata": {
    "collapsed": true
   },
   "source": [
    "len(list1) will return the number of items in list1."
   ]
  },
  {
   "cell_type": "code",
   "execution_count": 35,
   "metadata": {},
   "outputs": [
    {
     "name": "stdout",
     "output_type": "stream",
     "text": [
      "[1, 2, 3, 4, 5, 6]\n",
      "[1, 2, 3, 4, 5, 6]\n"
     ]
    }
   ],
   "source": [
    "mylist = [1,2,3]\n",
    "bylist = mylist\n",
    "mylist.extend([4,5,6])\n",
    "print mylist\n",
    "print bylist\n",
    "#print \"mylist after extend: \", mylist\n",
    "#print \"length of mylist: \", len(mylist)\n",
    "#print \"bylist: \", bylist"
   ]
  },
  {
   "cell_type": "code",
   "execution_count": 36,
   "metadata": {},
   "outputs": [
    {
     "name": "stdout",
     "output_type": "stream",
     "text": [
      "[1, 2, 3]\n",
      "[1, 2, 3]\n",
      "[1, 2, 3, [4, 5, 6]] 4\n",
      "[1, 2, 3, [4, 5, 6]] 4\n"
     ]
    }
   ],
   "source": [
    "mylist = [1,2,3]\n",
    "mylist_copy = mylist\n",
    "print mylist\n",
    "print mylist_copy\n",
    "mylist_copy.append([4,5,6])\n",
    "print mylist, len(mylist)\n",
    "print mylist_copy, len(mylist_copy)"
   ]
  },
  {
   "cell_type": "markdown",
   "metadata": {},
   "source": [
    "Note 1: mylist.append([4,5,6]) will add this list to the end of mylist. \n",
    "Whereas mylist.extend([4,5,6]) will add values 4, 5 and 6 to mylist.\n",
    "\n",
    "Note 2: mylist_copy1 is a copy of mylist. Any changes to mylist_copy1 \n",
    "will also affect mylist because the copy we made is a shallow copy."
   ]
  },
  {
   "cell_type": "markdown",
   "metadata": {},
   "source": [
    "Deep Copy\n",
    "\n",
    "A deep copy of a list can be done by using slicing [:]."
   ]
  },
  {
   "cell_type": "code",
   "execution_count": 37,
   "metadata": {},
   "outputs": [
    {
     "name": "stdout",
     "output_type": "stream",
     "text": [
      "[3, 5, 9]\n",
      "[5, 9, 3, [11, 2, 3]]\n"
     ]
    }
   ],
   "source": [
    "mylist = [5,9,3]\n",
    "mylist_copy2 = mylist[:]\n",
    "mylist_copy2.append([11,2,3])\n",
    "mylist.sort()\n",
    "#mylist_copy2.sort()\n",
    "print mylist\n",
    "print mylist_copy2\n",
    "#print \"mylist after append\", mylist_copy2\n",
    "#print mylist, len(mylist)"
   ]
  },
  {
   "cell_type": "markdown",
   "metadata": {},
   "source": [
    "Note: mylist_copy2 is a deep copy of mylist so any changes to mylist_copy2 \n",
    "will not affect mylist and vice versa.\n",
    "\n",
    "Note: integer memory location; integer [0: 255] immutable, every pointer points to same memory location\n",
    "a = 5; b=a; a=6; Now a points to 6, and b points to 5 still; b=a is not a copy, but create a point to 5;"
   ]
  },
  {
   "cell_type": "markdown",
   "metadata": {},
   "source": [
    "#### LIST COMPREHENSION"
   ]
  },
  {
   "cell_type": "code",
   "execution_count": 38,
   "metadata": {},
   "outputs": [
    {
     "name": "stdout",
     "output_type": "stream",
     "text": [
      "[0, 1, 4, 9, 16, 25, 36, 49, 64, 81]\n"
     ]
    }
   ],
   "source": [
    "# traditional method\n",
    "squares = []\n",
    "for x in range(10):\n",
    "    squares.append(x**2)\n",
    "print squares"
   ]
  },
  {
   "cell_type": "code",
   "execution_count": 39,
   "metadata": {},
   "outputs": [
    {
     "name": "stdout",
     "output_type": "stream",
     "text": [
      "[0, 1, 4, 9, 16, 25, 36, 49, 64, 81]\n"
     ]
    }
   ],
   "source": [
    "# smart method using list comprehension\n",
    "squares = [x**2 for x in range(10)]\n",
    "print squares"
   ]
  },
  {
   "cell_type": "code",
   "execution_count": 40,
   "metadata": {},
   "outputs": [
    {
     "name": "stdout",
     "output_type": "stream",
     "text": [
      "[(2, 1), (4, 3), (4, 1)]\n",
      "[(2, 1), (4, 3), (4, 1)]\n"
     ]
    }
   ],
   "source": [
    "# an elaborate example of list comprehension which combines \n",
    "# two lists and returns a list of tuples\n",
    "combined = [(x, y) for x in [1, 2, 4] for y in [3, 1, 4] if x%2 == 0 and x>y]\n",
    "print combined\n",
    "\n",
    "combined = []\n",
    "for x in [1,2,4]:\n",
    "    for y in [3,1,4]:\n",
    "        if x%2 == 0 and x > y:\n",
    "            combined.append((x,y))\n",
    "print combined"
   ]
  },
  {
   "cell_type": "markdown",
   "metadata": {},
   "source": [
    "## Tuple\n",
    "\n",
    "Tuple is a collection of immutable Python elements. That means we cannot \n",
    "delete, add or modify elements in a tuple. The syntax for a tuple is \n",
    "a = (item1, item2, item3,).  "
   ]
  },
  {
   "cell_type": "code",
   "execution_count": 41,
   "metadata": {},
   "outputs": [
    {
     "name": "stdout",
     "output_type": "stream",
     "text": [
      "(1, 2, 'String')\n"
     ]
    }
   ],
   "source": [
    "T1 = 1,2,'String'\n",
    "# Here Python will automatically assumes T1 is a tuple\n",
    "print T1"
   ]
  },
  {
   "cell_type": "code",
   "execution_count": 42,
   "metadata": {},
   "outputs": [
    {
     "name": "stdout",
     "output_type": "stream",
     "text": [
      "()\n"
     ]
    }
   ],
   "source": [
    "emptyTuple = ()\n",
    "print emptyTuple"
   ]
  },
  {
   "cell_type": "code",
   "execution_count": 43,
   "metadata": {},
   "outputs": [
    {
     "name": "stdout",
     "output_type": "stream",
     "text": [
      "(1,) <type 'tuple'>\n"
     ]
    }
   ],
   "source": [
    "T2 = (1,)\n",
    "# without the comma, T2 will be of type integer and not tuple\n",
    "print T2, type(T2)"
   ]
  },
  {
   "cell_type": "code",
   "execution_count": 44,
   "metadata": {},
   "outputs": [
    {
     "ename": "TypeError",
     "evalue": "can only concatenate tuple (not \"int\") to tuple",
     "output_type": "error",
     "traceback": [
      "\u001b[1;31m\u001b[0m",
      "\u001b[1;31mTypeError\u001b[0mTraceback (most recent call last)",
      "\u001b[1;32m<ipython-input-44-dc8b83637b06>\u001b[0m in \u001b[0;36m<module>\u001b[1;34m()\u001b[0m\n\u001b[1;32m----> 1\u001b[1;33m \u001b[0mT2\u001b[0m \u001b[1;33m=\u001b[0m \u001b[0mT2\u001b[0m\u001b[1;33m+\u001b[0m\u001b[1;36m1\u001b[0m \u001b[1;31m# Not allowed, as tuple cannot be modified\u001b[0m\u001b[1;33m\u001b[0m\u001b[0m\n\u001b[0m\u001b[0;32m      2\u001b[0m \u001b[1;32mprint\u001b[0m \u001b[0mT2\u001b[0m\u001b[1;33m,\u001b[0m \u001b[0mtype\u001b[0m\u001b[1;33m(\u001b[0m\u001b[0mT2\u001b[0m\u001b[1;33m)\u001b[0m\u001b[1;33m\u001b[0m\u001b[0m\n",
      "\u001b[1;31mTypeError\u001b[0m: can only concatenate tuple (not \"int\") to tuple"
     ]
    }
   ],
   "source": [
    "T2 = T2+1 # Not allowed, as tuple cannot be modified\n",
    "print T2, type(T2)"
   ]
  },
  {
   "cell_type": "code",
   "execution_count": 45,
   "metadata": {},
   "outputs": [
    {
     "name": "stdout",
     "output_type": "stream",
     "text": [
      "((1, 2, 'String'), (1,))\n",
      "(1, 2, 'String')\n",
      "2\n"
     ]
    }
   ],
   "source": [
    "T3 = T1,T2 # T3 is a tuple of tuples\n",
    "print T3\n",
    "print T3[0]\n",
    "print T3[0][1] \n",
    "# 0 index indicates the first tuple and 1 index indicates the \n",
    "# second element in the first tuple"
   ]
  },
  {
   "cell_type": "code",
   "execution_count": 46,
   "metadata": {},
   "outputs": [
    {
     "ename": "TypeError",
     "evalue": "'tuple' object does not support item assignment",
     "output_type": "error",
     "traceback": [
      "\u001b[1;31m\u001b[0m",
      "\u001b[1;31mTypeError\u001b[0mTraceback (most recent call last)",
      "\u001b[1;32m<ipython-input-46-98fc50b8651e>\u001b[0m in \u001b[0;36m<module>\u001b[1;34m()\u001b[0m\n\u001b[1;32m----> 1\u001b[1;33m \u001b[0mT3\u001b[0m\u001b[1;33m[\u001b[0m\u001b[1;36m0\u001b[0m\u001b[1;33m]\u001b[0m\u001b[1;33m[\u001b[0m\u001b[1;36m0\u001b[0m\u001b[1;33m]\u001b[0m\u001b[1;33m=\u001b[0m\u001b[1;36m2\u001b[0m \u001b[1;31m# New values cannot be assigned\u001b[0m\u001b[1;33m\u001b[0m\u001b[0m\n\u001b[0m\u001b[0;32m      2\u001b[0m \u001b[1;33m\u001b[0m\u001b[0m\n\u001b[0;32m      3\u001b[0m \u001b[1;31m## list, you need to store pointers to memory and also objects to memory, but all the memory are not fixed\u001b[0m\u001b[1;33m\u001b[0m\u001b[1;33m\u001b[0m\u001b[0m\n\u001b[0;32m      4\u001b[0m \u001b[1;31m## tuple, only need memory to store object and length fixed, it's memory efficient.\u001b[0m\u001b[1;33m\u001b[0m\u001b[1;33m\u001b[0m\u001b[0m\n\u001b[0;32m      5\u001b[0m \u001b[1;31m## so you don't need every object by a pointer, you just need starting pointer and total length\u001b[0m\u001b[1;33m\u001b[0m\u001b[1;33m\u001b[0m\u001b[0m\n",
      "\u001b[1;31mTypeError\u001b[0m: 'tuple' object does not support item assignment"
     ]
    }
   ],
   "source": [
    "T3[0][0]=2 # New values cannot be assigned\n",
    "\n",
    "## list, you need to store pointers to memory and also objects to memory, but all the memory are not fixed\n",
    "## tuple, only need memory to store object and length fixed, it's memory efficient.\n",
    "## so you don't need every object by a pointer, you just need starting pointer and total length\n",
    "## tuple is ideal to store the constants, read-only"
   ]
  },
  {
   "cell_type": "code",
   "execution_count": 47,
   "metadata": {},
   "outputs": [
    {
     "name": "stdout",
     "output_type": "stream",
     "text": [
      "(1, 2, 3) <type 'tuple'>\n",
      "[1, 2, 3] <type 'list'>\n",
      "(1, 2, 3) <type 'tuple'>\n"
     ]
    }
   ],
   "source": [
    "t  = (1,2,3)\n",
    "print t,type(t)\n",
    "l = list(t)\n",
    "print l,type(l)\n",
    "t2 = tuple(l)\n",
    "print t2, type(t2)"
   ]
  },
  {
   "cell_type": "code",
   "execution_count": 48,
   "metadata": {},
   "outputs": [
    {
     "name": "stdout",
     "output_type": "stream",
     "text": [
      "(2, 4, 5, 8, 10, 11, 'CA', 'MN', 'TX')\n"
     ]
    }
   ],
   "source": [
    "A = (2,4,5,8,10,11)\n",
    "B = ('CA', 'MN', 'TX')\n",
    "C = A + B # + operation concatenates the tuples\n",
    "print C"
   ]
  },
  {
   "cell_type": "code",
   "execution_count": 49,
   "metadata": {},
   "outputs": [
    {
     "name": "stdout",
     "output_type": "stream",
     "text": [
      "6\n",
      "TX\n",
      "CA\n"
     ]
    }
   ],
   "source": [
    "# Basic tuple operations\n",
    "print len(A) \n",
    "print max(B)\n",
    "print min(B)"
   ]
  },
  {
   "cell_type": "code",
   "execution_count": 50,
   "metadata": {},
   "outputs": [
    {
     "name": "stdout",
     "output_type": "stream",
     "text": [
      "('Hello', 'Hello', 'Hello', 'Hello')\n"
     ]
    }
   ],
   "source": [
    "# Basic tuple operations\n",
    "H = ('Hello',)\n",
    "print H*4 # * means repetition"
   ]
  },
  {
   "cell_type": "code",
   "execution_count": 51,
   "metadata": {},
   "outputs": [
    {
     "name": "stdout",
     "output_type": "stream",
     "text": [
      "[5, 4, 1, 4, 7]\n"
     ]
    }
   ],
   "source": [
    "'''\n",
    "Inclass activity: Consider the tuple t1 = (2,4,8). \n",
    "1. Try to modify the first element of the tuple to 5. \n",
    "2. Convert the tuple into a list and modify the first element to 5.\n",
    "3. Use extend to add [1, 4, 7] to the list\n",
    "4. Pop the third item from the list and then print the list.\n",
    "5. Convert the list back to a tuple. \n",
    "'''\n",
    "t1 = (2,4,8)\n",
    "l1 = list(t1)\n",
    "l1[0] = 5\n",
    "l1.extend([1,4,7])\n",
    "l1.pop(2)\n",
    "print l1\n",
    "t2 = tuple(l1)\n",
    "\n",
    "## you don't need to manage memory\n",
    "## when no pointer to memory, mark as '0', gabbage collection happen\n",
    "## GC module can allow you customize the gabbage collector"
   ]
  },
  {
   "cell_type": "markdown",
   "metadata": {},
   "source": [
    "## Dictionary \n",
    "\n",
    "Dictionary is a collection of key-value pairs. \n",
    "\n",
    "Unlike sequences, which are indexed by a range of numbers, dictionaries are \n",
    "indexed by keys, which can be any immutable type; strings and numbers can \n",
    "always be keys. Tuples can be used as keys if they contain only strings, \n",
    "numbers, or tuples.\n",
    "\n",
    "Dictionaries are mutable that means they can be modified without changing their \n",
    "identity. \n",
    "\n",
    "Reference:\n",
    "\n",
    "https://docs.python.org/2/tutorial/datastructures.html#tuples-and-sequences"
   ]
  },
  {
   "cell_type": "markdown",
   "metadata": {},
   "source": [
    "\n",
    "Syntax for dictionary\n",
    "\n",
    "```\n",
    "D1 = {key1:value1, key2:value2}\n",
    "```\n"
   ]
  },
  {
   "cell_type": "code",
   "execution_count": 52,
   "metadata": {},
   "outputs": [
    {
     "name": "stdout",
     "output_type": "stream",
     "text": [
      "{24: 'x', 26: 'z'}\n"
     ]
    }
   ],
   "source": [
    "# A simple dicitonary\n",
    "d1 = {26:'z', 24:'x'}\n",
    "print d1"
   ]
  },
  {
   "cell_type": "code",
   "execution_count": 53,
   "metadata": {},
   "outputs": [
    {
     "name": "stdout",
     "output_type": "stream",
     "text": [
      "{}\n"
     ]
    }
   ],
   "source": [
    "ziploc = {} # ziploc is an empty dictionary\n",
    "print ziploc"
   ]
  },
  {
   "cell_type": "code",
   "execution_count": 54,
   "metadata": {},
   "outputs": [
    {
     "name": "stdout",
     "output_type": "stream",
     "text": [
      "Santa Clara\n",
      "{'95054': 'Santa Clara', '95117': 'Santa Clara'}\n"
     ]
    }
   ],
   "source": [
    "ziploc['95117'] = 'Santa Clara'\n",
    "print ziploc['95117']\n",
    "ziploc['95054'] = 'Santa Clara'\n",
    "print ziploc"
   ]
  },
  {
   "cell_type": "code",
   "execution_count": 55,
   "metadata": {},
   "outputs": [
    {
     "name": "stdout",
     "output_type": "stream",
     "text": [
      "{'95117': 'San Jose', '95014': 'Cupertino', '94086': 'Sunnyvale'}\n",
      "['95117', '95014', '94086']\n",
      "('95117', '95014', '94086')\n",
      "['San Jose', 'Cupertino', 'Sunnyvale']\n"
     ]
    }
   ],
   "source": [
    "'''\n",
    "In this example for the key 95117, the value is San Jose, \n",
    "for the key 94086, the value is Sunnyvale etc.\n",
    "'''\n",
    "\n",
    "ziploc = {'95117': 'San Jose','94086':'Sunnyvale','95014': 'Cupertino'}\n",
    "print ziploc\n",
    "print ziploc.keys()\n",
    "print tuple(ziploc.keys())\n",
    "print ziploc.values()"
   ]
  },
  {
   "cell_type": "code",
   "execution_count": 56,
   "metadata": {},
   "outputs": [
    {
     "name": "stdout",
     "output_type": "stream",
     "text": [
      "95117 San Jose\n",
      "95014 Cupertino\n",
      "94086 Sunnyvale\n"
     ]
    }
   ],
   "source": [
    "for keys in ziploc: \n",
    "    print keys,ziploc[keys]"
   ]
  },
  {
   "cell_type": "code",
   "execution_count": 57,
   "metadata": {},
   "outputs": [
    {
     "name": "stdout",
     "output_type": "stream",
     "text": [
      "95117 San Jose\n",
      "95014 Cupertino\n",
      "94086 Sunnyvale\n",
      "[('95117', 'San Jose'), ('95014', 'Cupertino'), ('94086', 'Sunnyvale')]\n",
      "<dictionary-itemiterator object at 0x00000000072946D8>\n"
     ]
    }
   ],
   "source": [
    "for keys,value in ziploc.iteritems(): # Use .items() for version 3.0+\n",
    "    print keys,value\n",
    "print(ziploc.items()) #.items actually create a list of tuple pairs, so you actually waste memory doing iteration\n",
    "print(ziploc.iteritems()) #.iteritems do not create a list, so no memory, it's an object"
   ]
  },
  {
   "cell_type": "code",
   "execution_count": 58,
   "metadata": {},
   "outputs": [
    {
     "name": "stdout",
     "output_type": "stream",
     "text": [
      "San Jose\n"
     ]
    },
    {
     "ename": "KeyError",
     "evalue": "'55421'",
     "output_type": "error",
     "traceback": [
      "\u001b[1;31m\u001b[0m",
      "\u001b[1;31mKeyError\u001b[0mTraceback (most recent call last)",
      "\u001b[1;32m<ipython-input-58-e380ba366632>\u001b[0m in \u001b[0;36m<module>\u001b[1;34m()\u001b[0m\n\u001b[0;32m      1\u001b[0m \u001b[1;32mprint\u001b[0m \u001b[0mziploc\u001b[0m\u001b[1;33m[\u001b[0m\u001b[1;34m'95117'\u001b[0m\u001b[1;33m]\u001b[0m\u001b[1;33m\u001b[0m\u001b[0m\n\u001b[1;32m----> 2\u001b[1;33m \u001b[1;32mprint\u001b[0m \u001b[0mziploc\u001b[0m\u001b[1;33m[\u001b[0m\u001b[1;34m'55421'\u001b[0m\u001b[1;33m]\u001b[0m\u001b[1;33m\u001b[0m\u001b[0m\n\u001b[0m\u001b[0;32m      3\u001b[0m \u001b[1;31m# This will give an error, as the dictionary does not have key 55421\u001b[0m\u001b[1;33m\u001b[0m\u001b[1;33m\u001b[0m\u001b[0m\n",
      "\u001b[1;31mKeyError\u001b[0m: '55421'"
     ]
    }
   ],
   "source": [
    "print ziploc['95117']\n",
    "print ziploc['55421'] \n",
    "# This will give an error, as the dictionary does not have key 55421"
   ]
  },
  {
   "cell_type": "code",
   "execution_count": 59,
   "metadata": {},
   "outputs": [
    {
     "name": "stdout",
     "output_type": "stream",
     "text": [
      "False\n"
     ]
    }
   ],
   "source": [
    "print '55421' in ziploc"
   ]
  },
  {
   "cell_type": "code",
   "execution_count": 60,
   "metadata": {},
   "outputs": [
    {
     "name": "stdout",
     "output_type": "stream",
     "text": [
      "[('95117', 'San Jose'), ('95014', 'Cupertino'), ('94086', 'Sunnyvale')]\n"
     ]
    }
   ],
   "source": [
    "print ziploc.items() # dictname.items() returns a list of (key,value) tuple pairs"
   ]
  },
  {
   "cell_type": "code",
   "execution_count": 61,
   "metadata": {},
   "outputs": [
    {
     "name": "stdout",
     "output_type": "stream",
     "text": [
      "{}\n"
     ]
    }
   ],
   "source": [
    "ziploc.clear() # removes all the elements of the dictionary\n",
    "print ziploc\n",
    "## dictionary take key value to hash function and it will generate 0-8, which is the pointer memory location, pointer will point\n",
    "## to the object, so that's why dictionary order may not same as key order\n",
    "## everytime you use key to get object, you need to go through hash function and find the right pointer\n",
    "## key has to be immutable, otherwise once the key has changed, you will lost info for the pointer"
   ]
  },
  {
   "cell_type": "code",
   "execution_count": 62,
   "metadata": {},
   "outputs": [
    {
     "name": "stdout",
     "output_type": "stream",
     "text": [
      "{0: 0, 1: 1, 2: 4, 3: 9, 4: 16}\n"
     ]
    }
   ],
   "source": [
    "# Dictionary comprehension \n",
    "squared = {x: x**2 for x in range(5)}\n",
    "print squared"
   ]
  },
  {
   "cell_type": "code",
   "execution_count": 63,
   "metadata": {},
   "outputs": [
    {
     "name": "stdout",
     "output_type": "stream",
     "text": [
      "{'a': 1, 'c': 1, 'b': 2, 'e': 1, 'd': 2, 'g': 2, 'f': 3}\n"
     ]
    }
   ],
   "source": [
    "d = dict(a=1, b=2, e=1, d=2, c=1, g=2, f=3)\n",
    "print d\n"
   ]
  },
  {
   "cell_type": "code",
   "execution_count": 64,
   "metadata": {},
   "outputs": [
    {
     "name": "stdout",
     "output_type": "stream",
     "text": [
      "('a', 1)\n",
      "('c', 1)\n",
      "('b', 2)\n",
      "('e', 1)\n",
      "('d', 2)\n",
      "('g', 2)\n",
      "('f', 3)\n"
     ]
    }
   ],
   "source": [
    "for items in d.iteritems():\n",
    "    print items"
   ]
  },
  {
   "cell_type": "code",
   "execution_count": 65,
   "metadata": {},
   "outputs": [
    {
     "name": "stdout",
     "output_type": "stream",
     "text": [
      "{'CA': 'Sacramento', 'HI': 'Honolulu', 'FL': 'Orlando', 'OR': 'Portland', 'AZ': 'Pheonix'}\n",
      "{'New York': 'Albany', 'California': 'Sacramento', 'Minnesota': 'St.Paul'}\n"
     ]
    }
   ],
   "source": [
    "'''\n",
    "In-class activity: Create a dictionary with five key-value pairs, \n",
    "state as the key and it's capital city as the value. \n",
    "'''\n",
    "d = dict(CA='Sacramento',OR=\"Portland\",FL=\"Orlando\",AZ=\"Pheonix\",HI=\"Honolulu\")\n",
    "print d\n",
    "states={'California':'Sacramento','New York':'Albany', 'Minnesota':'St.Paul'}\n",
    "print states"
   ]
  },
  {
   "cell_type": "code",
   "execution_count": 66,
   "metadata": {},
   "outputs": [
    {
     "name": "stdout",
     "output_type": "stream",
     "text": [
      "{'CA': ('Sacramento', 65), 'OR': ('Portland', 55)}\n",
      "{'New York': ('Albany', 50), 'California': ('Sacramento', 70)}\n"
     ]
    }
   ],
   "source": [
    "'''\n",
    "In-class activity: Create a dictionary with five key-value pairs, state \n",
    "as the key and it's capital city and the capital city's current \n",
    "temperature as the value using tuples or lists. \n",
    "'''\n",
    "d = dict(CA=('Sacramento', 65), OR=('Portland', 55))\n",
    "print d\n",
    "states = {'California':('Sacramento', 70), 'New York': ('Albany', 50)}\n",
    "print states\n"
   ]
  },
  {
   "cell_type": "markdown",
   "metadata": {},
   "source": [
    "# Set\n",
    "\n",
    "A set is an unordered collection of unique items. Set is a mutable object. "
   ]
  },
  {
   "cell_type": "code",
   "execution_count": 62,
   "metadata": {},
   "outputs": [
    {
     "name": "stdout",
     "output_type": "stream",
     "text": [
      "['tomatoes', 'eggplant', 'cauliflower', 'eggplant'] set(['cauliflower', 'eggplant', 'tomatoes'])\n"
     ]
    }
   ],
   "source": [
    "vegetables = ['tomatoes','eggplant','cauliflower','eggplant'] # A list\n",
    "vegetables_set = set(vegetables)\n",
    "# set command returns only unique items\n",
    "print vegetables,vegetables_set"
   ]
  },
  {
   "cell_type": "code",
   "execution_count": 65,
   "metadata": {},
   "outputs": [
    {
     "name": "stdout",
     "output_type": "stream",
     "text": [
      "cauliflower\n"
     ]
    }
   ],
   "source": [
    "a = list(vegetables_set)\n",
    "# print vegetables_set[0] # Not allowed as set cannot be indexed. \n",
    "# You can iterate through them.\n",
    "print a[0]"
   ]
  },
  {
   "cell_type": "code",
   "execution_count": 66,
   "metadata": {},
   "outputs": [
    {
     "name": "stdout",
     "output_type": "stream",
     "text": [
      "tomatoes\n",
      "eggplant\n",
      "cauliflower\n",
      "eggplant\n"
     ]
    }
   ],
   "source": [
    "for items in vegetables:\n",
    "    print items "
   ]
  },
  {
   "cell_type": "code",
   "execution_count": 67,
   "metadata": {},
   "outputs": [
    {
     "name": "stdout",
     "output_type": "stream",
     "text": [
      "cauliflower\n",
      "eggplant\n",
      "tomatoes\n"
     ]
    }
   ],
   "source": [
    "for items in vegetables_set:\n",
    "    print items "
   ]
  },
  {
   "cell_type": "code",
   "execution_count": 68,
   "metadata": {},
   "outputs": [
    {
     "name": "stdout",
     "output_type": "stream",
     "text": [
      "False\n"
     ]
    }
   ],
   "source": [
    "# Membership check\n",
    "print 'Cauliflower' in vegetables_set "
   ]
  },
  {
   "cell_type": "code",
   "execution_count": 70,
   "metadata": {},
   "outputs": [
    {
     "name": "stdout",
     "output_type": "stream",
     "text": [
      "['cauliflower', 'eggplant', 'tomatoes']\n"
     ]
    }
   ],
   "source": [
    "finallistofveg = list(vegetables_set)\n",
    "print finallistofveg"
   ]
  },
  {
   "cell_type": "code",
   "execution_count": 73,
   "metadata": {},
   "outputs": [
    {
     "name": "stdout",
     "output_type": "stream",
     "text": [
      "<type 'list'> [1, 1, 4, 5, 7]\n",
      "[1, 4, 5, 7]\n",
      "[1, 4, 5, 7]\n"
     ]
    }
   ],
   "source": [
    "a = [1,1,4,5,7]\n",
    "print type(a), a\n",
    "b = set(a)\n",
    "c = list(b)\n",
    "print c\n",
    "## one technique to remove duplicate items in the list\n",
    "## Set is a special case of python dictionary, the value as well as key\n",
    "## find element in set only need one operation, just use the key and go through the hash function, you can find the value\n",
    "## find element in list worst case need n operation depends on the length.\n",
    "print list(set(a))"
   ]
  },
  {
   "cell_type": "markdown",
   "metadata": {},
   "source": [
    "From https://docs.python.org/2/library/sets.html, you can obtain a list \n",
    "of all operators that can be applied to sets\n",
    "\n",
    "len(s):                           cardinality of set s\n",
    "\n",
    "x in s:                           tests x for membership in s\n",
    "\n",
    "x not in s:                       tests x for non-membership in s\n",
    "\n",
    "s.issubset(t): <=     t:          test whether every element in s is in t\n",
    "\n",
    "s.issuperset(t): s >= t:          test whether every element in t is in s\n",
    "\n",
    "s.union(t): s | t :               new set with elements from both s and t\n",
    "\n",
    "s.intersection(t): s & t:         new set with elements common to s and t\n",
    "\n",
    "s.difference(t): s - t :          new set with elements in s but not in t\n",
    "\n",
    "s.symmetric_difference(t): s ^ t: new set with elements in either \n",
    "                                  s or t but not both\n",
    "                                  \n",
    "s.copy():                         new set with a shallow copy of s\n",
    "\n",
    "s.update(t):                      will add elements from t to s\n",
    "\n",
    "s.add(x1):                        will add x1 to s\n",
    "\n",
    "s.remove(x2):                     will remove x2 from s\n",
    "\n",
    "s.discard(x3):                    will discard x3 from s\n",
    "\n",
    "s.pop():                          will arbitrarily remove an element from s\n",
    "\n",
    "s.clear():                        will clear all elements in s"
   ]
  },
  {
   "cell_type": "code",
   "execution_count": 91,
   "metadata": {},
   "outputs": [
    {
     "name": "stdout",
     "output_type": "stream",
     "text": [
      "set([1, 2, 3, 76, 45]) set([12, 5, 45])\n"
     ]
    }
   ],
   "source": [
    "list1 = [1,2,3,45,76]\n",
    "list2 = [5,12,45]\n",
    "set1 = set(list1)\n",
    "set2 = set(list2)\n",
    "print set1, set2"
   ]
  },
  {
   "cell_type": "code",
   "execution_count": 92,
   "metadata": {},
   "outputs": [
    {
     "name": "stdout",
     "output_type": "stream",
     "text": [
      "set([1, 2, 3, 5, 12, 76, 45])\n",
      "set([45])\n",
      "set([1, 2, 3, 76])\n",
      "True\n",
      "False\n",
      "False\n"
     ]
    }
   ],
   "source": [
    "print set1.union(set2)\n",
    "print set1.intersection(set2)\n",
    "print set1.difference(set2)\n",
    "print 1 in set1 # Check if an element exists in a set using in keyword\n",
    "print set1.issubset(set2) \n",
    "print set2.issubset(set1)"
   ]
  },
  {
   "cell_type": "code",
   "execution_count": 93,
   "metadata": {},
   "outputs": [
    {
     "name": "stdout",
     "output_type": "stream",
     "text": [
      "set([1, 2, 3, 5, 12, 76, 45])\n"
     ]
    }
   ],
   "source": [
    "# update()\n",
    "# current_set.update(another_set) function will update current_set with \n",
    "# elements in another_set\n",
    "set1.update(set2)\n",
    "print set1"
   ]
  },
  {
   "cell_type": "code",
   "execution_count": 94,
   "metadata": {},
   "outputs": [
    {
     "name": "stdout",
     "output_type": "stream",
     "text": [
      "set([1, 2, 3, 5, 12, 76, 45, -11])\n"
     ]
    }
   ],
   "source": [
    "# add()\n",
    "# current_set.add(x1) will add x1 to current_set\n",
    "set1.add(-11)\n",
    "print set1"
   ]
  },
  {
   "cell_type": "code",
   "execution_count": 95,
   "metadata": {},
   "outputs": [
    {
     "name": "stdout",
     "output_type": "stream",
     "text": [
      "set([1, 3, 5, 12, 76, 45, -11])\n"
     ]
    }
   ],
   "source": [
    "# remove()\n",
    "# current_set.remove(x2) will remove x2 from current_set\n",
    "set1.remove(2) \n",
    "print set1"
   ]
  },
  {
   "cell_type": "code",
   "execution_count": 97,
   "metadata": {},
   "outputs": [
    {
     "name": "stdout",
     "output_type": "stream",
     "text": [
      "set([1, 5, 12, 76, 45, -11])\n"
     ]
    }
   ],
   "source": [
    "# discard()\n",
    "# current_set.discard(x3) will remove x3 from current_set\n",
    "'''\n",
    "A key difference between remove() and discard() is that if the element is \n",
    "not there then remove will raise an exception called 'KeyError' while discard() \n",
    "will silently fail\n",
    "'''\n",
    "\n",
    "set1.discard(30) \n",
    "print set1"
   ]
  },
  {
   "cell_type": "code",
   "execution_count": 98,
   "metadata": {},
   "outputs": [
    {
     "name": "stdout",
     "output_type": "stream",
     "text": [
      "set([5, 12, 76, 45, -11])\n"
     ]
    }
   ],
   "source": [
    "# pop()\n",
    "# current_set.pop() will arbitrarily removes an element from current_set\n",
    "set1.pop() \n",
    "print set1"
   ]
  },
  {
   "cell_type": "code",
   "execution_count": 99,
   "metadata": {},
   "outputs": [
    {
     "name": "stdout",
     "output_type": "stream",
     "text": [
      "set([])\n"
     ]
    }
   ],
   "source": [
    "# clear()\n",
    "# current_set.clear() will remove all the elements from current_set\n",
    "set1.clear()\n",
    "print(set1)"
   ]
  },
  {
   "cell_type": "code",
   "execution_count": 102,
   "metadata": {},
   "outputs": [
    {
     "name": "stdout",
     "output_type": "stream",
     "text": [
      "{2: 2, 3: 1, 5: 1, 6: 3}\n",
      "{2: 2, 3: 1, 5: 1, 6: 3}\n",
      "Counter({6: 3, 2: 2, 3: 1, 5: 1})\n"
     ]
    }
   ],
   "source": [
    "'''\n",
    "In-class activity:\n",
    "mylist = [2,3,2,5,6,6,6], create a dictionary with element in mylist as a key \n",
    "and its frequency of occurrence as its value. Use set to accomplish this.\n",
    "'''\n",
    "mylist = [2,3,2,5,6,6,6]\n",
    "d = {}\n",
    "for items in set(mylist): ## change to type set to minimize the iterations\n",
    "    d[items] = mylist.count(items)\n",
    "print d\n",
    "\n",
    "d1 = {v: mylist.count(v) for v in set(mylist)}\n",
    "print d1\n",
    "\n",
    "import collections\n",
    "d2 = collections.Counter(mylist)\n",
    "print d2"
   ]
  },
  {
   "cell_type": "code",
   "execution_count": null,
   "metadata": {},
   "outputs": [],
   "source": [
    "'''\n",
    "Question 1: 5points\n",
    "\n",
    "Use the formula\n",
    "\n",
    "Pn = P0*(1+r)^n\n",
    "\n",
    "where P0 is the principal amount, Pn is the compounded principal, \n",
    "r is the rate of interest and n is the number of year.\n",
    "\n",
    "Assume r = 10% and n = 1 to 20, create a Python list that will store \n",
    "the value of (1+r)^n where n = 1 to 20. Subsequently, take an input from \n",
    "the command line for the value of P0 and calculate Pn all values of n. \n",
    "Repeat this process until a 'Q' or 'q' is pressed to quit the program.\n",
    "\n",
    "'''\n",
    "r = 0.1\n",
    "l1 = []\n",
    "l1 = [(1+r)**x for x in range(21)]\n",
    "print l1\n",
    "for n in range(21):\n",
    "    if n == 0:\n",
    "        continue\n",
    "    else:\n",
    "        m = (1+r)**n\n",
    "        l.append(m)\n",
    "print l\n",
    "P0 = raw_input(\"Enter the principal amount:\")\n",
    "pn = []\n",
    "for item in l:\n",
    "    Pn.append(P0 * item)\n",
    "print Pn"
   ]
  },
  {
   "cell_type": "code",
   "execution_count": null,
   "metadata": {},
   "outputs": [],
   "source": [
    "## Action Item\n",
    "## study default dict, ordered Dict from collections module\n",
    "## check Mypy \n",
    "## from typing import Iterator\n",
    "## def fib(n:int) -> Iterator[int]:\n",
    "## you can use import copy module to do deep copy: copy.deepcopy"
   ]
  },
  {
   "cell_type": "code",
   "execution_count": null,
   "metadata": {},
   "outputs": [],
   "source": []
  }
 ],
 "metadata": {
  "kernelspec": {
   "display_name": "Python 2",
   "language": "python",
   "name": "python2"
  },
  "language_info": {
   "codemirror_mode": {
    "name": "ipython",
    "version": 2
   },
   "file_extension": ".py",
   "mimetype": "text/x-python",
   "name": "python",
   "nbconvert_exporter": "python",
   "pygments_lexer": "ipython2",
   "version": "2.7.14"
  }
 },
 "nbformat": 4,
 "nbformat_minor": 1
}
