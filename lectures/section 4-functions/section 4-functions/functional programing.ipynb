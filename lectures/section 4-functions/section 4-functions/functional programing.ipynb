{
 "cells": [
  {
   "cell_type": "markdown",
   "metadata": {
    "collapsed": true
   },
   "source": [
    "In this notebook we will discuss:\n",
    "    \n",
    "filter() : n elements input and <n elements output depends on condition, function has to return logical value to do filter\n",
    "\n",
    "map() : n elements input and n elements output\n",
    "\n",
    "reduce() : n elements input and 1 element output\n",
    "\n",
    "lambda function : n elements input and n elements output\n",
    "\n",
    "# procedure programming : follow a sequence\n",
    "# functional programming : protect original data or state\n",
    "# object programming : inheritance and polymorphism"
   ]
  },
  {
   "cell_type": "markdown",
   "metadata": {},
   "source": [
    "Functional programming is a programming paradigm that evaluates an expression \n",
    "without changing state and data.  \n",
    "\n",
    "What does this mean?\n",
    "\n",
    "1) For a given input, functions will always give the same output regardless of how many times the operation is evaluated.  \n",
    "\n",
    "2) Functions transform input into output without intermediate representation of the current state.  \n",
    "\n",
    "3) Functions will return a new data as the output leaving the original input intact. "
   ]
  },
  {
   "cell_type": "markdown",
   "metadata": {},
   "source": [
    "filter() takes two inputs- a function and an iterable. filter returns a list of values that satisfies the condition, in this case it returns all the values between 2 and 9 that are NOT divisible by 2."
   ]
  },
  {
   "cell_type": "code",
   "execution_count": 2,
   "metadata": {},
   "outputs": [
    {
     "name": "stdout",
     "output_type": "stream",
     "text": [
      "[2, 3, 4, 5, 6, 7, 8, 9]\n",
      "True\n",
      "False\n",
      "[3, 5, 7, 9]\n"
     ]
    }
   ],
   "source": [
    "# Get all odd numbers between 2 and 10\n",
    "a = range(2, 10)\n",
    "print a\n",
    "\n",
    "def f(x): \n",
    "    return x % 2 != 0\n",
    "\n",
    "print(f(3))\n",
    "print(f(2))\n",
    "print(\"----\")\n",
    "b = filter(f, a) # f is the function used as the condition and a is the input\n",
    "# takes every item in a to f, based on logical value from that function (f), item will filter out or not\n",
    "# input function has to return logical value\n",
    "# you cannot mutate a or passing a at all, safer way for programming\n",
    "print b"
   ]
  },
  {
   "cell_type": "markdown",
   "metadata": {},
   "source": [
    "The lambda function, also known as anonymous function is used \n",
    "when the function is a throw away function or is not used more than once. \n",
    "\n",
    "Syntax for lambda function:\n",
    "\n",
    "lambda inputs : output\n",
    "\n",
    "Let us consider an example\n",
    "\n",
    "lambda x: x%2 !=0 \n",
    "\n",
    "can be interpreted as follows:\n",
    "x to the left of the : is the argument to \n",
    "the function. The expression x%2!=0 to the right of : is the \n",
    "operation being performed inside the function and also the value \n",
    "being returned by the function."
   ]
  },
  {
   "cell_type": "code",
   "execution_count": 4,
   "metadata": {},
   "outputs": [
    {
     "name": "stdout",
     "output_type": "stream",
     "text": [
      "[3, 5, 7, 9]\n"
     ]
    }
   ],
   "source": [
    "# Get all odd numbers between 2 and 10 using LAMBDA FUNCTIONS\n",
    "a = range(2,10)\n",
    "b = filter(lambda x : x%2!=0, a) # input x, return as x%2!=0, a is not the input!!!! lambda function not used more than once\n",
    "print b\n",
    "# pandas module used for spreedsheet data"
   ]
  },
  {
   "cell_type": "markdown",
   "metadata": {},
   "source": [
    "map() takes a function and iterable(s). In this case one input is \n",
    "the function and other input is the values. Map returns a list which is the output of the function. In this case it returns the squares of the values from 1 to 4. Map takes a set of values and returns another set of values based on the function."
   ]
  },
  {
   "cell_type": "code",
   "execution_count": 6,
   "metadata": {},
   "outputs": [
    {
     "name": "stdout",
     "output_type": "stream",
     "text": [
      "[None, None, None, None]\n"
     ]
    }
   ],
   "source": [
    "def squared(x): \n",
    "    #return x*x\n",
    "    pass\n",
    "print map(squared, range(1, 5)) \n",
    "# same as for loop of range(1, 5), but ganrantee no mutate to the original data \n",
    "# and also no need to do deep copy, waste memory and time"
   ]
  },
  {
   "cell_type": "code",
   "execution_count": 15,
   "metadata": {},
   "outputs": [
    {
     "name": "stdout",
     "output_type": "stream",
     "text": [
      "[1, 4, 9, 16]\n",
      "[4, 16]\n"
     ]
    }
   ],
   "source": [
    "'''\n",
    "lambda function that is similar to the squared function \n",
    "'''\n",
    "b = map(lambda x:x*x, range(1, 5))\n",
    "c = filter(lambda x:x%2 == 0, b)\n",
    "print b\n",
    "print c"
   ]
  },
  {
   "cell_type": "code",
   "execution_count": 7,
   "metadata": {},
   "outputs": [
    {
     "name": "stdout",
     "output_type": "stream",
     "text": [
      "[1, 4, 9, 16]\n"
     ]
    }
   ],
   "source": [
    "'''\n",
    "You can also give a name to the lambda function. \n",
    "'''\n",
    "\n",
    "lambdasq = lambda x:x*x\n",
    "print map(lambdasq, range(1, 5))\n",
    "# strange to do this way"
   ]
  },
  {
   "cell_type": "code",
   "execution_count": 11,
   "metadata": {},
   "outputs": [
    {
     "name": "stdout",
     "output_type": "stream",
     "text": [
      "[5, 7, 9]\n"
     ]
    }
   ],
   "source": [
    "a = [1,2,3]\n",
    "b = [4,5,6]\n",
    "def add(a1, b1=4): \n",
    "    return a1+b1\n",
    "# here map takes two lists and adds them\n",
    "print map(add,a,b)"
   ]
  },
  {
   "cell_type": "markdown",
   "metadata": {},
   "source": [
    "reduce() is used to shrink an iterable to a single value."
   ]
  },
  {
   "cell_type": "code",
   "execution_count": 12,
   "metadata": {},
   "outputs": [
    {
     "name": "stdout",
     "output_type": "stream",
     "text": [
      "8\n"
     ]
    }
   ],
   "source": [
    "# Find the sum of all elements in a list\n",
    "a = [1,2,5]\n",
    "print reduce(lambda x,y: x+y, a)"
   ]
  },
  {
   "cell_type": "code",
   "execution_count": 13,
   "metadata": {},
   "outputs": [
    {
     "name": "stdout",
     "output_type": "stream",
     "text": [
      "10\n"
     ]
    }
   ],
   "source": [
    "a = [1,2,5]\n",
    "print reduce(lambda x,y: x*y , a)"
   ]
  },
  {
   "cell_type": "code",
   "execution_count": 16,
   "metadata": {},
   "outputs": [
    {
     "name": "stdout",
     "output_type": "stream",
     "text": [
      "10\n"
     ]
    }
   ],
   "source": [
    "import functools\n",
    "a = [1,2,5]\n",
    "print (functools.reduce(lambda x,y: x*y, a))\n",
    "# functools: Higher-order functions and operations on callable objects\n"
   ]
  },
  {
   "cell_type": "code",
   "execution_count": null,
   "metadata": {},
   "outputs": [],
   "source": [
    "# Action Items\n",
    "# study functools"
   ]
  }
 ],
 "metadata": {
  "kernelspec": {
   "display_name": "Python 2",
   "language": "python",
   "name": "python2"
  },
  "language_info": {
   "codemirror_mode": {
    "name": "ipython",
    "version": 2
   },
   "file_extension": ".py",
   "mimetype": "text/x-python",
   "name": "python",
   "nbconvert_exporter": "python",
   "pygments_lexer": "ipython2",
   "version": "2.7.14"
  }
 },
 "nbformat": 4,
 "nbformat_minor": 1
}
