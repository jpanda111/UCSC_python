{
 "cells": [
  {
   "cell_type": "markdown",
   "metadata": {},
   "source": [
    "In this notebook we will discuss:\n",
    "1. Functions\n",
    "2. Arguments and outputs\n",
    "3. default argument\n",
    "4. keyword based arguments"
   ]
  },
  {
   "cell_type": "code",
   "execution_count": 1,
   "metadata": {
    "scrolled": true
   },
   "outputs": [
    {
     "name": "stdout",
     "output_type": "stream",
     "text": [
      "the increment value is : 21\n",
      "21\n"
     ]
    }
   ],
   "source": [
    "'''\n",
    "names of function should be lower case, names of class should be upper case\n",
    "Syntax for function\n",
    "def name_of_the_function(list of arguments):\n",
    "    statements that need to be executed\n",
    "    return value\n",
    "\n",
    "'''\n",
    "\n",
    "def increment(a):\n",
    "    b = a+1\n",
    "    print 'the increment value is : %d' %b\n",
    "    return b\n",
    "\n",
    "print increment(20) # calling the function and passing a required argument."
   ]
  },
  {
   "cell_type": "code",
   "execution_count": 30,
   "metadata": {},
   "outputs": [
    {
     "name": "stdout",
     "output_type": "stream",
     "text": [
      "the increment value is : 21\n",
      "21\n"
     ]
    }
   ],
   "source": [
    "# Scope of variables that are is local to the function. \n",
    "\n",
    "'''\n",
    "The variable b does not exist outside the function.  \n",
    "So we will get NameError exception.\n",
    "'''\n",
    "\n",
    "def increment(a):\n",
    "    b = a+1\n",
    "    print 'the increment value is : %d' %b\n",
    "    return b\n",
    "\n",
    "print increment(20) # calling the function and passing a required argument. \n",
    "#print b # b does not exist outside of function"
   ]
  },
  {
   "cell_type": "code",
   "execution_count": 2,
   "metadata": {},
   "outputs": [
    {
     "name": "stdout",
     "output_type": "stream",
     "text": [
      "The value of a is: 3\n",
      "13\n"
     ]
    }
   ],
   "source": [
    "# A function can take multiple inputs\n",
    "def increment(a,incr):\n",
    "    c = a+incr\n",
    "    print 'The value of a is: %d' %a\n",
    "    return c\n",
    "\n",
    "print increment(3,10) # calling the function and passing two required arguments. \n",
    "# 10 will be assigned to a and \n",
    "# 3 will be assigned to incr. So these are called positional arguments."
   ]
  },
  {
   "cell_type": "code",
   "execution_count": 5,
   "metadata": {},
   "outputs": [
    {
     "name": "stdout",
     "output_type": "stream",
     "text": [
      "(13, 10, 3)\n",
      "((13, 10, 3), <type 'tuple'>)\n"
     ]
    }
   ],
   "source": [
    "def increment(a,incr):\n",
    "    c = a+incr\n",
    "    return c,a,incr\n",
    "    # returning multiple values as a tuple default if not specified\n",
    "    # return (c,a,incr)\n",
    "    # returning multiple values as a tuple\n",
    "d = increment(10,3)\n",
    "print increment(10,3)\n",
    "print (d, type(d))"
   ]
  },
  {
   "cell_type": "code",
   "execution_count": 6,
   "metadata": {},
   "outputs": [
    {
     "name": "stdout",
     "output_type": "stream",
     "text": [
      "4\n",
      "7\n"
     ]
    }
   ],
   "source": [
    "# Specifying default values\n",
    "def increment(a,incr=1):\n",
    "    a = a+incr\n",
    "    return a\n",
    "\n",
    "print increment(3) # for this the incr will default to 1\n",
    "print increment(3,4) \n",
    "# here the incr is assigned a value of 4 which overrides the default value"
   ]
  },
  {
   "cell_type": "code",
   "execution_count": 9,
   "metadata": {},
   "outputs": [
    {
     "name": "stdout",
     "output_type": "stream",
     "text": [
      "the value of a is :6\n",
      "8\n",
      "the value of a is :4\n",
      "5\n",
      "the value of a is :7\n",
      "8\n",
      "the value of a is :7\n",
      "37\n"
     ]
    }
   ],
   "source": [
    "def increment(a=4,incr1=1):\n",
    "    print 'the value of a is :%d' %a\n",
    "    a = a+incr1\n",
    "    return a\n",
    "\n",
    "print increment(a=6,incr1=2) # 2 keyword arguments by label, much better way than position\n",
    "print increment() # use two default values\n",
    "print increment(7) # use one default values\n",
    "print increment(7,30) # override the default values by position\n",
    "# all the arguments will take in as dictionary"
   ]
  },
  {
   "cell_type": "code",
   "execution_count": 10,
   "metadata": {},
   "outputs": [
    {
     "name": "stdout",
     "output_type": "stream",
     "text": [
      "the value of a is :3\n",
      "5\n"
     ]
    }
   ],
   "source": [
    "print increment(incr1=2,a=3) # this is keyword arguments\n",
    "# Unlike positional arguments, order is not important for keyword arguments."
   ]
  },
  {
   "cell_type": "code",
   "execution_count": 11,
   "metadata": {},
   "outputs": [
    {
     "name": "stdout",
     "output_type": "stream",
     "text": [
      "the value of a is :10\n",
      "15\n"
     ]
    }
   ],
   "source": [
    "print increment(10,incr1=5) \n",
    "# if you assign a value for a keyword argument \n",
    "# then other arguments to its right should also be assigned values."
   ]
  },
  {
   "cell_type": "code",
   "execution_count": 12,
   "metadata": {},
   "outputs": [
    {
     "ename": "SyntaxError",
     "evalue": "non-keyword arg after keyword arg (<ipython-input-12-c94119bfccf7>, line 1)",
     "output_type": "error",
     "traceback": [
      "\u001b[1;36m  File \u001b[1;32m\"<ipython-input-12-c94119bfccf7>\"\u001b[1;36m, line \u001b[1;32m1\u001b[0m\n\u001b[1;33m    print increment(a=10,5) # This will generate a Syntax error\u001b[0m\n\u001b[1;31mSyntaxError\u001b[0m\u001b[1;31m:\u001b[0m non-keyword arg after keyword arg\n"
     ]
    }
   ],
   "source": [
    "print increment(a=10,5) # This will generate a Syntax error\n",
    "# non-keyword arg after keyword arg is not allowed\n",
    "# keyword after non-keyword arg is allowed"
   ]
  },
  {
   "cell_type": "code",
   "execution_count": 13,
   "metadata": {},
   "outputs": [
    {
     "name": "stdout",
     "output_type": "stream",
     "text": [
      "the value of a is :5\n",
      "7\n"
     ]
    }
   ],
   "source": [
    "print increment(5,incr1=2) \n",
    "# if you assign a value for a keyword argument \n",
    "# then other keyword arguments to its right should also be assigned values."
   ]
  },
  {
   "cell_type": "code",
   "execution_count": 14,
   "metadata": {},
   "outputs": [
    {
     "name": "stdout",
     "output_type": "stream",
     "text": [
      "<type 'function'>\n",
      "<function increment at 0x0000000007259898>\n"
     ]
    }
   ],
   "source": [
    "print type(increment)\n",
    "print increment"
   ]
  },
  {
   "cell_type": "markdown",
   "metadata": {},
   "source": [
    "Mutable and Immutable objects in Python - Mutable objects can be changed in place that means we can change their content without changing their identity. Whereas immutable objects cannot be changed in place. \n",
    "\n",
    "Mutable objects:\n",
    "    \n",
    "    Set\n",
    "    \n",
    "    List\n",
    "    \n",
    "    Dictionary\n",
    "    \n",
    "Immutable objects:\n",
    "    \n",
    "    String\n",
    "    \n",
    "    Integer\n",
    "    \n",
    "    Float\n",
    "    \n",
    "    Tuple\n",
    "    \n",
    "    bool"
   ]
  },
  {
   "cell_type": "code",
   "execution_count": 15,
   "metadata": {},
   "outputs": [
    {
     "name": "stdout",
     "output_type": "stream",
     "text": [
      "10 21459392\n",
      "10 21459392\n",
      "10 21459392\n",
      "21 21459128\n"
     ]
    }
   ],
   "source": [
    "a = 10\n",
    "b = a\n",
    "print a, id(a)\n",
    "print b, id(b) # id of b is the same as a's # both b and a are pointers\n",
    "b = b + 11\n",
    "print a, id(a)\n",
    "print b, id(b) # b become a different pointer"
   ]
  },
  {
   "cell_type": "code",
   "execution_count": 17,
   "metadata": {},
   "outputs": [
    {
     "name": "stdout",
     "output_type": "stream",
     "text": [
      "[12, 14] 119916232\n",
      "[12, 14] 119916232\n",
      "[12, 14, -12] 119916232\n",
      "[12, 14, -12] 119916232\n",
      "[12, 14, -12] 119916232\n",
      "[12, 14, -12] 119484104\n"
     ]
    }
   ],
   "source": [
    "C = [12, 14] # list, C pointer to first item\n",
    "D = C # soft copy, pointer same as C\n",
    "print C, id(C)\n",
    "print D, id(D)\n",
    "D.append(-12) # adding -12 to the list\n",
    "print C, id(C) # C still same pointer\n",
    "print D, id(D) # D still same pointer\n",
    "E = C[:] # deep copy\n",
    "print C, id(C)\n",
    "print E, id(E) # different pointer since different memory location"
   ]
  },
  {
   "cell_type": "markdown",
   "metadata": {},
   "source": [
    "Pass-by-value and pass-by-reference\n",
    "\n",
    "http://stackoverflow.com/questions/986006/how-do-i-pass-a-variable-by-reference"
   ]
  },
  {
   "cell_type": "code",
   "execution_count": 40,
   "metadata": {},
   "outputs": [
    {
     "name": "stdout",
     "output_type": "stream",
     "text": [
      "a =  4\n",
      "b =  2\n"
     ]
    }
   ],
   "source": [
    "def myfunc(a):# a is an int\n",
    "    a = a*2\n",
    "    print \"a = \", a\n",
    "    return a\n",
    "b = 2\n",
    "myfunc(b) # value of b assign to a\n",
    "print \"b = \", b # b still not changed"
   ]
  },
  {
   "cell_type": "code",
   "execution_count": 41,
   "metadata": {},
   "outputs": [
    {
     "name": "stdout",
     "output_type": "stream",
     "text": [
      "a =  (4, 5, 6)\n",
      "b =  (1, 2, 3)\n"
     ]
    }
   ],
   "source": [
    "def myfunc(a):# a is a TUPLE that is completely replaced # left branch\n",
    "    a = (4, 5, 6,)\n",
    "    print \"a = \", a\n",
    "    return a\n",
    "b = (1,2,3)\n",
    "myfunc(b)\n",
    "print \"b = \", b"
   ]
  },
  {
   "cell_type": "code",
   "execution_count": 21,
   "metadata": {},
   "outputs": [
    {
     "name": "stdout",
     "output_type": "stream",
     "text": [
      "a =  [4, 5, 6]\n",
      "b =  [1, 2, 3, 10]\n"
     ]
    }
   ],
   "source": [
    "def myfunc(a):# a is a list that is completely replaced # middle branch\n",
    "    a.append(10)\n",
    "    a = [4,5,6]\n",
    "    print \"a = \", a\n",
    "    return a\n",
    "b = [1,2,3]\n",
    "myfunc(b)\n",
    "print \"b = \", b\n",
    "# pass by value: no mutatation of the list inside the function"
   ]
  },
  {
   "cell_type": "code",
   "execution_count": 20,
   "metadata": {},
   "outputs": [
    {
     "name": "stdout",
     "output_type": "stream",
     "text": [
      "a =  [1, 2, 3, 4]\n",
      "b =  [1, 2, 3, 4]\n"
     ]
    }
   ],
   "source": [
    "def myfunc(a):# a is a LIST that is modified inline # right branch\n",
    "    a.append(4)\n",
    "    print \"a = \", a\n",
    "    return a\n",
    "b = [1,2,3]\n",
    "myfunc(b)\n",
    "print \"b = \", b \n",
    "# both a and b point to the same memory which got modified by a.append()\n",
    "# pass by reference: mutate the list inside the function"
   ]
  },
  {
   "cell_type": "code",
   "execution_count": 22,
   "metadata": {},
   "outputs": [
    {
     "name": "stdout",
     "output_type": "stream",
     "text": [
      "a =  [1, 2, 3, 4]\n",
      "b =  [1, 2, 3]\n"
     ]
    }
   ],
   "source": [
    "def myfunc(a):# a is a LIST that is modified inline\n",
    "    a = a[:] \n",
    "    # Creating a deepcopy will solve the problem of pass by reference\n",
    "    a.append(4)\n",
    "    print \"a = \", a\n",
    "    return a\n",
    "b = [1,2,3]\n",
    "myfunc(b)\n",
    "print \"b = \", b\n",
    "# typical coding: using mutable object to do the calculation, but always \n",
    "# return different data structure"
   ]
  },
  {
   "cell_type": "code",
   "execution_count": null,
   "metadata": {},
   "outputs": [],
   "source": [
    "'''\n",
    "Summary of pass-by-value and pass-by-reference\n",
    "'''"
   ]
  },
  {
   "cell_type": "markdown",
   "metadata": {},
   "source": [
    "<img src=\"http://i.stack.imgur.com/hKDcu.png = 70*70\">"
   ]
  },
  {
   "cell_type": "code",
   "execution_count": 30,
   "metadata": {},
   "outputs": [
    {
     "name": "stdout",
     "output_type": "stream",
     "text": [
      "[4, 49, 100]\n",
      "{-7: 49, 2: 4, 10: 100}\n"
     ]
    }
   ],
   "source": [
    "'''\n",
    "In-class activity\n",
    "\n",
    "1) Create a function called squared which takes a list called mylist and \n",
    "returns another list where the elements are square of mylist. \n",
    "\n",
    "2) Create another function that takes mylist and returns a dictionary where the \n",
    "key is the input and the value is the square of the input. \n",
    "'''\n",
    "mylist = [2, -7, 10]\n",
    "def squared(mylist):\n",
    "    l = []\n",
    "    for item in mylist:\n",
    "        l.append(item**2)\n",
    "    return l\n",
    "\n",
    "def squared_dict(mylist):\n",
    "    d = {}\n",
    "    for item in mylist:\n",
    "        d[item]=item**2\n",
    "    return d\n",
    "print(squared(mylist))\n",
    "print(squared_dict(mylist))\n",
    "\n",
    "# def flist(m): # treat m as immutable object\n",
    "#     return [i*i for i in m]\n",
    "# def fdict(m):\n",
    "#     return {i:i*i for i in m}"
   ]
  },
  {
   "cell_type": "code",
   "execution_count": 29,
   "metadata": {},
   "outputs": [
    {
     "name": "stdout",
     "output_type": "stream",
     "text": [
      "(21459512L, 21459512L)\n"
     ]
    }
   ],
   "source": [
    "i = 5\n",
    "j = i\n",
    "print(id(i), id(j))"
   ]
  },
  {
   "cell_type": "code",
   "execution_count": 31,
   "metadata": {},
   "outputs": [
    {
     "name": "stdout",
     "output_type": "stream",
     "text": [
      "(-10,) <type 'tuple'>\n",
      "-10\n",
      "(1, 2, 3) <type 'tuple'>\n",
      "1\n",
      "2\n",
      "3\n"
     ]
    }
   ],
   "source": [
    "# args and kwargs helps to supply variable number of arguments to a \n",
    "# function. Inside the function, args is of type tuple.\n",
    "def take1(*args): # you can supply any number of arguments\n",
    "    ## you can do other names, python recognize it when we have *; ## def taken2(*a) # args is conventional\n",
    "    print args, type(args) # args would become a tuple contains all the inputs\n",
    "    for i in args:\n",
    "        print i\n",
    "        \n",
    "take1(-10) # , to differentiate integer and tuple with single number\n",
    "take1(1,2,3)"
   ]
  },
  {
   "cell_type": "code",
   "execution_count": 32,
   "metadata": {},
   "outputs": [
    {
     "name": "stdout",
     "output_type": "stream",
     "text": [
      "{'a': 'abe'} <type 'dict'>\n",
      "{'a': 'abe', 'b': 'cab'} <type 'dict'>\n"
     ]
    }
   ],
   "source": [
    "# kwargs is a dictionary, with the dictionary key being the variable \n",
    "# name and dictionary value is the value of that variable\n",
    "def utake(**kwargs): # same as above, but type is dictionary\n",
    "    print kwargs, type(kwargs)\n",
    "    \n",
    "utake(a = 'abe')\n",
    "utake(a = 'abe', b ='cab')"
   ]
  },
  {
   "cell_type": "code",
   "execution_count": 33,
   "metadata": {},
   "outputs": [
    {
     "name": "stdout",
     "output_type": "stream",
     "text": [
      "a 7\n",
      "c 3\n",
      "b -5\n",
      "d -10\n"
     ]
    }
   ],
   "source": [
    "def ptab(**kwargs):\n",
    "    # since kwargs is a dictionary, we can iterate using items() function. \n",
    "    for key, value in kwargs.items():\n",
    "        print key, value\n",
    "\n",
    "ptab(a = 7, b = -5, c = 3, d = -10)"
   ]
  },
  {
   "cell_type": "code",
   "execution_count": null,
   "metadata": {},
   "outputs": [],
   "source": [
    "class ImOKButton(models.Model):\n",
    "    def save(self, *args, **kwargs):\n",
    "        if not self.entryDate:\n",
    "            self.entryDate = dattetime.datetime.utcnow().replace(tzinfo=ytz.timezone('UTC'))\n",
    "        self.reminderEntryDateTime = dattetime.datetime.utcnow().replace(tzinfo=ytz.timezone('UTC'))\n",
    "        super(ImOKButton, self).save(*args,*Kwargs)"
   ]
  },
  {
   "cell_type": "code",
   "execution_count": 39,
   "metadata": {},
   "outputs": [
    {
     "name": "stdout",
     "output_type": "stream",
     "text": [
      "h\n",
      "e\n",
      "l\n",
      "l\n",
      "o\n",
      "!\n"
     ]
    }
   ],
   "source": [
    "'''\n",
    "In-class activity: define a function that takes a word and prints \n",
    "characters from the word. Call the function and pass a word.\n",
    "'''\n",
    "def word2char(w):\n",
    "    # print [item for item in w]\n",
    "    for item in w:\n",
    "        print item\n",
    "word2char(\"hello!\")"
   ]
  },
  {
   "cell_type": "code",
   "execution_count": 38,
   "metadata": {},
   "outputs": [
    {
     "name": "stdout",
     "output_type": "stream",
     "text": [
      "15.5555555556\n"
     ]
    }
   ],
   "source": [
    "'''\n",
    "In-class activity: define a function that converts Fahrenheit into \n",
    "Celsius. The formula is C = (F - 32)*(5.0/9). Use sys in the code and \n",
    "pass the value when running the program from the command line \n",
    "(if Windows) or terminal (if MAC).\n",
    "'''\n",
    "def fah2cel(f):\n",
    "    return (f-32)*(5.0/9)\n",
    "print fah2cel(60)"
   ]
  },
  {
   "cell_type": "code",
   "execution_count": null,
   "metadata": {
    "collapsed": true
   },
   "outputs": [],
   "source": [
    "# Action Items\n",
    "# python file1.py 10 20\n",
    "# read sys and item : argv and argc\n",
    "# import sys\n",
    "# program_name = sys.argv[0]\n",
    "# arguments = sys.argv[1:]"
   ]
  }
 ],
 "metadata": {
  "kernelspec": {
   "display_name": "Python 2",
   "language": "python",
   "name": "python2"
  },
  "language_info": {
   "codemirror_mode": {
    "name": "ipython",
    "version": 2
   },
   "file_extension": ".py",
   "mimetype": "text/x-python",
   "name": "python",
   "nbconvert_exporter": "python",
   "pygments_lexer": "ipython2",
   "version": "2.7.14"
  }
 },
 "nbformat": 4,
 "nbformat_minor": 1
}
