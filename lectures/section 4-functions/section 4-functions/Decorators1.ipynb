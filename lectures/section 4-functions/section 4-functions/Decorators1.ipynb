{
 "cells": [
  {
   "cell_type": "markdown",
   "metadata": {},
   "source": [
    "In Python, functions are first class objects. That means that functions can be around and used as arguments. A decorator is a function that takes another function and extends the behavior of the latter function without explicitly modifying it. Decorators provide a simple syntax for calling higher-order functions.\n",
    "\n",
    "References:\n",
    "\n",
    "http://simeonfranklin.com/blog/2012/jul/1/python-decorators-in-12-steps/\n",
    "\n",
    "http://thecodeship.com/patterns/guide-to-python-function-decorators/"
   ]
  },
  {
   "cell_type": "code",
   "execution_count": 9,
   "metadata": {},
   "outputs": [
    {
     "name": "stdout",
     "output_type": "stream",
     "text": [
      "1\n",
      "2\n",
      "------\n",
      "<function inner at 0x0000000006D869E8>\n",
      "2\n"
     ]
    }
   ],
   "source": [
    "# the function outer is the decorator, to extend behaviour of function re_one()\n",
    "def outer(some_func):\n",
    "    def inner(): # define another function inner\n",
    "        #print \"before some_func\"\n",
    "        ret = some_func() # closure, the nested functions can access the variables of the enclosing scope, read only though\n",
    "        return ret + 1\n",
    "    return inner # we are returning inner function\n",
    "\n",
    "def re_one():\n",
    "    return 1\n",
    "\n",
    "# First method to use a decorator\n",
    "print(re_one())\n",
    "print(outer(re_one)())\n",
    "print('------')\n",
    "d = outer(re_one) # this is the inner function, but you are not call it \n",
    "print d\n",
    "d = outer(re_one)() # call the inner function and return ret+1 value\n",
    "print d\n",
    "# outer is the decorator for re_one. Any calls to re_one won't get the \n",
    "# original re_one, instead will get the decorated version.\n"
   ]
  },
  {
   "cell_type": "code",
   "execution_count": 12,
   "metadata": {},
   "outputs": [
    {
     "name": "stdout",
     "output_type": "stream",
     "text": [
      "22\n"
     ]
    },
    {
     "ename": "ImportError",
     "evalue": "No module named django.contrib.auth.decorators",
     "output_type": "error",
     "traceback": [
      "\u001b[1;31m\u001b[0m",
      "\u001b[1;31mImportError\u001b[0mTraceback (most recent call last)",
      "\u001b[1;32m<ipython-input-12-06c593d31505>\u001b[0m in \u001b[0;36m<module>\u001b[1;34m()\u001b[0m\n\u001b[0;32m      7\u001b[0m \u001b[1;31m# automatically print in jupyter but not in python\u001b[0m\u001b[1;33m\u001b[0m\u001b[1;33m\u001b[0m\u001b[0m\n\u001b[0;32m      8\u001b[0m \u001b[1;33m\u001b[0m\u001b[0m\n\u001b[1;32m----> 9\u001b[1;33m \u001b[1;32mfrom\u001b[0m \u001b[0mdjango\u001b[0m\u001b[1;33m.\u001b[0m\u001b[0mcontrib\u001b[0m\u001b[1;33m.\u001b[0m\u001b[0mauth\u001b[0m\u001b[1;33m.\u001b[0m\u001b[0mdecorators\u001b[0m \u001b[1;32mimport\u001b[0m \u001b[0mlogin_required\u001b[0m\u001b[1;33m\u001b[0m\u001b[0m\n\u001b[0m\u001b[0;32m     10\u001b[0m \u001b[1;33m@\u001b[0m\u001b[0mlogin_required\u001b[0m\u001b[1;33m\u001b[0m\u001b[0m\n\u001b[0;32m     11\u001b[0m \u001b[1;32mdef\u001b[0m \u001b[0mvoiceassistantdeviceregister\u001b[0m\u001b[1;33m(\u001b[0m\u001b[0mrequest\u001b[0m\u001b[1;33m)\u001b[0m\u001b[1;33m:\u001b[0m\u001b[1;33m\u001b[0m\u001b[0m\n",
      "\u001b[1;31mImportError\u001b[0m: No module named django.contrib.auth.decorators"
     ]
    }
   ],
   "source": [
    "# Second method to use a decorator\n",
    "@outer\n",
    "def re_twenty():\n",
    "    return 20\n",
    "print(outer(re_twenty)())\n",
    "# print(re_twenty()) # equal to the above code\n",
    "# automatically print in jupyter but not in python\n",
    "\n",
    "from django.contrib.auth.decorators import login_required\n",
    "@login_required\n",
    "def voiceassistantdeviceregister(request):\n",
    "    if request.method == \"POST\":\n",
    "        form = VoiceAssistantDeviceRegisterForm(request.POST, request=request)\n",
    "        if form.is_valid():\n",
    "            form.save()\n",
    "    else:\n",
    "        form = VoiceAssistantDeviceRegisterForm(request=request)\n",
    "    return render(request, \"voiceassistant/registerdevice.html\", {'form': form})"
   ]
  },
  {
   "cell_type": "code",
   "execution_count": 17,
   "metadata": {},
   "outputs": [
    {
     "name": "stdout",
     "output_type": "stream",
     "text": [
      "Allowed\n",
      "<function wrapper at 0x0000000006F35A58>\n",
      "None\n"
     ]
    }
   ],
   "source": [
    "def checkage(func):\n",
    "    def wrapper(a):\n",
    "        if func(a) < 18:\n",
    "            print \"Not allowed\"\n",
    "        else:\n",
    "            print \"Allowed\"\n",
    "    return wrapper\n",
    "\n",
    "def processdata(a):\n",
    "    return a\n",
    "\n",
    "d=checkage(processdata) # return the wrapper function, func=processdata\n",
    "c=checkage(processdata)(23) # a=23, processdata(23) return 23, so eventually it will return Allowed\n",
    "print d\n",
    "print c"
   ]
  },
  {
   "cell_type": "code",
   "execution_count": 18,
   "metadata": {},
   "outputs": [
    {
     "name": "stdout",
     "output_type": "stream",
     "text": [
      "Not allowed\n"
     ]
    }
   ],
   "source": [
    "def checkage(func):\n",
    "    def wrapper(a):\n",
    "        if func(a) < 18:\n",
    "            print \"Not allowed\"\n",
    "        else:\n",
    "            print \"Allowed\"\n",
    "    return wrapper\n",
    "\n",
    "@checkage\n",
    "def processdata(a):\n",
    "    return a\n",
    "# @checkage\n",
    "# @dec1\n",
    "# equal to checkage(dec1(...))\n",
    "processdata(12)\n",
    "# you don't need to know checkage function, the base library builder hide some unnecessary info to the user (application writer)"
   ]
  },
  {
   "cell_type": "code",
   "execution_count": 22,
   "metadata": {},
   "outputs": [
    {
     "name": "stdout",
     "output_type": "stream",
     "text": [
      "The time to run the function 'fun' is 0.238785242953 seconds\n",
      "The time to run the function 'fun' is 0.000375740380377 seconds\n",
      "None\n"
     ]
    }
   ],
   "source": [
    "import time\n",
    "def timeit(func):\n",
    "    def wrapper(*args):\n",
    "        t = time.clock()\n",
    "        res = func(*args)\n",
    "        print \"The time to run the function '%s' is %s seconds\" %(func.func_name, time.clock()-t)\n",
    "        return res\n",
    "    return wrapper\n",
    "@timeit\n",
    "def fun(n):\n",
    "    a = [i*i for i in range(n)]\n",
    "     \n",
    "fun(1000000)\n",
    "# with decorators, calling fun, it actually return the wrapper function, so n will pass into wrapper as *args\n",
    "print(fun(1000))\n",
    "# it will print out wrapper function return value, which is res, and res is the return value of fun, which is None\n",
    "# consistent behaviour, always get the pass-in func output value and return it at the wrapper function"
   ]
  },
  {
   "cell_type": "code",
   "execution_count": null,
   "metadata": {
    "collapsed": true
   },
   "outputs": [],
   "source": [
    "# Action Items\n",
    "# Closure\n",
    "# decorators"
   ]
  }
 ],
 "metadata": {
  "kernelspec": {
   "display_name": "Python 2",
   "language": "python",
   "name": "python2"
  },
  "language_info": {
   "codemirror_mode": {
    "name": "ipython",
    "version": 2
   },
   "file_extension": ".py",
   "mimetype": "text/x-python",
   "name": "python",
   "nbconvert_exporter": "python",
   "pygments_lexer": "ipython2",
   "version": "2.7.14"
  }
 },
 "nbformat": 4,
 "nbformat_minor": 1
}
