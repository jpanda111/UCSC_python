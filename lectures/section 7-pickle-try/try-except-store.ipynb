{
 "cells": [
  {
   "cell_type": "markdown",
   "metadata": {},
   "source": [
    "In this notebook we will discuss \n",
    "\n",
    "1. Error handling using try-except \n",
    "\n",
    "2. Creating custom exceptions \n",
    "\n",
    "3. Storing Python objects using \n",
    "\n",
    "    a. Pickle\n",
    "    \n",
    "    b. Shelve "
   ]
  },
  {
   "cell_type": "markdown",
   "metadata": {},
   "source": [
    "What is an exception?\n",
    "\n",
    "An exception is raised when a program has an error. Error handling is used to take care of \n",
    "exceptions so that when there is no exception then the program runs smoothly and in case \n",
    "of an error, the error handler can fix the problem or handle it so that the program can \n",
    "be continued. \n",
    "\n",
    "try-except is a construct that handles exceptions.\n",
    "\n",
    "Check this link \n",
    "http://www.python-course.eu/exception_handling.php\n",
    "\n",
    "List of Python builtin exceptions can be found at\n",
    "https://docs.python.org/2/library/exceptions.html"
   ]
  },
  {
   "cell_type": "code",
   "execution_count": 7,
   "metadata": {},
   "outputs": [
    {
     "name": "stdout",
     "output_type": "stream",
     "text": [
      "10\n"
     ]
    }
   ],
   "source": [
    "a = 10\n",
    "b = 0\n",
    "try:\n",
    "    c = a/b\n",
    "except ZeroDivisionError:\n",
    "    c = a\n",
    "\n",
    "print c"
   ]
  },
  {
   "cell_type": "code",
   "execution_count": null,
   "metadata": {},
   "outputs": [],
   "source": [
    "'''\n",
    "Instead of quitting after encountering the ZeroDivisionError, in this \n",
    "case we are assigning a new value to c so that the program can continue.\n",
    "'''\n",
    "\n",
    "try:\n",
    "    c = a/b\n",
    "except ZeroDivisionError:\n",
    "    c = a\n",
    "\n",
    "# Instead of quitting after encountering the ZeroDivisionError, in this \n",
    "# case we are assigning a new value to c so that the program can continue.\n",
    "\n",
    "print c    "
   ]
  },
  {
   "cell_type": "code",
   "execution_count": 11,
   "metadata": {},
   "outputs": [
    {
     "name": "stdout",
     "output_type": "stream",
     "text": [
      "3987 <type 'int'>\n"
     ]
    }
   ],
   "source": [
    "# Since the string can't be converted to an int, ValueError exception \n",
    "# will be raised\n",
    "try:\n",
    "    a = int('92384g')\n",
    "except ValueError:\n",
    "    a= 3987\n",
    "print a, type(a)"
   ]
  },
  {
   "cell_type": "code",
   "execution_count": 1,
   "metadata": {},
   "outputs": [
    {
     "name": "stdout",
     "output_type": "stream",
     "text": [
      "The error message is - Not a number.\n",
      "The error message is - Cannot divide by zero.\n"
     ]
    },
    {
     "ename": "NameError",
     "evalue": "name 'b' is not defined",
     "output_type": "error",
     "traceback": [
      "\u001b[1;31m\u001b[0m",
      "\u001b[1;31mNameError\u001b[0mTraceback (most recent call last)",
      "\u001b[1;32m<ipython-input-1-35b8af44fcd1>\u001b[0m in \u001b[0;36m<module>\u001b[1;34m()\u001b[0m\n\u001b[0;32m      6\u001b[0m     \u001b[1;32mprint\u001b[0m \u001b[1;34m'The error message is - Not a number.'\u001b[0m\u001b[1;33m\u001b[0m\u001b[0m\n\u001b[0;32m      7\u001b[0m     \u001b[1;32mprint\u001b[0m \u001b[1;34m'The error message is - Cannot divide by zero.'\u001b[0m\u001b[1;33m\u001b[0m\u001b[0m\n\u001b[1;32m----> 8\u001b[1;33m \u001b[1;32mprint\u001b[0m\u001b[1;33m(\u001b[0m\u001b[0mb\u001b[0m\u001b[1;33m,\u001b[0m\u001b[0me\u001b[0m\u001b[1;33m,\u001b[0m\u001b[0mc\u001b[0m\u001b[1;33m)\u001b[0m\u001b[1;33m\u001b[0m\u001b[0m\n\u001b[0m",
      "\u001b[1;31mNameError\u001b[0m: name 'b' is not defined"
     ]
    }
   ],
   "source": [
    "try:\n",
    "    e = int('92384g')\n",
    "    b = 0\n",
    "    c = e/b\n",
    "except:\n",
    "    print 'The error message is - Not a number.'\n",
    "    print 'The error message is - Cannot divide by zero.'\n",
    "print(b,e,c)\n",
    "# try block failed at e, it will exit try so we don't have chance to evaluate to b and c"
   ]
  },
  {
   "cell_type": "code",
   "execution_count": null,
   "metadata": {},
   "outputs": [],
   "source": [
    "try:\n",
    "    e = int('92384g')\n",
    "    b = 12\n",
    "    c = 0\n",
    "    d = e/c\n",
    "except ValueError as v:\n",
    "    print 'Not a number.  The error message is',v\n",
    "except ZeroDivisionError as z:\n",
    "    print 'Cannot divide by zero.  The error message is',z  "
   ]
  },
  {
   "cell_type": "code",
   "execution_count": 5,
   "metadata": {},
   "outputs": [
    {
     "name": "stdout",
     "output_type": "stream",
     "text": [
      "Not a number.  The error message is invalid literal for int() with base 10: '92384g'\n",
      "Cannot divide by zero.  The error message is integer division or modulo by zero\n"
     ]
    }
   ],
   "source": [
    "try:\n",
    "    a = int('92384g')\n",
    "except ValueError as v:\n",
    "    print 'Not a number.  The error message is',v\n",
    "    \n",
    "b = 12\n",
    "c = 0\n",
    "try:   \n",
    "    d = b/c\n",
    "except ZeroDivisionError as z:\n",
    "    print 'Cannot divide by zero.  The error message is',z\n",
    "    d=b\n",
    "# right way to write try/except is to check only one thing at one time, not to check multiple thing at one time"
   ]
  },
  {
   "cell_type": "markdown",
   "metadata": {},
   "source": [
    "try-except-else: the else clause has to placed after all the exceptions and \n",
    "else clause will be executed when the try clause doesn't raise any exceptions\n",
    "\n",
    "syntax\n",
    "```\n",
    "try:\n",
    "    execute try statements\n",
    "    \n",
    "except exception1:\n",
    "    If there is exception1, then execute this block\n",
    "\n",
    "except exception2:\n",
    "    If there is exception2, then execute this block\n",
    "    \n",
    "else:\n",
    "    If there is no exception, then execute this block\n",
    "```"
   ]
  },
  {
   "cell_type": "code",
   "execution_count": 6,
   "metadata": {},
   "outputs": [
    {
     "name": "stdout",
     "output_type": "stream",
     "text": [
      "Is a number\n",
      "I am all done\n"
     ]
    }
   ],
   "source": [
    "try:\n",
    "    a = int('92')\n",
    "except ValueError:\n",
    "    a = 10\n",
    "    print 'a is not a number. Gave a new value = ', a\n",
    "else:\n",
    "    print 'Is a number'\n",
    "finally:\n",
    "    print \"I am all done\""
   ]
  },
  {
   "cell_type": "markdown",
   "metadata": {},
   "source": [
    "To enforce clean-up or termination clauses there is try-finally or \n",
    "try-except-finally. Finally clause will be executed no matter whether an \n",
    "exception occurs or not.\n",
    "\n",
    "syntax\n",
    "```\n",
    "try:\n",
    "    execute statements\n",
    "    \n",
    "    if an exception occurs, then this may be skipped\n",
    "    \n",
    "except e1:\n",
    "    statement to execute if there is an exception\n",
    "\n",
    "else:\n",
    "    statements to execute if no exceptions are not raised\n",
    "    \n",
    "finally:\n",
    "        this will always be executed no matter whether an exception is \n",
    "        raised or not\n",
    "```"
   ]
  },
  {
   "cell_type": "code",
   "execution_count": 8,
   "metadata": {},
   "outputs": [
    {
     "name": "stdout",
     "output_type": "stream",
     "text": [
      "File not found.\n",
      "There is no file by this name.\n"
     ]
    }
   ],
   "source": [
    "try:\n",
    "    f = open(\"test1.txt\",\"r\")\n",
    "    f.readlines()\n",
    "    \n",
    "except IOError:\n",
    "    print \"File not found.\"\n",
    "    \n",
    "finally: # get called no matter try or except\n",
    "    print \"There is no file by this name.\"\n",
    "# still work but not good way to program. Method inside class instead of standalone function, same apply here.\n",
    "# print \"There is no file by this name.\""
   ]
  },
  {
   "cell_type": "markdown",
   "metadata": {},
   "source": [
    "Note - the major difference between else clause and finally clause is that else clause will get executed only when no exceptions are raised. Whereas finally clause gets executed no matter whether an exception is raised or not. "
   ]
  },
  {
   "cell_type": "code",
   "execution_count": 9,
   "metadata": {},
   "outputs": [
    {
     "name": "stdout",
     "output_type": "stream",
     "text": [
      "10\n"
     ]
    }
   ],
   "source": [
    "a = 10\n",
    "b = 0\n",
    "try:\n",
    "    c = a/b\n",
    "except ZeroDivisionError:\n",
    "    c = a\n",
    "finally:\n",
    "    print c"
   ]
  },
  {
   "cell_type": "markdown",
   "metadata": {},
   "source": [
    "Custom Exceptions \n",
    "\n",
    "Custom exception has to be a class and it has to inherit from Python \n",
    "Exception class.\n",
    "\n",
    "Syntax for a simple custom exception without an error message\n",
    "\n",
    "```\n",
    "class exception_name(Exception):\n",
    "    pass\n",
    "```\n",
    "\n",
    "Syntax for a simple custom exception with an error message\n",
    "\n",
    "```\n",
    "class exception_name(Exception):\n",
    "    def __str__(self):\n",
    "        return \"custom message\"\n",
    "```"
   ]
  },
  {
   "cell_type": "code",
   "execution_count": 11,
   "metadata": {},
   "outputs": [
    {
     "name": "stdout",
     "output_type": "stream",
     "text": [
      "Too Small\n"
     ]
    }
   ],
   "source": [
    "class TooSmallError(Exception): # child class from parent class: Exception\n",
    "    pass\n",
    "\n",
    "class TooLargeError(Exception):\n",
    "    pass\n",
    "\n",
    "def checkval(val,limit):\n",
    "    if val < limit:\n",
    "        #raise TooSmallError\n",
    "        b=0\n",
    "        a=2/b\n",
    "        print(\"after too small error\") # never executed\n",
    "    else:\n",
    "        raise TooLargeError\n",
    "        \n",
    "\n",
    "limit = 100\n",
    "a = 50\n",
    "try:\n",
    "    checkval(a,limit) # it will raise TooSmallError\n",
    "except TooSmallError:\n",
    "    print \"Too Small\"\n",
    "except TooLargeError:\n",
    "    print \"Too Large\"  \n",
    "except ZeroDivisionError:\n",
    "    print \"Found zero\"\n",
    "\n",
    "# raise/throw exception\n",
    "# handle/catch exception\n",
    "# try/except inside function\n",
    "# if we have a serious problem, we need to inform the caller, so we raise exception inside that try-except block, (re-raise exceptions)\n",
    "# and put function inside another try/except block\n",
    "\n",
    "# train/test; inside train, do K-fold cross validation"
   ]
  },
  {
   "cell_type": "code",
   "execution_count": 33,
   "metadata": {},
   "outputs": [
    {
     "name": "stdout",
     "output_type": "stream",
     "text": [
      "input coefficients of a quadratic as a tuple:(1,2,3,4)\n"
     ]
    },
    {
     "ename": "ValueError",
     "evalue": "invalid literal for int() with base 10: '(1,2,3,4)'",
     "output_type": "error",
     "traceback": [
      "\u001b[1;31m\u001b[0m",
      "\u001b[1;31mValueError\u001b[0mTraceback (most recent call last)",
      "\u001b[1;32m<ipython-input-33-526ce55e7c20>\u001b[0m in \u001b[0;36m<module>\u001b[1;34m()\u001b[0m\n\u001b[0;32m      8\u001b[0m '''\n\u001b[0;32m      9\u001b[0m \u001b[0minput\u001b[0m\u001b[1;33m=\u001b[0m \u001b[0mraw_input\u001b[0m\u001b[1;33m(\u001b[0m\u001b[1;34m\"input coefficients of a quadratic as a tuple:\"\u001b[0m\u001b[1;33m)\u001b[0m\u001b[1;33m\u001b[0m\u001b[0m\n\u001b[1;32m---> 10\u001b[1;33m \u001b[0mcoefs\u001b[0m \u001b[1;33m=\u001b[0m \u001b[0mint\u001b[0m\u001b[1;33m(\u001b[0m\u001b[0minput\u001b[0m\u001b[1;33m)\u001b[0m\u001b[1;33m\u001b[0m\u001b[0m\n\u001b[0m\u001b[0;32m     11\u001b[0m \u001b[1;32mprint\u001b[0m \u001b[0minput\u001b[0m\u001b[1;33m[\u001b[0m\u001b[1;36m0\u001b[0m\u001b[1;33m]\u001b[0m\u001b[1;33m\u001b[0m\u001b[0m\n\u001b[0;32m     12\u001b[0m \u001b[1;31m#def checkzero(t):\u001b[0m\u001b[1;33m\u001b[0m\u001b[1;33m\u001b[0m\u001b[0m\n",
      "\u001b[1;31mValueError\u001b[0m: invalid literal for int() with base 10: '(1,2,3,4)'"
     ]
    }
   ],
   "source": [
    "'''\n",
    "In-class activity for custom exception\n",
    "\n",
    "You should ask user to input coefficients of a quadratic as a tuple. \n",
    "Then you check to see if the first coefficient is zero. If it is, \n",
    "then you should raise a custom exception. So you should write a \n",
    "custom exception class called CoeffZeroError. \n",
    "'''\n",
    "input= raw_input(\"input coefficients of a quadratic as a tuple:\")\n",
    "\n",
    "\n",
    "print input[0]\n",
    "#def checkzero(t):\n",
    "#    if t[0]\n",
    "#try:\n",
    "#    input\n"
   ]
  },
  {
   "cell_type": "markdown",
   "metadata": {},
   "source": [
    "Pickle module\n",
    "\n",
    "A pickle converts Python objects to bytes that can be stored or transmitted \n",
    "(not secure). The CPickle module implemented using C is faster than pickle \n",
    "that is implemented using Python. Pickle can handle unicode objects. \n",
    "A \"shelf\" is a persistent, dictionary-like object. \n",
    "\n",
    "Check out the following links to learn more \n",
    "https://freepythontips.wordpress.com/2013/08/02/what-is-pickle-in-python/\n"
   ]
  },
  {
   "cell_type": "code",
   "execution_count": 12,
   "metadata": {},
   "outputs": [],
   "source": [
    "# xml, jason... different objects have different serializer/deserializer, to understand basic info of the instance\n",
    "# use pickle make things easier, convert python object into byte format, store somewhere\n",
    "# python3 pickle = python2 cPickle\n",
    "# check if python2 or python3, one way to use try-except blocks\n",
    "try:\n",
    "   import cPickle as pickle # python 2\n",
    "except:\n",
    "   import pickle # python 3"
   ]
  },
  {
   "cell_type": "code",
   "execution_count": 14,
   "metadata": {},
   "outputs": [
    {
     "name": "stdout",
     "output_type": "stream",
     "text": [
      "Read values are:\n",
      "[{'a': '1', 'c': 3, 'b': 2}]\n",
      "{'e': 5, 'd': 4}\n"
     ]
    }
   ],
   "source": [
    "d1 = [ { 'a':'1', 'b':2, 'c':3 } ]\n",
    "d2 = {'d':4,'e':5}\n",
    "\n",
    "f = open('pickle.ck','wb') # much efficient to read/write as binary\n",
    "pickle.dump(d1,f) # this command dumps d1 into the file pickle.ck\n",
    "pickle.dump(d2,f) # this command dumps d2 into the file pickle.ck\n",
    "f.close()\n",
    "\n",
    "f = open('pickle.ck','rb')\n",
    "nd1 = pickle.load(f)\n",
    "nd2 = pickle.load(f)\n",
    "f.close()\n",
    "\n",
    "# the sequence in pickle is FIFO, reason related to check points\n",
    "print 'Read values are:\\n',\n",
    "print nd1\n",
    "print nd2"
   ]
  },
  {
   "cell_type": "code",
   "execution_count": 17,
   "metadata": {},
   "outputs": [
    {
     "name": "stdout",
     "output_type": "stream",
     "text": [
      "[{'a': '1', 'c': 3, 'b': 2}]\n",
      "{'e': 5, 'd': 4}\n"
     ]
    }
   ],
   "source": [
    "f = open('pickle.ck','rb')\n",
    "n1 = pickle.load(f)\n",
    "print n1\n",
    "n2 = pickle.load(f)\n",
    "print n2\n",
    "\n",
    "'''\n",
    "We have read all the information that needs to be read.  \n",
    "The following will give an error.\n",
    "'''\n",
    "\n",
    "# nd3 = pickle.load(f): this will cause EOFerror (end of file error)\n",
    "# if you don't how many inside pickle, you can do for-loop, inside put a try-except block, if okay, execute, if not, just break or raise an error msg\n",
    "f.close()"
   ]
  },
  {
   "cell_type": "code",
   "execution_count": 18,
   "metadata": {},
   "outputs": [],
   "source": [
    "tuple1 = (-2,4,10,)\n",
    "f = open('pickle.ck','wb')\n",
    "pickle.dump(tuple1,f)"
   ]
  },
  {
   "cell_type": "code",
   "execution_count": 22,
   "metadata": {},
   "outputs": [
    {
     "name": "stdout",
     "output_type": "stream",
     "text": [
      "(-2, 4, 10)\n",
      "(1, 3, 4)\n",
      "1\n",
      "3\n",
      "4\n"
     ]
    }
   ],
   "source": [
    "f = open('pickle.ck','rb')\n",
    "new1 = pickle.load(f)\n",
    "print new1\n",
    "\n",
    "def f():\n",
    "    return 1,3,4\n",
    "a=f()\n",
    "print(a) # python only return one thing, if you want to return multiple things, python will return a tuple, called tuple packing\n",
    "a,b,c=f()\n",
    "print(a)\n",
    "print(b)\n",
    "print(c) # you can assign multiple return to multiple variables, called tuple unpacking\n",
    "# python 3 you can do the following:\n",
    "# a, *b = f() # first item stored in a, the rest in b as a list\n",
    "# *a, b = f() # same thing but b takes the last item"
   ]
  },
  {
   "cell_type": "code",
   "execution_count": 30,
   "metadata": {},
   "outputs": [
    {
     "name": "stdout",
     "output_type": "stream",
     "text": [
      "{'courses': ('math', 'english'), 'name': 'Dai', 'year': 'senior'}\n",
      "{'courses': ('python', 'R'), 'name': 'Jessie', 'year': 'Junior'}\n",
      "{'courses': ('math', 'english'), 'name': 'Dai', 'year': 'senior'}\n",
      "{'courses': ('python', 'R'), 'name': 'Jessie', 'year': 'Junior'}\n"
     ]
    }
   ],
   "source": [
    "'''\n",
    "In-class activity on pickle - create a class called studentcourse. The class \n",
    "has to take the information: student name, year in college \n",
    "(freshman, sophomore, junior or senior) and two \n",
    "courses. Now store the information in a pickle file. The open the pickle \n",
    "file and print the contents. \n",
    "'''\n",
    "class StudentCourse(object):\n",
    "    def __init__(self, name, year, courses):\n",
    "        self.name = name\n",
    "        self.year = year\n",
    "        self.courses = courses\n",
    "\n",
    "s1 = StudentCourse('Dai','Senior',('Math','English'))\n",
    "s2 = StudentCourse('Jessie','Junior',('Python','R'))\n",
    "print(s1.__dict__)\n",
    "print(s2.__dict__)\n",
    "\n",
    "f = open('pickle.ck','wb')\n",
    "pickle.dump(s1, f)\n",
    "pickle.dump(s2, f)\n",
    "f.close()\n",
    "f = open('pickle.ck','rb')\n",
    "t1 = pickle.load(f)\n",
    "t2 = pickle.load(f)\n",
    "f.close()\n",
    "\n",
    "print t1.__dict__\n",
    "print t2.__dict__\n",
    "\n",
    "# pickle very useful for checkpoint\n",
    "# store every variable at end of each iteration in pickle files; \n",
    "# if it crashed, check pickle file when you re-run, and re-assign all the stored variables."
   ]
  },
  {
   "cell_type": "markdown",
   "metadata": {},
   "source": [
    "Shelve module can be used to store and retrieve Python objects easily.\n",
    "Shelve uses anydbm to store the data. Check out the following link \n",
    "for more information.\n",
    "More reading material: \n",
    "http://pymotw.com/2/shelve/"
   ]
  },
  {
   "cell_type": "code",
   "execution_count": 2,
   "metadata": {},
   "outputs": [
    {
     "name": "stdout",
     "output_type": "stream",
     "text": [
      "{'second': ['apple', 'mango', 'pineapple'], 'first': {'a': '1', 'c': 3, 'b': 2}, 'firstdict': [{'a': '1', 'c': 3, 'b': 2}]}\n"
     ]
    }
   ],
   "source": [
    "# persistent dictionary, set the key to find right object\n",
    "import shelve\n",
    "d1 = { 'a':'1', 'b':2, 'c':3 }\n",
    "list1 = ['apple', 'mango', 'pineapple']\n",
    "s = shelve.open('fruit.sv') # opens the shelve\n",
    "try:\n",
    "    s['first'] = d1\n",
    "    s['second'] = list1\n",
    "finally:\n",
    "    print s\n",
    "    s.close() # write everything in one shelve unless you close it"
   ]
  },
  {
   "cell_type": "code",
   "execution_count": 3,
   "metadata": {},
   "outputs": [
    {
     "name": "stdout",
     "output_type": "stream",
     "text": [
      "{'a': '1', 'c': 3, 'b': 2}\n"
     ]
    }
   ],
   "source": [
    "import shelve\n",
    "s = shelve.open('fruit.sv','r')\n",
    "try:\n",
    "    newd = s['first']\n",
    "finally:\n",
    "    s.close()\n",
    "print newd"
   ]
  },
  {
   "cell_type": "code",
   "execution_count": 9,
   "metadata": {},
   "outputs": [
    {
     "name": "stdout",
     "output_type": "stream",
     "text": [
      "[{'a': '1', 'c': 3, 'b': 2}]\n"
     ]
    }
   ],
   "source": [
    "import shelve\n",
    "d3 = [ { 'a':'1', 'b':2, 'c':3 } ]\n",
    "# Write back uses in-memory cache. All items in cache are written to the shelve \n",
    "# when it is closed.\n",
    "s = shelve.open('fruit.sv',writeback=True)\n",
    "try:\n",
    "    s['firstdict'] = d3\n",
    "    print(s['firstdict'])\n",
    "finally:\n",
    "    s.close()"
   ]
  },
  {
   "cell_type": "code",
   "execution_count": 10,
   "metadata": {},
   "outputs": [
    {
     "name": "stdout",
     "output_type": "stream",
     "text": [
      "['apple', 'mango', 'pineapple']\n"
     ]
    }
   ],
   "source": [
    "import shelve\n",
    "s = shelve.open('fruit.sv')\n",
    "if 'second' in s: # we are checking if the key second exists\n",
    "    print s['second']"
   ]
  },
  {
   "cell_type": "code",
   "execution_count": 11,
   "metadata": {},
   "outputs": [
    {
     "name": "stdout",
     "output_type": "stream",
     "text": [
      "[{'a': '1', 'c': 3, 'b': 2}]\n"
     ]
    }
   ],
   "source": [
    "import shelve\n",
    "s = shelve.open('fruit.sv')\n",
    "if 'firstdict' in s: # we are checking if the key firstdict exists\n",
    "    print s['firstdict']"
   ]
  },
  {
   "cell_type": "markdown",
   "metadata": {},
   "source": [
    "Note - the major difference between pickle and shelve is that pickle \n",
    "stores the objects one at a time and objects can only be retrieved in \n",
    "the order they were written. Whereas objects in shelve can be \n",
    "accessed in any order. "
   ]
  },
  {
   "cell_type": "code",
   "execution_count": 15,
   "metadata": {},
   "outputs": [
    {
     "name": "stdout",
     "output_type": "stream",
     "text": [
      "{'courses': ('Math', 'English'), 'name': 'Dai', 'year': 'Senior'}\n",
      "{'courses': ('Python', 'R'), 'name': 'Jessie', 'year': 'Junior'}\n",
      "{'courses': ('Math', 'English'), 'name': 'Dai', 'year': 'Senior'}\n",
      "{'courses': ('Python', 'R'), 'name': 'Jessie', 'year': 'Junior'}\n"
     ]
    }
   ],
   "source": [
    "'''\n",
    "In-class activity on shelve - create a class called studentcourse. The \n",
    "class has to take the information: student name, year in college \n",
    "(freshman, sophomore, junior or senior) and two courses. Now store the \n",
    "information in a shelve file. The open the shelve file and print the \n",
    "contents. Use the code from the in-class activity for pickle and \n",
    "modify it.\n",
    "'''\n",
    "class StudentCourse(object):\n",
    "    def __init__(self, name, year, courses):\n",
    "        self.name = name\n",
    "        self.year = year\n",
    "        self.courses = courses\n",
    "\n",
    "s1 = StudentCourse('Dai','Senior',('Math','English'))\n",
    "s2 = StudentCourse('Jessie','Junior',('Python','R'))\n",
    "print(s1.__dict__)\n",
    "print(s2.__dict__)\n",
    "\n",
    "s = shelve.open('test.sv')\n",
    "try:\n",
    "    s['s1'] = s1.__dict__\n",
    "    s['s2'] = s2.__dict__\n",
    "finally:\n",
    "    print s['s1']\n",
    "    print s['s2']\n",
    "    s.close()\n"
   ]
  },
  {
   "cell_type": "code",
   "execution_count": null,
   "metadata": {},
   "outputs": [],
   "source": []
  }
 ],
 "metadata": {
  "kernelspec": {
   "display_name": "Python 2",
   "language": "python",
   "name": "python2"
  },
  "language_info": {
   "codemirror_mode": {
    "name": "ipython",
    "version": 2
   },
   "file_extension": ".py",
   "mimetype": "text/x-python",
   "name": "python",
   "nbconvert_exporter": "python",
   "pygments_lexer": "ipython2",
   "version": "2.7.14"
  }
 },
 "nbformat": 4,
 "nbformat_minor": 1
}
